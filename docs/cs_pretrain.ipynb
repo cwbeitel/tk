{
 "cells": [
  {
   "cell_type": "markdown",
   "metadata": {},
   "source": [
    "## Pretraining experiment\n",
    "\n",
    "Let's experiment with pre-training the embedding networks in the code_search example. \n"
   ]
  },
  {
   "cell_type": "code",
   "execution_count": 1,
   "metadata": {},
   "outputs": [],
   "source": [
    "\n",
    "import csv\n",
    "from six import StringIO\n",
    "import tempfile\n",
    "\n",
    "from tensor2tensor.data_generators import problem\n",
    "from tensor2tensor.layers import common_layers\n",
    "from tensor2tensor.models import transformer\n",
    "from tensor2tensor.utils import registry\n",
    "from tensor2tensor.utils import t2t_model\n",
    "\n",
    "from tensor2tensor.data_generators import generator_utils\n",
    "from tensor2tensor.data_generators import text_problems\n",
    "from tensor2tensor.utils import metrics\n",
    "\n",
    "import tensorflow as tf\n",
    "\n",
    "import tk\n",
    "\n",
    "from tk.models import similarity_transformer\n",
    "\n",
    "from tensorflow.contrib.eager.python import tfe\n",
    "tfe.enable_eager_execution()\n",
    "Modes = tf.estimator.ModeKeys\n"
   ]
  },
  {
   "cell_type": "markdown",
   "metadata": {},
   "source": [
    "## Base problem"
   ]
  },
  {
   "cell_type": "code",
   "execution_count": 2,
   "metadata": {},
   "outputs": [],
   "source": [
    "\n",
    "@registry.register_problem\n",
    "class GithubFunctionDocstring(text_problems.Text2TextProblem):\n",
    "  \"\"\"Function and Docstring similarity Problem.\n",
    "  This problem contains the data consisting of function\n",
    "  and docstring pairs as CSV files. The files are structured\n",
    "  such that they contain two columns without headers containing\n",
    "  the docstring tokens and function tokens. The delimiter is\n",
    "  \",\".\n",
    "  \"\"\"\n",
    "\n",
    "  DATA_PATH_PREFIX = \"gs://kubeflow-examples/t2t-code-search/raw_data\"\n",
    "\n",
    "  @property\n",
    "  def pair_files_list(self):\n",
    "    \"\"\"Return URL and file names.\n",
    "    This format is a convention across the Tensor2Tensor (T2T)\n",
    "    codebase. It should be noted that the file names are currently\n",
    "    hardcoded. This is to preserve the semantics of a T2T problem.\n",
    "    In case a change of these values is desired, one must subclass\n",
    "    and override this property.\n",
    "    # TODO(sanyamkapoor): Manually separate train/eval data set.\n",
    "    Returns:\n",
    "      A list of the format,\n",
    "        [\n",
    "          [\n",
    "            \"STRING\",\n",
    "            (\"STRING\", \"STRING\", ...)\n",
    "          ],\n",
    "          ...\n",
    "        ]\n",
    "      Each element is a list of size 2 where the first represents\n",
    "      the source URL and the next is an n-tuple of file names.\n",
    "      In this case, the tuple is of size 1 because the URL points\n",
    "      to a file itself.\n",
    "    \"\"\"\n",
    "    return [\n",
    "        [\n",
    "            \"{}/func-doc-pairs-000{:02}-of-00100.csv\".format(\n",
    "                self.DATA_PATH_PREFIX, i),\n",
    "            (\"func-doc-pairs-000{:02}-of-00100.csv\".format(i),)\n",
    "        ]\n",
    "        for i in range(1)\n",
    "    ]\n",
    "\n",
    "  @property\n",
    "  def is_generate_per_split(self):\n",
    "    return False\n",
    "\n",
    "  @property\n",
    "  def approx_vocab_size(self):\n",
    "    return 2**13\n",
    "\n",
    "  @property\n",
    "  def max_samples_for_vocab(self):\n",
    "    # FIXME(sanyamkapoor): This exists to handle memory explosion.\n",
    "    return int(2e5)\n",
    "\n",
    "  def get_csv_files(self, _data_dir, tmp_dir, _dataset_split):\n",
    "    return [\n",
    "        generator_utils.maybe_download(tmp_dir, file_list[0], uri)\n",
    "        for uri, file_list in self.pair_files_list\n",
    "    ]\n",
    "\n",
    "  def generate_samples(self, data_dir, tmp_dir, dataset_split):\n",
    "    \"\"\"A generator to return data samples.Returns the data generator to return.\n",
    "    Args:\n",
    "      data_dir: A string representing the data directory.\n",
    "      tmp_dir: A string representing the temporary directory and is\n",
    "              used to download files if not already available.\n",
    "      dataset_split: Train, Test or Eval.\n",
    "    Yields:\n",
    "      Each element yielded is of a Python dict of the form\n",
    "        {\"inputs\": \"STRING\", \"targets\": \"STRING\", \"embed_code\": [0]}\n",
    "    \"\"\"\n",
    "    csv_files = self.get_csv_files(data_dir, tmp_dir, dataset_split)\n",
    "\n",
    "    for pairs_file in csv_files:\n",
    "      tf.logging.debug(\"Reading {}\".format(pairs_file))\n",
    "      with tf.gfile.Open(pairs_file) as csv_file:\n",
    "        for line in csv_file:\n",
    "          reader = csv.reader(StringIO(line))\n",
    "          for docstring_tokens, function_tokens in reader:\n",
    "            yield {\n",
    "                \"inputs\": docstring_tokens,\n",
    "                \"targets\": function_tokens,\n",
    "                \"embed_code\": [0]\n",
    "            }\n",
    "\n",
    "  def example_reading_spec(self):\n",
    "    data_fields, data_items_to_decoders = super(GithubFunctionDocstring,\n",
    "                                                self).example_reading_spec()\n",
    "    data_fields[\"embed_code\"] = tf.FixedLenFeature([1], dtype=tf.int64)\n",
    "\n",
    "    data_items_to_decoders = {\n",
    "      \"inputs\": tf.contrib.slim.tfexample_decoder.Tensor(tensor_key=\"inputs\"),\n",
    "      \"targets\": tf.contrib.slim.tfexample_decoder.Tensor(tensor_key=\"targets\"),\n",
    "      \"embed_code\": tf.contrib.slim.tfexample_decoder.Tensor(tensor_key=\"embed_code\")\n",
    "    }\n",
    "    return data_fields, data_items_to_decoders\n",
    "\n",
    "  def eval_metrics(self):  # pylint: disable=no-self-use\n",
    "    return [\n",
    "        metrics.Metrics.ACC\n",
    "    ]\n"
   ]
  },
  {
   "cell_type": "markdown",
   "metadata": {},
   "source": [
    "## Pretraining problems"
   ]
  },
  {
   "cell_type": "code",
   "execution_count": 3,
   "metadata": {},
   "outputs": [],
   "source": [
    "import numpy as np"
   ]
  },
  {
   "cell_type": "code",
   "execution_count": 12,
   "metadata": {},
   "outputs": [],
   "source": [
    "\n",
    "def _random_mask_sequence(sequence):\n",
    "  \"\"\"'quick brown fox' -> 'quick ##### fox'\"\"\"\n",
    "  arr = sequence.split()\n",
    "  ind = np.random.randint(len(arr))\n",
    "  arr[ind] = ''.join([\"#\" for _ in range(0, len(arr[ind]))])\n",
    "  return ' '.join(arr)\n",
    "\n",
    "\n",
    "@registry.register_problem\n",
    "class GithubStringInpaint(GithubFunctionDocstring):\n",
    "  \"\"\"Predict full string from truncated string.\"\"\"\n",
    "\n",
    "  def generate_samples(self, data_dir, tmp_dir, dataset_split):\n",
    "    csv_files = self.get_csv_files(data_dir, tmp_dir, dataset_split)\n",
    "\n",
    "    for pairs_file in csv_files:\n",
    "      tf.logging.debug(\"Reading {}\".format(pairs_file))\n",
    "      with tf.gfile.Open(pairs_file) as csv_file:\n",
    "        for line in csv_file:\n",
    "          reader = csv.reader(StringIO(line))\n",
    "          for docstring_tokens, _ in reader:\n",
    "\n",
    "            example = {\n",
    "                \"inputs\": _random_mask_sequence(docstring_tokens),\n",
    "                \"targets\": docstring_tokens,\n",
    "                \"embed_code\": [0]\n",
    "            }\n",
    "\n",
    "            yield example\n",
    "\n",
    "\n",
    "@registry.register_problem\n",
    "class GithubCodeInpaint(GithubFunctionDocstring):\n",
    "  \"\"\"Code in-painting given randomly ablated regions.\"\"\"\n",
    "\n",
    "  def generate_samples(self, data_dir, tmp_dir, dataset_split):\n",
    "    csv_files = self.get_csv_files(data_dir, tmp_dir, dataset_split)\n",
    "\n",
    "    for pairs_file in csv_files:\n",
    "      tf.logging.debug(\"Reading {}\".format(pairs_file))\n",
    "      with tf.gfile.Open(pairs_file) as csv_file:\n",
    "        for line in csv_file:\n",
    "          reader = csv.reader(StringIO(line))\n",
    "          for _, function_tokens in reader:\n",
    "\n",
    "            example = {\n",
    "                \"inputs\": _random_mask_sequence(function_tokens),\n",
    "                \"targets\": function_tokens,\n",
    "                \"embed_code\": [0]\n",
    "            }\n",
    "\n",
    "            yield example\n"
   ]
  },
  {
   "cell_type": "code",
   "execution_count": 6,
   "metadata": {},
   "outputs": [
    {
     "name": "stdout",
     "output_type": "stream",
     "text": [
      "INFO:tensorflow:Found vocab file: /mnt/nfs-east1-d/data/vocab.github_string_inpaint.8192.subwords\n"
     ]
    },
    {
     "name": "stderr",
     "output_type": "stream",
     "text": [
      "[2018-10-13 19:31:08,006] Found vocab file: /mnt/nfs-east1-d/data/vocab.github_string_inpaint.8192.subwords\n"
     ]
    },
    {
     "name": "stdout",
     "output_type": "stream",
     "text": [
      "INFO:tensorflow:Skipping generator because outputs files exist\n"
     ]
    },
    {
     "name": "stderr",
     "output_type": "stream",
     "text": [
      "[2018-10-13 19:31:08,079] Skipping generator because outputs files exist\n"
     ]
    },
    {
     "name": "stdout",
     "output_type": "stream",
     "text": [
      "INFO:tensorflow:Skipping shuffle because output files exist\n"
     ]
    },
    {
     "name": "stderr",
     "output_type": "stream",
     "text": [
      "[2018-10-13 19:31:08,086] Skipping shuffle because output files exist\n"
     ]
    },
    {
     "name": "stdout",
     "output_type": "stream",
     "text": [
      "INFO:tensorflow:Found vocab file: /mnt/nfs-east1-d/data/vocab.github_code_inpaint.8192.subwords\n"
     ]
    },
    {
     "name": "stderr",
     "output_type": "stream",
     "text": [
      "[2018-10-13 19:31:08,089] Found vocab file: /mnt/nfs-east1-d/data/vocab.github_code_inpaint.8192.subwords\n"
     ]
    },
    {
     "name": "stdout",
     "output_type": "stream",
     "text": [
      "INFO:tensorflow:Skipping generator because outputs files exist\n"
     ]
    },
    {
     "name": "stderr",
     "output_type": "stream",
     "text": [
      "[2018-10-13 19:31:08,157] Skipping generator because outputs files exist\n"
     ]
    },
    {
     "name": "stdout",
     "output_type": "stream",
     "text": [
      "INFO:tensorflow:Skipping shuffle because output files exist\n"
     ]
    },
    {
     "name": "stderr",
     "output_type": "stream",
     "text": [
      "[2018-10-13 19:31:08,163] Skipping shuffle because output files exist\n"
     ]
    }
   ],
   "source": [
    "tmp_dir = \"/mnt/nfs-east1-d/tmp\"\n",
    "data_dir = \"/mnt/nfs-east1-d/data\"\n",
    "string_inpaint_problem = GithubStringInpaint()\n",
    "string_inpaint_problem.generate_data(data_dir, tmp_dir)\n",
    "code_inpaint_problem = GithubCodeInpaint()\n",
    "code_inpaint_problem.generate_data(data_dir, tmp_dir)"
   ]
  },
  {
   "cell_type": "markdown",
   "metadata": {},
   "source": [
    "## Pretraining models"
   ]
  },
  {
   "cell_type": "code",
   "execution_count": 7,
   "metadata": {},
   "outputs": [],
   "source": [
    "\n",
    "from tensor2tensor.models.transformer import Transformer\n",
    "from tk.models.similarity_transformer import similarity_cost\n",
    "\n",
    "\n",
    "@registry.register_model\n",
    "class SimilarityTransformerPTStringEncoding(Transformer):\n",
    "\n",
    "  def encode(self, inputs, target_space, hparams, features=None, losses=None):\n",
    "    with tf.variable_scope(\"string_encoder\"):\n",
    "      return super(SimilarityTransformerPTStringEncoding, self).encode(\n",
    "          inputs, target_space, hparams, features, losses)\n",
    "\n",
    "  def decode(self, decoder_input, encoder_output, encoder_decoder_attention_bias,\n",
    "             decoder_self_attention_bias, hparams, cache=None, nonpadding=None,\n",
    "             losses=None):\n",
    "    with tf.variable_scope(\"string_decoder\"):\n",
    "      return super(SimilarityTransformerPTStringEncoding, self).decode(\n",
    "          decoder_input, encoder_output, encoder_decoder_attention_bias,\n",
    "          decoder_self_attention_bias, hparams, cache, nonpadding,\n",
    "          losses)\n",
    "\n",
    "\n",
    "@registry.register_model\n",
    "class SimilarityTransformerPTCodeEncoding(Transformer):\n",
    "    \n",
    "  def encode(self, inputs, target_space, hparams, features=None, losses=None):\n",
    "    with tf.variable_scope(\"code_encoder\"):\n",
    "      return super(SimilarityTransformerPTCodeEncoding, self).encode(\n",
    "          inputs, target_space, hparams, features, losses)\n",
    "\n",
    "  def decode(self, decoder_input, encoder_output, encoder_decoder_attention_bias,\n",
    "             decoder_self_attention_bias, hparams, cache=None, nonpadding=None,\n",
    "             losses=None):\n",
    "    with tf.variable_scope(\"code_decoder\"):\n",
    "      return super(SimilarityTransformerPTCodeEncoding, self).decode(\n",
    "          decoder_input, encoder_output, encoder_decoder_attention_bias,\n",
    "          decoder_self_attention_bias, hparams, cache, nonpadding,\n",
    "          losses)\n",
    "\n",
    "\n",
    "@registry.register_model\n",
    "class SimilarityTransformerDev(Transformer):\n",
    "\n",
    "  def encode_string(self, inputs, features=None, losses=None):\n",
    "    hparams = self._hparams\n",
    "    target_space = problem.SpaceID.EN_TOK\n",
    "    with tf.variable_scope(\"string_encoder\"):\n",
    "      encoder_output, _ = super(SimilarityTransformerDev, self).encode(\n",
    "          inputs, target_space, hparams, features, losses)\n",
    "      return tf.reduce_mean(encoder_output, axis=1)\n",
    "\n",
    "  def encode_code(self, inputs, features=None, losses=None):\n",
    "    hparams = self._hparams\n",
    "    target_space = problem.SpaceID.EN_TOK\n",
    "    with tf.variable_scope(\"code_encoder\"):\n",
    "      encoder_output, _ = super(SimilarityTransformerDev, self).encode(\n",
    "          inputs, target_space, hparams, features, losses)\n",
    "      return tf.reduce_mean(encoder_output, axis=1)\n",
    "\n",
    "  def body(self, features):\n",
    "    string_embedding = self.encode_string(features[\"inputs\"])\n",
    "    code_embedding = self.encode_code(features[\"targets\"])\n",
    "    loss = self.similarity_cost(string_embedding, code_embedding)    \n",
    "    return string_embedding, {\"training\": loss}\n",
    "\n",
    "  def similarity_cost(self, a, b):\n",
    "    loss_variant = self.hparams.loss_variant\n",
    "    return similarity_cost(a, b, loss_variant)\n",
    "\n",
    "  def infer(self, features=None, **kwargs):\n",
    "    del kwargs\n",
    "    if \"targets\" not in features:\n",
    "      features[\"targets\"] = tf.zeros_like(features[\"inputs\"])\n",
    "    predictions, _ = self(features)\n",
    "    return predictions\n",
    "\n",
    "@registry.register_model\n",
    "class SimilarityTransformerStringEncoder(SimilarityTransformerDev):\n",
    "  \"\"\"String encoder model restricted to string encoding branch.\"\"\"\n",
    "\n",
    "  def body(self, features):\n",
    "    return self.encode_string(features[\"inputs\"]), {\"training\": 0.0}\n",
    "\n",
    "\n",
    "@registry.register_model\n",
    "class SimilarityTransformerCodeEncoder(SimilarityTransformerDev):\n",
    "  \"\"\"Code encoder model restricted to code encoding branch.\"\"\"\n",
    "\n",
    "  def body(self, features):\n",
    "    return self.encode_code(features[\"inputs\"]), {\"training\": 0.0}\n"
   ]
  },
  {
   "cell_type": "code",
   "execution_count": 8,
   "metadata": {},
   "outputs": [],
   "source": [
    "\n",
    "def test_train(problem_object, mfunc):\n",
    "    \n",
    "    hparams = similarity_transformer.similarity_transformer_tiny()\n",
    "    hparams.data_dir = data_dir\n",
    "\n",
    "    p_hparams = problem_object.get_hparams(hparams)\n",
    "\n",
    "    model = mfunc(hparams, tf.estimator.ModeKeys.TRAIN, p_hparams)\n",
    "\n",
    "    batch_size = 1\n",
    "    train_dataset = problem_object.dataset(Modes.TRAIN, data_dir)\n",
    "    train_dataset = train_dataset.repeat(None).batch(batch_size)\n",
    "\n",
    "    optimizer = tf.train.AdamOptimizer()\n",
    "\n",
    "    @tfe.implicit_value_and_gradients\n",
    "    def loss_fn(features):\n",
    "      _, losses = model(features)\n",
    "      return losses[\"training\"]\n",
    "\n",
    "    NUM_STEPS = 10\n",
    "\n",
    "    for count, example in enumerate(tfe.Iterator(train_dataset)):\n",
    "      loss, gv = loss_fn(example)\n",
    "      optimizer.apply_gradients(gv)\n",
    "\n",
    "      if count % 1 == 0:\n",
    "       print(\"Step: %d, Loss: %.3f\" % (count, loss.numpy()))\n",
    "      if count >= NUM_STEPS:\n",
    "       break\n"
   ]
  },
  {
   "cell_type": "code",
   "execution_count": 9,
   "metadata": {},
   "outputs": [
    {
     "name": "stdout",
     "output_type": "stream",
     "text": [
      "INFO:tensorflow:Setting T2TModel mode to 'train'\n"
     ]
    },
    {
     "name": "stderr",
     "output_type": "stream",
     "text": [
      "[2018-10-13 19:30:28,053] Setting T2TModel mode to 'train'\n"
     ]
    },
    {
     "name": "stdout",
     "output_type": "stream",
     "text": [
      "INFO:tensorflow:Reading data files from /mnt/nfs-east1-d/data/github_string_inpaint-train*\n"
     ]
    },
    {
     "name": "stderr",
     "output_type": "stream",
     "text": [
      "[2018-10-13 19:30:28,056] Reading data files from /mnt/nfs-east1-d/data/github_string_inpaint-train*\n"
     ]
    },
    {
     "name": "stdout",
     "output_type": "stream",
     "text": [
      "INFO:tensorflow:partition: 0 num_data_files: 100\n"
     ]
    },
    {
     "name": "stderr",
     "output_type": "stream",
     "text": [
      "[2018-10-13 19:30:28,071] partition: 0 num_data_files: 100\n"
     ]
    },
    {
     "name": "stdout",
     "output_type": "stream",
     "text": [
      "INFO:tensorflow:Transforming feature 'inputs' with symbol_modality_8678_128.bottom\n"
     ]
    },
    {
     "name": "stderr",
     "output_type": "stream",
     "text": [
      "[2018-10-13 19:30:28,368] Transforming feature 'inputs' with symbol_modality_8678_128.bottom\n"
     ]
    },
    {
     "name": "stdout",
     "output_type": "stream",
     "text": [
      "INFO:tensorflow:Transforming 'targets' with symbol_modality_8678_128.targets_bottom\n"
     ]
    },
    {
     "name": "stderr",
     "output_type": "stream",
     "text": [
      "[2018-10-13 19:30:28,434] Transforming 'targets' with symbol_modality_8678_128.targets_bottom\n"
     ]
    },
    {
     "name": "stdout",
     "output_type": "stream",
     "text": [
      "INFO:tensorflow:Building model body\n"
     ]
    },
    {
     "name": "stderr",
     "output_type": "stream",
     "text": [
      "[2018-10-13 19:30:28,440] Building model body\n"
     ]
    },
    {
     "name": "stdout",
     "output_type": "stream",
     "text": [
      "INFO:tensorflow:Transforming body output with symbol_modality_8678_128.top\n"
     ]
    },
    {
     "name": "stderr",
     "output_type": "stream",
     "text": [
      "[2018-10-13 19:30:28,602] Transforming body output with symbol_modality_8678_128.top\n"
     ]
    },
    {
     "name": "stdout",
     "output_type": "stream",
     "text": [
      "Step: 0, Loss: 8.469\n",
      "Step: 1, Loss: 8.375\n",
      "Step: 2, Loss: 8.077\n",
      "Step: 3, Loss: 7.903\n",
      "Step: 4, Loss: 7.895\n",
      "Step: 5, Loss: 7.894\n",
      "Step: 6, Loss: 7.892\n",
      "Step: 7, Loss: 7.960\n",
      "Step: 8, Loss: 7.030\n",
      "Step: 9, Loss: 7.439\n",
      "Step: 10, Loss: 7.007\n"
     ]
    }
   ],
   "source": [
    "test_train(string_inpaint_problem, SimilarityTransformerPTStringEncoding)"
   ]
  },
  {
   "cell_type": "code",
   "execution_count": 9,
   "metadata": {},
   "outputs": [
    {
     "name": "stdout",
     "output_type": "stream",
     "text": [
      "INFO:tensorflow:Setting T2TModel mode to 'train'\n"
     ]
    },
    {
     "name": "stderr",
     "output_type": "stream",
     "text": [
      "[2018-10-13 19:30:47,030] Setting T2TModel mode to 'train'\n"
     ]
    },
    {
     "name": "stdout",
     "output_type": "stream",
     "text": [
      "INFO:tensorflow:Reading data files from /mnt/nfs-east1-d/data/github_code_inpaint-train*\n"
     ]
    },
    {
     "name": "stderr",
     "output_type": "stream",
     "text": [
      "[2018-10-13 19:30:47,034] Reading data files from /mnt/nfs-east1-d/data/github_code_inpaint-train*\n"
     ]
    },
    {
     "name": "stdout",
     "output_type": "stream",
     "text": [
      "INFO:tensorflow:partition: 0 num_data_files: 100\n"
     ]
    },
    {
     "name": "stderr",
     "output_type": "stream",
     "text": [
      "[2018-10-13 19:30:47,047] partition: 0 num_data_files: 100\n"
     ]
    },
    {
     "name": "stdout",
     "output_type": "stream",
     "text": [
      "INFO:tensorflow:Transforming feature 'inputs' with symbol_modality_8216_128.bottom\n"
     ]
    },
    {
     "name": "stderr",
     "output_type": "stream",
     "text": [
      "[2018-10-13 19:30:47,251] Transforming feature 'inputs' with symbol_modality_8216_128.bottom\n"
     ]
    },
    {
     "name": "stdout",
     "output_type": "stream",
     "text": [
      "INFO:tensorflow:Transforming 'targets' with symbol_modality_8216_128.targets_bottom\n"
     ]
    },
    {
     "name": "stderr",
     "output_type": "stream",
     "text": [
      "[2018-10-13 19:30:47,360] Transforming 'targets' with symbol_modality_8216_128.targets_bottom\n"
     ]
    },
    {
     "name": "stdout",
     "output_type": "stream",
     "text": [
      "INFO:tensorflow:Building model body\n"
     ]
    },
    {
     "name": "stderr",
     "output_type": "stream",
     "text": [
      "[2018-10-13 19:30:47,366] Building model body\n"
     ]
    },
    {
     "name": "stdout",
     "output_type": "stream",
     "text": [
      "INFO:tensorflow:Transforming body output with symbol_modality_8216_128.top\n"
     ]
    },
    {
     "name": "stderr",
     "output_type": "stream",
     "text": [
      "[2018-10-13 19:30:47,589] Transforming body output with symbol_modality_8216_128.top\n"
     ]
    },
    {
     "name": "stdout",
     "output_type": "stream",
     "text": [
      "Step: 0, Loss: 8.063\n",
      "Step: 1, Loss: 8.031\n",
      "Step: 2, Loss: 7.606\n",
      "Step: 3, Loss: 7.603\n",
      "Step: 4, Loss: 7.843\n",
      "Step: 5, Loss: 8.285\n",
      "Step: 6, Loss: 6.998\n",
      "Step: 7, Loss: 8.000\n",
      "Step: 8, Loss: 8.087\n",
      "Step: 9, Loss: 7.011\n",
      "Step: 10, Loss: 7.257\n"
     ]
    }
   ],
   "source": [
    "test_train(code_inpaint_problem, SimilarityTransformerPTCodeEncoding)"
   ]
  },
  {
   "cell_type": "code",
   "execution_count": 9,
   "metadata": {},
   "outputs": [
    {
     "name": "stdout",
     "output_type": "stream",
     "text": [
      "INFO:tensorflow:Found vocab file: /mnt/nfs-east1-d/data/vocab.github_function_docstring.8192.subwords\n"
     ]
    },
    {
     "name": "stderr",
     "output_type": "stream",
     "text": [
      "[2018-10-13 19:31:10,404] Found vocab file: /mnt/nfs-east1-d/data/vocab.github_function_docstring.8192.subwords\n"
     ]
    },
    {
     "name": "stdout",
     "output_type": "stream",
     "text": [
      "INFO:tensorflow:Skipping generator because outputs files exist\n"
     ]
    },
    {
     "name": "stderr",
     "output_type": "stream",
     "text": [
      "[2018-10-13 19:31:10,467] Skipping generator because outputs files exist\n"
     ]
    },
    {
     "name": "stdout",
     "output_type": "stream",
     "text": [
      "INFO:tensorflow:Skipping shuffle because output files exist\n"
     ]
    },
    {
     "name": "stderr",
     "output_type": "stream",
     "text": [
      "[2018-10-13 19:31:10,474] Skipping shuffle because output files exist\n"
     ]
    }
   ],
   "source": [
    "tmp_dir = \"/mnt/nfs-east1-d/tmp\"\n",
    "data_dir = \"/mnt/nfs-east1-d/data\"\n",
    "similarity_problem = GithubFunctionDocstring()\n",
    "similarity_problem.generate_data(data_dir, tmp_dir)"
   ]
  },
  {
   "cell_type": "code",
   "execution_count": 10,
   "metadata": {},
   "outputs": [
    {
     "name": "stdout",
     "output_type": "stream",
     "text": [
      "INFO:tensorflow:Setting T2TModel mode to 'train'\n"
     ]
    },
    {
     "name": "stderr",
     "output_type": "stream",
     "text": [
      "[2018-10-13 19:31:11,724] Setting T2TModel mode to 'train'\n"
     ]
    },
    {
     "name": "stdout",
     "output_type": "stream",
     "text": [
      "INFO:tensorflow:Reading data files from /mnt/nfs-east1-d/data/github_function_docstring-train*\n"
     ]
    },
    {
     "name": "stderr",
     "output_type": "stream",
     "text": [
      "[2018-10-13 19:31:11,727] Reading data files from /mnt/nfs-east1-d/data/github_function_docstring-train*\n"
     ]
    },
    {
     "name": "stdout",
     "output_type": "stream",
     "text": [
      "INFO:tensorflow:partition: 0 num_data_files: 100\n"
     ]
    },
    {
     "name": "stderr",
     "output_type": "stream",
     "text": [
      "[2018-10-13 19:31:11,739] partition: 0 num_data_files: 100\n"
     ]
    },
    {
     "name": "stdout",
     "output_type": "stream",
     "text": [
      "INFO:tensorflow:Transforming feature 'inputs' with symbol_modality_8185_128.bottom\n"
     ]
    },
    {
     "name": "stderr",
     "output_type": "stream",
     "text": [
      "[2018-10-13 19:31:11,937] Transforming feature 'inputs' with symbol_modality_8185_128.bottom\n"
     ]
    },
    {
     "name": "stdout",
     "output_type": "stream",
     "text": [
      "INFO:tensorflow:Transforming 'targets' with symbol_modality_8185_128.targets_bottom\n"
     ]
    },
    {
     "name": "stderr",
     "output_type": "stream",
     "text": [
      "[2018-10-13 19:31:12,087] Transforming 'targets' with symbol_modality_8185_128.targets_bottom\n"
     ]
    },
    {
     "name": "stdout",
     "output_type": "stream",
     "text": [
      "INFO:tensorflow:Building model body\n"
     ]
    },
    {
     "name": "stderr",
     "output_type": "stream",
     "text": [
      "[2018-10-13 19:31:12,093] Building model body\n"
     ]
    },
    {
     "name": "stdout",
     "output_type": "stream",
     "text": [
      "INFO:tensorflow:Skipping T2TModel top and loss because training loss returned from body\n"
     ]
    },
    {
     "name": "stderr",
     "output_type": "stream",
     "text": [
      "[2018-10-13 19:31:12,231] Skipping T2TModel top and loss because training loss returned from body\n"
     ]
    },
    {
     "name": "stdout",
     "output_type": "stream",
     "text": [
      "Step: 0, Loss: 0.797\n",
      "Step: 1, Loss: 0.515\n",
      "Step: 2, Loss: 0.422\n",
      "Step: 3, Loss: 0.377\n",
      "Step: 4, Loss: 0.367\n",
      "Step: 5, Loss: 0.363\n",
      "Step: 6, Loss: 0.356\n",
      "Step: 7, Loss: 0.349\n",
      "Step: 8, Loss: 0.335\n",
      "Step: 9, Loss: 0.341\n",
      "Step: 10, Loss: 0.332\n"
     ]
    }
   ],
   "source": [
    "test_train(similarity_problem, SimilarityTransformerDev)"
   ]
  },
  {
   "cell_type": "markdown",
   "metadata": {},
   "source": [
    "## Test infer"
   ]
  },
  {
   "cell_type": "markdown",
   "metadata": {},
   "source": [
    "Test run inference with similarity transformer model - for testing, not actual inference."
   ]
  },
  {
   "cell_type": "code",
   "execution_count": 13,
   "metadata": {},
   "outputs": [
    {
     "name": "stdout",
     "output_type": "stream",
     "text": [
      "INFO:tensorflow:Setting T2TModel mode to 'train'\n"
     ]
    },
    {
     "name": "stderr",
     "output_type": "stream",
     "text": [
      "[2018-10-13 17:13:46,722] Setting T2TModel mode to 'train'\n"
     ]
    }
   ],
   "source": [
    "\n",
    "mfunc = SimilarityTransformerDev\n",
    "hparams = similarity_transformer.similarity_transformer_tiny()\n",
    "hparams.data_dir = \"/mnt/nfs-east1-d/data\"\n",
    "p_hparams = similarity_problem.get_hparams(hparams)\n",
    "model = mfunc(hparams, tf.estimator.ModeKeys.TRAIN, p_hparams)\n"
   ]
  },
  {
   "cell_type": "code",
   "execution_count": 16,
   "metadata": {},
   "outputs": [],
   "source": [
    "\n",
    "# Setup helper functions for encoding and decoding\n",
    "def encode(input_str, output_str=None, encoders=None):\n",
    "  \"\"\"Input str to features dict, ready for inference\"\"\"\n",
    "  inputs = encoders[\"inputs\"].encode(input_str) + [1]  # add EOS id\n",
    "  batch_inputs = tf.reshape(inputs, [1, -1, 1])  # Make it 3D.\n",
    "  return {\"inputs\": batch_inputs}\n"
   ]
  },
  {
   "cell_type": "code",
   "execution_count": 15,
   "metadata": {},
   "outputs": [],
   "source": [
    "\n",
    "query = \"hello world\"\n",
    "encoders = similarity_problem.feature_encoders(hparams.data_dir)\n",
    "encoded = encode(query, encoders=encoders)\n"
   ]
  },
  {
   "cell_type": "code",
   "execution_count": 16,
   "metadata": {},
   "outputs": [
    {
     "name": "stdout",
     "output_type": "stream",
     "text": [
      "INFO:tensorflow:Transforming feature 'inputs' with symbol_modality_8185_128.bottom\n"
     ]
    },
    {
     "name": "stderr",
     "output_type": "stream",
     "text": [
      "[2018-10-13 17:13:48,646] Transforming feature 'inputs' with symbol_modality_8185_128.bottom\n"
     ]
    },
    {
     "name": "stdout",
     "output_type": "stream",
     "text": [
      "INFO:tensorflow:Transforming 'targets' with symbol_modality_8185_128.targets_bottom\n"
     ]
    },
    {
     "name": "stderr",
     "output_type": "stream",
     "text": [
      "[2018-10-13 17:13:48,702] Transforming 'targets' with symbol_modality_8185_128.targets_bottom\n"
     ]
    },
    {
     "name": "stdout",
     "output_type": "stream",
     "text": [
      "INFO:tensorflow:Building model body\n"
     ]
    },
    {
     "name": "stderr",
     "output_type": "stream",
     "text": [
      "[2018-10-13 17:13:48,709] Building model body\n"
     ]
    },
    {
     "name": "stdout",
     "output_type": "stream",
     "text": [
      "INFO:tensorflow:Skipping T2TModel top and loss because training loss returned from body\n"
     ]
    },
    {
     "name": "stderr",
     "output_type": "stream",
     "text": [
      "[2018-10-13 17:13:48,833] Skipping T2TModel top and loss because training loss returned from body\n"
     ]
    },
    {
     "data": {
      "text/plain": [
       "<tf.Tensor: id=1791, shape=(1, 128), dtype=float32, numpy=\n",
       "array([[ 1.40312207e+00,  4.11589928e-02,  2.35747501e-01,\n",
       "        -1.88300814e-02, -1.07104623e+00, -9.13565531e-02,\n",
       "        -1.05973817e-01, -9.50440705e-01,  1.77466944e-01,\n",
       "        -1.50291741e+00, -1.07418168e+00,  8.26738656e-01,\n",
       "        -9.26443577e-01,  7.28578806e-01,  1.04180527e+00,\n",
       "        -3.22116613e-01, -9.49340522e-01, -9.88778055e-01,\n",
       "         9.05352890e-01,  5.52978933e-01, -1.73431015e+00,\n",
       "        -2.17968181e-01,  8.49038780e-01,  5.11551857e-01,\n",
       "        -3.42293590e-01, -9.81901467e-01, -5.03470659e-01,\n",
       "        -1.67851782e+00,  4.10288692e-01,  9.97195765e-02,\n",
       "        -7.52441883e-01, -5.39046288e-01, -2.23350406e-01,\n",
       "        -7.07565248e-01, -6.44576609e-01,  1.06538534e-01,\n",
       "        -6.71832621e-01, -1.13049018e+00,  6.00363910e-01,\n",
       "        -1.72126734e+00, -1.34397602e+00, -9.84495655e-02,\n",
       "        -1.00991380e+00, -1.04756880e+00, -7.60911778e-02,\n",
       "         3.73768806e-01, -4.25622553e-01, -1.66359270e+00,\n",
       "        -8.83858860e-01,  6.71622455e-01, -5.30806959e-01,\n",
       "        -3.14316452e-01,  2.96418760e-02, -2.93263197e-02,\n",
       "        -6.46261513e-01, -4.21508461e-01, -6.98045254e-01,\n",
       "         6.38881028e-01,  1.23073258e-01,  4.12893772e-01,\n",
       "        -1.12424290e-03, -5.32323837e-01, -9.65689838e-01,\n",
       "        -5.17391562e-02, -3.70064646e-01, -3.67040247e-01,\n",
       "        -5.08408964e-01,  8.81382287e-01,  4.46779020e-02,\n",
       "         9.24189568e-01, -1.96137860e-01, -9.88702774e-01,\n",
       "         1.21250331e+00,  1.49208033e+00,  1.63536322e+00,\n",
       "        -1.33532405e-01,  8.26083899e-01,  5.34341991e-01,\n",
       "         2.05185339e-01, -8.25942516e-01, -5.43191254e-01,\n",
       "        -1.56271741e-01, -7.42590800e-02, -3.78932446e-01,\n",
       "        -6.11832917e-01, -9.98746574e-01,  1.78131580e-01,\n",
       "         7.43768215e-01,  1.90252319e-01, -6.01957142e-01,\n",
       "        -2.27846697e-01,  9.49984610e-01,  3.29566091e-01,\n",
       "        -3.54102522e-01,  5.15373528e-01,  1.37613237e+00,\n",
       "         8.72694790e-01,  5.03602087e-01, -2.82551080e-01,\n",
       "         9.86515820e-01,  1.04722643e+00, -2.61297196e-01,\n",
       "         3.86720411e-02,  1.14277017e+00,  1.31844819e+00,\n",
       "        -1.12238608e-01, -4.29617576e-02,  5.79736352e-01,\n",
       "         1.05365133e+00,  1.03375958e-02, -1.61637986e+00,\n",
       "        -2.39697278e-01, -1.46521166e-01, -4.82024550e-01,\n",
       "         1.31529677e+00,  1.90161288e+00,  8.30696166e-01,\n",
       "        -9.18685794e-02,  2.95263261e-01,  1.18480670e+00,\n",
       "         2.69401878e-01,  6.03625476e-01,  2.39580083e+00,\n",
       "         5.44385850e-01,  3.33762020e-01,  1.09182715e+00,\n",
       "         2.63038844e-01, -1.59337655e-01]], dtype=float32)>"
      ]
     },
     "execution_count": 16,
     "metadata": {},
     "output_type": "execute_result"
    }
   ],
   "source": [
    "model.infer(encoded)"
   ]
  },
  {
   "cell_type": "markdown",
   "metadata": {},
   "source": [
    "test run encoder models"
   ]
  },
  {
   "cell_type": "code",
   "execution_count": 10,
   "metadata": {},
   "outputs": [
    {
     "name": "stdout",
     "output_type": "stream",
     "text": [
      "INFO:tensorflow:Setting T2TModel mode to 'train'\n"
     ]
    },
    {
     "name": "stderr",
     "output_type": "stream",
     "text": [
      "[2018-10-13 17:28:38,894] Setting T2TModel mode to 'train'\n"
     ]
    }
   ],
   "source": [
    "\n",
    "mfunc = SimilarityTransformerStringEncoder\n",
    "hparams = similarity_transformer.similarity_transformer_tiny()\n",
    "hparams.data_dir = \"/mnt/nfs-east1-d/data\"\n",
    "p_hparams = similarity_problem.get_hparams(hparams)\n",
    "model = mfunc(hparams, tf.estimator.ModeKeys.TRAIN, p_hparams)\n"
   ]
  },
  {
   "cell_type": "code",
   "execution_count": 14,
   "metadata": {},
   "outputs": [],
   "source": [
    "\n",
    "# Setup helper functions for encoding and decoding\n",
    "def encode(input_str, output_str=None, encoders=None):\n",
    "  \"\"\"Input str to features dict, ready for inference\"\"\"\n",
    "  inputs = encoders[\"inputs\"].encode(input_str) + [1]  # add EOS id\n",
    "  batch_inputs = tf.reshape(inputs, [1, -1, 1])  # Make it 3D.\n",
    "  return {\"inputs\": batch_inputs}\n"
   ]
  },
  {
   "cell_type": "code",
   "execution_count": 15,
   "metadata": {},
   "outputs": [],
   "source": [
    "\n",
    "query = \"hello world\"\n",
    "encoders = similarity_problem.feature_encoders(hparams.data_dir)\n",
    "encoded = encode(query, encoders=encoders)\n"
   ]
  },
  {
   "cell_type": "code",
   "execution_count": 16,
   "metadata": {},
   "outputs": [
    {
     "data": {
      "text/plain": [
       "(<tf.Tensor: id=1539, shape=(1, 128), dtype=float32, numpy=\n",
       " array([[ 0.20939891,  1.4125671 , -1.1328112 , -0.3512763 , -0.41080883,\n",
       "          1.3939236 , -0.10723416,  0.02681199, -0.40401328,  0.2177443 ,\n",
       "         -0.5391284 , -0.28195366,  0.3392299 ,  1.1051393 , -0.9326196 ,\n",
       "          0.98122907, -0.2839588 ,  0.57894486, -0.06313259,  0.13741706,\n",
       "         -0.5806601 , -1.1774725 , -0.06144382, -0.39439023, -0.43148208,\n",
       "          0.54337835, -0.21367322, -0.05622693, -0.8115094 , -0.00709867,\n",
       "         -1.4922934 , -0.3881702 , -1.0974838 , -0.04772195,  0.2919239 ,\n",
       "         -0.47904715,  0.6601294 , -0.8428251 ,  0.25696883,  0.02348729,\n",
       "         -0.42546833, -0.97120833,  1.4458374 , -1.3749505 , -1.4001378 ,\n",
       "          0.27956572, -0.21210705, -1.6437635 , -1.161673  , -1.9406843 ,\n",
       "         -0.67711157, -0.6752469 , -0.16725959,  0.4377724 , -0.48400614,\n",
       "         -1.2816873 , -1.1917607 , -0.93713236,  0.54529124, -0.5790736 ,\n",
       "         -0.6249497 ,  0.4583448 , -0.48818526, -0.03187982,  0.20217864,\n",
       "          0.27163205, -0.11958906,  0.3486953 , -1.7167395 , -0.23142493,\n",
       "         -0.16448551, -0.53078586, -0.8437371 , -0.09827501, -0.37438473,\n",
       "         -0.6097483 ,  0.85838675, -0.91666096,  1.4319726 , -0.4674357 ,\n",
       "          0.70339346,  0.39174524,  1.105742  , -0.79553676,  0.897589  ,\n",
       "          0.58529836,  1.9323031 ,  0.40540692,  0.60698634,  0.0374705 ,\n",
       "          0.5984692 ,  1.2179623 ,  0.5104423 , -0.00549876, -0.79894656,\n",
       "          1.035501  ,  0.9424727 ,  0.41783106, -0.49907613,  0.90280294,\n",
       "          1.6869984 ,  0.53444844, -0.34287083,  1.4362969 , -0.28908703,\n",
       "          0.96346706,  0.8827238 ,  1.0979017 ,  1.5425419 ,  0.1433499 ,\n",
       "          0.58218247,  1.3719696 ,  1.1856525 ,  0.5662658 ,  1.0668343 ,\n",
       "          0.3897487 ,  0.89242387, -0.75650674, -1.243814  ,  0.6246555 ,\n",
       "          0.48701254,  1.2789811 , -0.40967202,  0.3275567 , -1.8836027 ,\n",
       "         -0.6875892 , -1.0923518 , -0.07585812]], dtype=float32)>,\n",
       " {'training': <tf.Tensor: id=1538, shape=(), dtype=float32, numpy=0.0>})"
      ]
     },
     "execution_count": 16,
     "metadata": {},
     "output_type": "execute_result"
    }
   ],
   "source": [
    "model(encoded)"
   ]
  },
  {
   "cell_type": "markdown",
   "metadata": {},
   "source": [
    "## Training test runs"
   ]
  },
  {
   "cell_type": "code",
   "execution_count": 1,
   "metadata": {},
   "outputs": [],
   "source": [
    "\n",
    "from tk.experiment import configure_experiment, T2TExperiment\n",
    "from tk.allen_demo import event_data_for_comparison, show_experiment_loss\n",
    "%matplotlib inline\n"
   ]
  },
  {
   "cell_type": "code",
   "execution_count": 19,
   "metadata": {},
   "outputs": [
    {
     "name": "stdout",
     "output_type": "stream",
     "text": [
      "train_args:\n",
      "{'data_dir': '/mnt/nfs-east1-d/data',\n",
      " 'dbgprofile': False,\n",
      " 'hparams': \"''\",\n",
      " 'hparams_set': 'similarity_transformer_tiny',\n",
      " 'log_device_placement': False,\n",
      " 'model': 'similarity_transformer_pretrain_string_encoding',\n",
      " 'output_dir': '/mnt/nfs-east1-d/work/tk/output',\n",
      " 'problem': 'github_string_inpaint',\n",
      " 'profile': False,\n",
      " 'ps_gpu': 1,\n",
      " 'save_checkpoints_secs': 1800,\n",
      " 'schedule': 'train',\n",
      " 'ssd_mount_path': '/mnt/disks/ssd0',\n",
      " 'train_steps': 10000,\n",
      " 'worker_gpu': 1,\n",
      " 'worker_gpu_memory_fraction': 0.95}\n"
     ]
    }
   ],
   "source": [
    "\n",
    "args = configure_experiment(\"cs-pt-str-0\",\n",
    "                             problem=\"github_string_inpaint\",\n",
    "                             hparams_set=\"similarity_transformer_tiny\",\n",
    "                             model=\"similarity_transformer_pretrain_string_encoding\",\n",
    "                             extra_hparams={\n",
    "                             },\n",
    "                             num_gpu_per_worker=1,\n",
    "                             num_steps=10000)\n",
    "\n",
    "job = T2TExperiment(**args)\n",
    "job.run()\n"
   ]
  },
  {
   "cell_type": "code",
   "execution_count": 20,
   "metadata": {},
   "outputs": [
    {
     "name": "stdout",
     "output_type": "stream",
     "text": [
      "train_args:\n",
      "{'data_dir': '/mnt/nfs-east1-d/data',\n",
      " 'dbgprofile': False,\n",
      " 'hparams': \"''\",\n",
      " 'hparams_set': 'similarity_transformer_tiny',\n",
      " 'log_device_placement': False,\n",
      " 'model': 'similarity_transformer_pretrain_code_encoding',\n",
      " 'output_dir': '/mnt/nfs-east1-d/work/tk/output',\n",
      " 'problem': 'github_code_inpaint',\n",
      " 'profile': False,\n",
      " 'ps_gpu': 1,\n",
      " 'save_checkpoints_secs': 1800,\n",
      " 'schedule': 'train',\n",
      " 'ssd_mount_path': '/mnt/disks/ssd0',\n",
      " 'train_steps': 10000,\n",
      " 'worker_gpu': 1,\n",
      " 'worker_gpu_memory_fraction': 0.95}\n"
     ]
    }
   ],
   "source": [
    "\n",
    "args = configure_experiment(\"cs-pt-fn-0\",\n",
    "                             problem=\"github_code_inpaint\",\n",
    "                             hparams_set=\"similarity_transformer_tiny\",\n",
    "                             model=\"similarity_transformer_pretrain_code_encoding\",\n",
    "                             extra_hparams={\n",
    "                             },\n",
    "                             num_gpu_per_worker=1,\n",
    "                             num_steps=10000)\n",
    "\n",
    "job = T2TExperiment(**args)\n",
    "job.run()\n"
   ]
  },
  {
   "cell_type": "code",
   "execution_count": 1,
   "metadata": {},
   "outputs": [
    {
     "name": "stdout",
     "output_type": "stream",
     "text": [
      "INFO:tensorflow:Identifying event files in experiment subdirectories...\n"
     ]
    },
    {
     "name": "stderr",
     "output_type": "stream",
     "text": [
      "[2018-10-13 20:17:11,467] Identifying event files in experiment subdirectories...\n"
     ]
    },
    {
     "name": "stdout",
     "output_type": "stream",
     "text": [
      "INFO:tensorflow:Processing experiment events (1 of 2)\n"
     ]
    },
    {
     "name": "stderr",
     "output_type": "stream",
     "text": [
      "[2018-10-13 20:17:12,514] Processing experiment events (1 of 2)\n"
     ]
    },
    {
     "name": "stdout",
     "output_type": "stream",
     "text": [
      "INFO:tensorflow:Processing experiment events (2 of 2)\n"
     ]
    },
    {
     "name": "stderr",
     "output_type": "stream",
     "text": [
      "[2018-10-13 20:17:13,667] Processing experiment events (2 of 2)\n"
     ]
    },
    {
     "name": "stdout",
     "output_type": "stream",
     "text": [
      "INFO:tensorflow:Finished loading event data for comparison.\n"
     ]
    },
    {
     "name": "stderr",
     "output_type": "stream",
     "text": [
      "[2018-10-13 20:17:14,647] Finished loading event data for comparison.\n"
     ]
    },
    {
     "data": {
      "image/png": "[encoded data removed]",
      "text/plain": [
       "<Figure size 1200x480 with 1 Axes>"
      ]
     },
     "metadata": {},
     "output_type": "display_data"
    }
   ],
   "source": [
    "\n",
    "experiment_data = event_data_for_comparison(\"gs://kubeflow-rl-checkpoints/comparisons/cs-pt*\")\n",
    "show_experiment_loss(experiment_data)\n"
   ]
  },
  {
   "cell_type": "markdown",
   "metadata": {},
   "source": [
    "From the above we can see both types of pre-training are showing healthy loss curves and seem to saturate by 10k steps. But let's confirm that by looking at some inference examples."
   ]
  },
  {
   "cell_type": "markdown",
   "metadata": {},
   "source": [
    "Next we'll copy the checkpoint to a new path so we can avoid modifying the original in subsequent experiments"
   ]
  },
  {
   "cell_type": "code",
   "execution_count": null,
   "metadata": {},
   "outputs": [],
   "source": [
    "!gsutil -m cp -r gs://kubeflow-rl-checkpoints/comparisons/cs-pt-str-0/cs-pt-str-0-j1013-1953-012e/output \\\n",
    "    gs://kubeflow-rl-checkpoints/comparisons/cs-pt-str-0/cs-pt-str-0-restore/output"
   ]
  },
  {
   "cell_type": "code",
   "execution_count": null,
   "metadata": {},
   "outputs": [],
   "source": [
    "!gsutil -m cp -r gs://kubeflow-rl-checkpoints/comparisons/cs-pt-str-0/cs-pt-str-0-j1013-1953-012e/output \\\n",
    "    gs://kubeflow-rl-checkpoints/comparisons/cs-pt-str-0/cs-pt-str-0-xfer/output"
   ]
  },
  {
   "cell_type": "code",
   "execution_count": null,
   "metadata": {},
   "outputs": [],
   "source": [
    "!gsutil -m cp -r gs://kubeflow-rl-checkpoints/comparisons/cs-pt-fn-0/cs-pt-fn-0-j1013-1953-63d7/output \\\n",
    "    gs://kubeflow-rl-checkpoints/comparisons/cs-pt-fn-0/cs-pt-fn-0-xfer/output"
   ]
  },
  {
   "cell_type": "markdown",
   "metadata": {},
   "source": [
    "Let's try a training run that uses a previous set of checkpoints of the same type:"
   ]
  },
  {
   "cell_type": "code",
   "execution_count": 13,
   "metadata": {},
   "outputs": [
    {
     "name": "stderr",
     "output_type": "stream",
     "text": [
      "[2018-10-13 23:23:01,726] /mnt/nfs-east1-d/work/tk\n",
      "[2018-10-13 23:23:01,752] /mnt/nfs-east1-d/work/tk\n"
     ]
    },
    {
     "name": "stdout",
     "output_type": "stream",
     "text": [
      "train_args:\n",
      "{'data_dir': '/mnt/nfs-east1-d/data',\n",
      " 'dbgprofile': False,\n",
      " 'hparams': \"''\",\n",
      " 'hparams_set': 'similarity_transformer_tiny',\n",
      " 'log_device_placement': False,\n",
      " 'model': 'similarity_transformer_pretrain_string_encoding',\n",
      " 'output_dir': 'gs://kubeflow-rl-checkpoints/comparisons/cs-pt-str-0/cs-pt-str-0-restore/output',\n",
      " 'problem': 'github_string_inpaint',\n",
      " 'profile': False,\n",
      " 'ps_gpu': 1,\n",
      " 'save_checkpoints_secs': 1800,\n",
      " 'schedule': 'train',\n",
      " 'ssd_mount_path': '/mnt/disks/ssd0',\n",
      " 't2t_usr_dir': 'gs://kubeflow-rl-checkpoints/comparisons/cs-pt-str-restore/cs-pt-str-restore-j1013-2323-4844/tk',\n",
      " 'train_steps': 11000,\n",
      " 'worker_gpu': 1,\n",
      " 'worker_gpu_memory_fraction': 0.95}\n"
     ]
    },
    {
     "name": "stderr",
     "output_type": "stream",
     "text": [
      "[2018-10-13 23:23:09,500] smoke: True\n"
     ]
    }
   ],
   "source": [
    "\n",
    "args = configure_experiment(\"cs-pt-str-restore\",\n",
    "                             problem=\"github_string_inpaint\",\n",
    "                             hparams_set=\"similarity_transformer_tiny\",\n",
    "                             model=\"similarity_transformer_pretrain_string_encoding\",\n",
    "                             extra_hparams={\n",
    "                             },\n",
    "                             num_gpu_per_worker=1,\n",
    "                             num_steps=11000,\n",
    "                             reuse_output_dir=\"gs://kubeflow-rl-checkpoints/comparisons/cs-pt-str-0/cs-pt-str-0-restore/output\")\n",
    "\n",
    "job = T2TExperiment(**args)\n",
    "job.run()\n"
   ]
  },
  {
   "cell_type": "markdown",
   "metadata": {},
   "source": [
    "Or different type"
   ]
  },
  {
   "cell_type": "code",
   "execution_count": 17,
   "metadata": {},
   "outputs": [
    {
     "name": "stderr",
     "output_type": "stream",
     "text": [
      "[2018-10-13 23:28:09,534] /mnt/nfs-east1-d/work/tk\n",
      "[2018-10-13 23:28:09,575] /mnt/nfs-east1-d/work/tk\n"
     ]
    },
    {
     "name": "stdout",
     "output_type": "stream",
     "text": [
      "train_args:\n",
      "{'data_dir': '/mnt/nfs-east1-d/data',\n",
      " 'dbgprofile': False,\n",
      " 'hparams': \"''\",\n",
      " 'hparams_set': 'similarity_transformer_tiny',\n",
      " 'log_device_placement': False,\n",
      " 'model': 'similarity_transformer_pretrain_code_encoding',\n",
      " 'output_dir': 'gs://kubeflow-rl-checkpoints/comparisons/cs-pt-str-0/cs-pt-str-0-xfer/output',\n",
      " 'problem': 'github_code_inpaint',\n",
      " 'profile': False,\n",
      " 'ps_gpu': 1,\n",
      " 'save_checkpoints_secs': 1800,\n",
      " 'schedule': 'train',\n",
      " 'ssd_mount_path': '/mnt/disks/ssd0',\n",
      " 't2t_usr_dir': 'gs://kubeflow-rl-checkpoints/comparisons/cs-pt-fn-post-str/cs-pt-fn-post-str-j1013-2328-84f5/tk',\n",
      " 'train_steps': 20000,\n",
      " 'worker_gpu': 1,\n",
      " 'worker_gpu_memory_fraction': 0.95}\n"
     ]
    },
    {
     "name": "stderr",
     "output_type": "stream",
     "text": [
      "[2018-10-13 23:28:17,419] smoke: True\n"
     ]
    }
   ],
   "source": [
    "\n",
    "args = configure_experiment(\"cs-pt-fn-post-str\",\n",
    "                             problem=\"github_code_inpaint\",\n",
    "                             hparams_set=\"similarity_transformer_tiny\",\n",
    "                             model=\"similarity_transformer_pretrain_code_encoding\",\n",
    "                             extra_hparams={\n",
    "                             },\n",
    "                             num_gpu_per_worker=1,\n",
    "                             num_steps=20000,\n",
    "                             reuse_output_dir=\"gs://kubeflow-rl-checkpoints/comparisons/cs-pt-str-0/cs-pt-str-0-xfer/output\")\n",
    "\n",
    "job = T2TExperiment(**args)\n",
    "job.run()\n"
   ]
  },
  {
   "cell_type": "markdown",
   "metadata": {},
   "source": [
    "Taking another look at the loss plots:"
   ]
  },
  {
   "cell_type": "code",
   "execution_count": 2,
   "metadata": {},
   "outputs": [
    {
     "name": "stdout",
     "output_type": "stream",
     "text": [
      "INFO:tensorflow:Identifying event files in experiment subdirectories...\n"
     ]
    },
    {
     "name": "stderr",
     "output_type": "stream",
     "text": [
      "[2018-10-13 22:42:57,850] Identifying event files in experiment subdirectories...\n"
     ]
    },
    {
     "name": "stdout",
     "output_type": "stream",
     "text": [
      "INFO:tensorflow:Processing experiment events (1 of 5)\n"
     ]
    },
    {
     "name": "stderr",
     "output_type": "stream",
     "text": [
      "[2018-10-13 22:42:58,976] Processing experiment events (1 of 5)\n"
     ]
    },
    {
     "name": "stdout",
     "output_type": "stream",
     "text": [
      "INFO:tensorflow:Processing experiment events (2 of 5)\n"
     ]
    },
    {
     "name": "stderr",
     "output_type": "stream",
     "text": [
      "[2018-10-13 22:43:00,183] Processing experiment events (2 of 5)\n"
     ]
    },
    {
     "name": "stdout",
     "output_type": "stream",
     "text": [
      "INFO:tensorflow:Processing experiment events (3 of 5)\n"
     ]
    },
    {
     "name": "stderr",
     "output_type": "stream",
     "text": [
      "[2018-10-13 22:43:01,070] Processing experiment events (3 of 5)\n"
     ]
    },
    {
     "name": "stdout",
     "output_type": "stream",
     "text": [
      "INFO:tensorflow:Processing experiment events (4 of 5)\n"
     ]
    },
    {
     "name": "stderr",
     "output_type": "stream",
     "text": [
      "[2018-10-13 22:43:01,931] Processing experiment events (4 of 5)\n"
     ]
    },
    {
     "name": "stdout",
     "output_type": "stream",
     "text": [
      "INFO:tensorflow:Processing experiment events (5 of 5)\n"
     ]
    },
    {
     "name": "stderr",
     "output_type": "stream",
     "text": [
      "[2018-10-13 22:43:02,739] Processing experiment events (5 of 5)\n"
     ]
    },
    {
     "name": "stdout",
     "output_type": "stream",
     "text": [
      "INFO:tensorflow:Finished loading event data for comparison.\n"
     ]
    },
    {
     "name": "stderr",
     "output_type": "stream",
     "text": [
      "[2018-10-13 22:43:03,606] Finished loading event data for comparison.\n"
     ]
    },
    {
     "data": {
      "image/png": "[encoded data removed]",
      "text/plain": [
       "<Figure size 1200x480 with 1 Axes>"
      ]
     },
     "metadata": {},
     "output_type": "display_data"
    }
   ],
   "source": [
    "\n",
    "experiment_data = event_data_for_comparison(\"gs://kubeflow-rl-checkpoints/comparisons/cs-pt*\")\n",
    "show_experiment_loss(experiment_data)\n"
   ]
  },
  {
   "cell_type": "markdown",
   "metadata": {},
   "source": [
    "Had to increase num steps to be previous + additional not just additional.\n",
    "\n",
    "Ah. So. It uses the model name in the variable name path. So probably need to use a single model that changes modes based on hparams or content of example dicts.\n",
    "\n",
    "What if we just named the model the same?\n",
    "\n",
    "Ultimately not as fond of the traditional multi-step pre-training approach as a continuous multi-problem approach."
   ]
  }
 ],
 "metadata": {
  "kernelspec": {
   "display_name": "Python 2",
   "language": "python",
   "name": "python2"
  },
  "language_info": {
   "codemirror_mode": {
    "name": "ipython",
    "version": 2
   },
   "file_extension": ".py",
   "mimetype": "text/x-python",
   "name": "python",
   "nbconvert_exporter": "python",
   "pygments_lexer": "ipython2",
   "version": "2.7.14"
  }
 },
 "nbformat": 4,
 "nbformat_minor": 2
}
