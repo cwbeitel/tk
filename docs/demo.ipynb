{
 "cells": [
  {
   "cell_type": "markdown",
   "metadata": {},
   "source": [
    "## Image enhancement with T2T on Kubeflow"
   ]
  },
  {
   "cell_type": "markdown",
   "metadata": {},
   "source": [
    "### Setup"
   ]
  },
  {
   "cell_type": "code",
   "execution_count": 1,
   "metadata": {},
   "outputs": [
    {
     "name": "stdout",
     "output_type": "stream",
     "text": [
      "WARNING:tensorflow:From /home/jovyan/.conda/envs/py2/lib/python2.7/site-packages/tensorflow/contrib/learn/python/learn/datasets/base.py:198: retry (from tensorflow.contrib.learn.python.learn.datasets.base) is deprecated and will be removed in a future version.\n",
      "Instructions for updating:\n",
      "Use the retry module or similar alternatives.\n"
     ]
    }
   ],
   "source": [
    "from tensor2tensor.data_generators import allen_brain\n",
    "from tensor2tensor.data_generators import allen_brain_utils\n",
    "from tensorflow.contrib.eager.python import tfe\n",
    "import tensorflow as tf\n",
    "\n",
    "import os\n",
    "import shutil\n",
    "from tk import util\n",
    "from tk import jobs\n",
    "from tk import experiment\n",
    "\n",
    "import tensorflow as tf\n",
    "\n",
    "import os\n",
    "import json\n",
    "\n",
    "from tk import experiment\n",
    "from tk import util\n",
    "import shutil\n",
    "import json\n",
    "import logging\n",
    "\n",
    "from tk.util import hack_dict_to_cli_args\n",
    "\n",
    "tfe.enable_eager_execution()\n",
    "Modes = tf.estimator.ModeKeys\n",
    "\n",
    "logging.getLogger().setLevel(logging.INFO)"
   ]
  },
  {
   "cell_type": "markdown",
   "metadata": {},
   "source": [
    "### TensorBoard\n",
    "\n",
    "Start a TensorBoard deployment and service pointing to a log_dir parent to all log_dirs we will write for subsequent experiments, allowing us to compare logs from all experiments via a single TensorBoard instance."
   ]
  },
  {
   "cell_type": "code",
   "execution_count": 4,
   "metadata": {},
   "outputs": [
    {
     "name": "stderr",
     "output_type": "stream",
     "text": [
      "[2018-06-14 17:45:01,386] Creating object with config: {'kind': 'Service', 'spec': {'ports': [{'targetPort': 80, 'name': 'http', 'port': 80}], 'selector': {'app': 'tensorboard', 'tb-job': 'tb-j0614-1745-7f0d-depl'}}, 'apiVersion': 'v1', 'metadata': {'namespace': 'kubeflow', 'name': 'tb-j0614-1745-7f0d-svc'}}\n",
      "[2018-06-14 17:45:01,502] Creating object with config: {'kind': 'Deployment', 'spec': {'template': {'spec': {'containers': [{'image': 'tensorflow/tensorflow:1.7.0', 'command': ['/usr/local/bin/tensorboard', '--logdir=/mnt/nfs-east1-d/testing/foo', '--port=80'], 'ports': [{'containerPort': 80}], 'name': 'tensorboard'}]}, 'metadata': {'labels': {'app': 'tensorboard', 'tb-job': 'tb-j0614-1745-7f0d-depl'}, 'namespace': 'kubeflow', 'name': 'tb-j0614-1745-7f0d-depl'}}, 'replicas': 1}, 'apiVersion': 'apps/v1beta1', 'metadata': {'namespace': 'kubeflow', 'name': 'tb-j0614-1745-7f0d-depl'}}\n"
     ]
    },
    {
     "name": "stdout",
     "output_type": "stream",
     "text": [
      "{'api_version': 'v1',\n",
      " 'kind': 'Service',\n",
      " 'metadata': {'annotations': None,\n",
      "              'cluster_name': None,\n",
      "              'creation_timestamp': datetime.datetime(2018, 6, 14, 17, 45, 1, tzinfo=tzlocal()),\n",
      "              'deletion_grace_period_seconds': None,\n",
      "              'deletion_timestamp': None,\n",
      "              'finalizers': None,\n",
      "              'generate_name': None,\n",
      "              'generation': None,\n",
      "              'initializers': None,\n",
      "              'labels': None,\n",
      "              'name': 'tb-j0614-1745-7f0d-svc',\n",
      "              'namespace': 'kubeflow',\n",
      "              'owner_references': None,\n",
      "              'resource_version': '1487044',\n",
      "              'self_link': '/api/v1/namespaces/kubeflow/services/tb-j0614-1745-7f0d-svc',\n",
      "              'uid': 'a9b0e541-6ffa-11e8-a740-42010a8e0045'},\n",
      " 'spec': {'cluster_ip': '10.47.254.174',\n",
      "          'external_i_ps': None,\n",
      "          'external_name': None,\n",
      "          'external_traffic_policy': None,\n",
      "          'health_check_node_port': None,\n",
      "          'load_balancer_ip': None,\n",
      "          'load_balancer_source_ranges': None,\n",
      "          'ports': [{'name': 'http',\n",
      "                     'node_port': None,\n",
      "                     'port': 80,\n",
      "                     'protocol': 'TCP',\n",
      "                     'target_port': 80}],\n",
      "          'publish_not_ready_addresses': None,\n",
      "          'selector': {u'app': 'tensorboard',\n",
      "                       u'tb-job': 'tb-j0614-1745-7f0d-depl'},\n",
      "          'session_affinity': 'None',\n",
      "          'session_affinity_config': None,\n",
      "          'type': 'ClusterIP'},\n",
      " 'status': {'load_balancer': {'ingress': None}}}\n",
      "{'api_version': 'apps/v1beta1',\n",
      " 'kind': 'Deployment',\n",
      " 'metadata': {'annotations': None,\n",
      "              'cluster_name': None,\n",
      "              'creation_timestamp': datetime.datetime(2018, 6, 14, 17, 45, 1, tzinfo=tzlocal()),\n",
      "              'deletion_grace_period_seconds': None,\n",
      "              'deletion_timestamp': None,\n",
      "              'finalizers': None,\n",
      "              'generate_name': None,\n",
      "              'generation': 1,\n",
      "              'initializers': None,\n",
      "              'labels': {u'app': 'tensorboard',\n",
      "                         u'tb-job': 'tb-j0614-1745-7f0d-depl'},\n",
      "              'name': 'tb-j0614-1745-7f0d-depl',\n",
      "              'namespace': 'kubeflow',\n",
      "              'owner_references': None,\n",
      "              'resource_version': '1487046',\n",
      "              'self_link': '/apis/apps/v1beta1/namespaces/kubeflow/deployments/tb-j0614-1745-7f0d-depl',\n",
      "              'uid': 'a9c1e7e8-6ffa-11e8-a740-42010a8e0045'},\n",
      " 'spec': {'min_ready_seconds': None,\n",
      "          'paused': None,\n",
      "          'progress_deadline_seconds': 600,\n",
      "          'replicas': 1,\n",
      "          'revision_history_limit': 2,\n",
      "          'rollback_to': None,\n",
      "          'selector': {'match_expressions': None,\n",
      "                       'match_labels': {u'app': 'tensorboard',\n",
      "                                        u'tb-job': 'tb-j0614-1745-7f0d-depl'}},\n",
      "          'strategy': {'rolling_update': {'max_surge': u'25%',\n",
      "                                          'max_unavailable': u'25%'},\n",
      "                       'type': 'RollingUpdate'},\n",
      "          'template': {'metadata': {'annotations': None,\n",
      "                                    'cluster_name': None,\n",
      "                                    'creation_timestamp': None,\n",
      "                                    'deletion_grace_period_seconds': None,\n",
      "                                    'deletion_timestamp': None,\n",
      "                                    'finalizers': None,\n",
      "                                    'generate_name': None,\n",
      "                                    'generation': None,\n",
      "                                    'initializers': None,\n",
      "                                    'labels': {u'app': 'tensorboard',\n",
      "                                               u'tb-job': 'tb-j0614-1745-7f0d-depl'},\n",
      "                                    'name': 'tb-j0614-1745-7f0d-depl',\n",
      "                                    'namespace': 'kubeflow',\n",
      "                                    'owner_references': None,\n",
      "                                    'resource_version': None,\n",
      "                                    'self_link': None,\n",
      "                                    'uid': None},\n",
      "                       'spec': {'active_deadline_seconds': None,\n",
      "                                'affinity': None,\n",
      "                                'automount_service_account_token': None,\n",
      "                                'containers': [{'args': None,\n",
      "                                                'command': ['/usr/local/bin/tensorboard',\n",
      "                                                            '--logdir=/mnt/nfs-east1-d/testing/foo',\n",
      "                                                            '--port=80'],\n",
      "                                                'env': None,\n",
      "                                                'env_from': None,\n",
      "                                                'image': 'tensorflow/tensorflow:1.7.0',\n",
      "                                                'image_pull_policy': 'IfNotPresent',\n",
      "                                                'lifecycle': None,\n",
      "                                                'liveness_probe': None,\n",
      "                                                'name': 'tensorboard',\n",
      "                                                'ports': [{'container_port': 80,\n",
      "                                                           'host_ip': None,\n",
      "                                                           'host_port': None,\n",
      "                                                           'name': None,\n",
      "                                                           'protocol': 'TCP'}],\n",
      "                                                'readiness_probe': None,\n",
      "                                                'resources': {'limits': None,\n",
      "                                                              'requests': None},\n",
      "                                                'security_context': None,\n",
      "                                                'stdin': None,\n",
      "                                                'stdin_once': None,\n",
      "                                                'termination_message_path': '/dev/termination-log',\n",
      "                                                'termination_message_policy': 'File',\n",
      "                                                'tty': None,\n",
      "                                                'volume_devices': None,\n",
      "                                                'volume_mounts': None,\n",
      "                                                'working_dir': None}],\n",
      "                                'dns_config': None,\n",
      "                                'dns_policy': 'ClusterFirst',\n",
      "                                'host_aliases': None,\n",
      "                                'host_ipc': None,\n",
      "                                'host_network': None,\n",
      "                                'host_pid': None,\n",
      "                                'hostname': None,\n",
      "                                'image_pull_secrets': None,\n",
      "                                'init_containers': None,\n",
      "                                'node_name': None,\n",
      "                                'node_selector': None,\n",
      "                                'priority': None,\n",
      "                                'priority_class_name': None,\n",
      "                                'restart_policy': 'Always',\n",
      "                                'scheduler_name': 'default-scheduler',\n",
      "                                'security_context': {'fs_group': None,\n",
      "                                                     'run_as_non_root': None,\n",
      "                                                     'run_as_user': None,\n",
      "                                                     'se_linux_options': None,\n",
      "                                                     'supplemental_groups': None},\n",
      "                                'service_account': None,\n",
      "                                'service_account_name': None,\n",
      "                                'subdomain': None,\n",
      "                                'termination_grace_period_seconds': 30,\n",
      "                                'tolerations': None,\n",
      "                                'volumes': None}}},\n",
      " 'status': {'available_replicas': None,\n",
      "            'collision_count': None,\n",
      "            'conditions': None,\n",
      "            'observed_generation': None,\n",
      "            'ready_replicas': None,\n",
      "            'replicas': None,\n",
      "            'unavailable_replicas': None,\n",
      "            'updated_replicas': None}}\n"
     ]
    },
    {
     "data": {
      "text/plain": [
       "[None, None]"
      ]
     },
     "execution_count": 4,
     "metadata": {},
     "output_type": "execute_result"
    }
   ],
   "source": [
    "from tk import kube_tensorboard\n",
    "\n",
    "tb = kube_tensorboard.TensorBoard(log_dir=\"/mnt/nfs-east1-d/testing/foo\",\n",
    "                                  namespace=\"kubeflow\")\n",
    "\n",
    "tb.create()\n",
    "\n",
    "# On your local:\n",
    "# kubectl port-forward --namespace=${KF_NAMESPACE} $PODNAME 8002:80\n",
    "\n",
    "#kubectl port-forward --namespace=kubeflow tb-j0614-1737-d47b-depl-6ffd568587-4nh6w 8002:80"
   ]
  },
  {
   "cell_type": "markdown",
   "metadata": {},
   "source": [
    "### Training"
   ]
  },
  {
   "cell_type": "code",
   "execution_count": null,
   "metadata": {},
   "outputs": [],
   "source": []
  },
  {
   "cell_type": "code",
   "execution_count": 69,
   "metadata": {},
   "outputs": [],
   "source": [
    "def gen_local_smoke_args(base_name):\n",
    "\n",
    "    app_root = \"/mnt/nfs-east1-d/work/tk\"\n",
    "\n",
    "    output_dir = os.path.join(app_root, \"output\")\n",
    "\n",
    "    job_name = util.generate_job_name(base_name)\n",
    "\n",
    "    train_args = {\n",
    "        \"problem\": \"img2img_allen_brain\",\n",
    "        \"model\": \"img2img_transformer\",\n",
    "        \"hparams_set\": \"img2img_transformer2d_tiny\",\n",
    "        \"data_dir\": \"/mnt/nfs-east1-d/data\",\n",
    "        \"output_dir\": output_dir,\n",
    "        \"train_steps\": 100,\n",
    "        \"schedule\": \"train\",\n",
    "        #\"generate_data\": True\n",
    "        \"hparams\": \"batch_size=10\",\n",
    "        \"profile\": False,\n",
    "        #\"cloud_mlengine\": True,\n",
    "        \"log_device_placement\": True,\n",
    "        \"worker_gpu\": 1,\n",
    "        \"save_checkpoint_secs\": 60,\n",
    "        \"dbgprofile\": True\n",
    "    }\n",
    "\n",
    "    args = {\n",
    "        \"job_name\": job_name,\n",
    "        \"volume_claim_id\": \"nfs-east1-d\",\n",
    "        \"app_root\": app_root,\n",
    "        \"gcp_project\": \"foo\",\n",
    "        \"namespace\": \"kubeflow\",\n",
    "        \"image\": \"gcr.io/kubeflow-rl/base:0.0.9\",\n",
    "        \"smoke\": True,\n",
    "        \"batch\": False,\n",
    "        \"train_args\": train_args,\n",
    "        \"cpu\": 7,\n",
    "        \"memory\": \"40Gi\",\n",
    "        \"num_gpu\": 1,\n",
    "        \"num_local_ssd\": 1,\n",
    "        \"ssd_mount_path\": \"/mnt/disks/ssd0\",\n",
    "        \"no_wait\": True,\n",
    "        \"num_worker_replicas\": 0,\n",
    "        \"num_ps_replicas\": 0,\n",
    "        \"selector_labels\": {\n",
    "          \"cloud.google.com/gke-nodepool\": \"train-gpu-preemptible-1x-hm\",\n",
    "          \"cloud.google.com/gke-accelerator\": \"nvidia-tesla-k80\"\n",
    "        }\n",
    "    }\n",
    "\n",
    "    return args\n",
    "\n",
    "\n",
    "def _stage(local_app_root, remote_app_root):\n",
    "    if not os.path.exists(local_app_root):\n",
    "        raise ValueError(\"Can't stage from a non-existent source, \"\n",
    "                         \"saw %s\" % local_app_root)\n",
    "    shutil.copytree(local_app_root, remote_app_root)\n",
    "\n",
    "\n",
    "def gen_remote_smoke_args(base_name):\n",
    "\n",
    "    args = gen_local_smoke_args(base_name)\n",
    "    local_app_root = args[\"app_root\"]\n",
    "\n",
    "    testing_storage_base = \"/mnt/nfs-east1-d/testing\"\n",
    "    remote_app_root = \"%s/%s\" % (testing_storage_base,\n",
    "                                 args[\"job_name\"])\n",
    "\n",
    "    args[\"train_args\"][\"output_dir\"] = os.path.join(remote_app_root,\n",
    "                                                    \"output\")\n",
    "\n",
    "    with open(os.path.join(local_app_root, \"job.sh\"), \"w\") as f:\n",
    "      f.write(\"pip install -e %s\\n\" % remote_app_root)\n",
    "      cmd = [\"python\", \"-m\", \"tk.experiment\"]\n",
    "      cmd.extend(hack_dict_to_cli_args(args[\"train_args\"]))\n",
    "      f.write(\" \".join(cmd) + \"\\n\")\n",
    "      logging.info(local_app_root)\n",
    "\n",
    "    _stage(local_app_root, remote_app_root)\n",
    "    args[\"app_root\"] = remote_app_root\n",
    "    args[\"batch\"] = True\n",
    "\n",
    "    return args\n"
   ]
  },
  {
   "cell_type": "code",
   "execution_count": 60,
   "metadata": {},
   "outputs": [
    {
     "name": "stderr",
     "output_type": "stream",
     "text": [
      "[2018-06-16 00:16:00,318] /mnt/nfs-east1-d/work/tk\n"
     ]
    }
   ],
   "source": [
    "args = gen_remote_smoke_args(\"profiles\")"
   ]
  },
  {
   "cell_type": "code",
   "execution_count": 61,
   "metadata": {},
   "outputs": [
    {
     "data": {
      "text/plain": [
       "{'app_root': '/mnt/nfs-east1-d/testing/profiles-j0616-0016-0620',\n",
       " 'batch': True,\n",
       " 'cpu': 6,\n",
       " 'gcp_project': 'foo',\n",
       " 'image': 'gcr.io/kubeflow-rl/base:0.0.9',\n",
       " 'job_name': 'profiles-j0616-0016-0620',\n",
       " 'namespace': 'kubeflow',\n",
       " 'no_wait': True,\n",
       " 'num_gpu': 1,\n",
       " 'num_local_ssd': 1,\n",
       " 'num_ps_replicas': 0,\n",
       " 'num_worker_replicas': 0,\n",
       " 'selector_labels': {'cloud.google.com/gke-accelerator': 'nvidia-tesla-k80',\n",
       "  'cloud.google.com/gke-nodepool': 'train-gpu-preemptible-1x-hm'},\n",
       " 'smoke': True,\n",
       " 'ssd_mount_path': '/mnt/disks/ssd0',\n",
       " 'train_args': {'data_dir': '/mnt/nfs-east1-d/data',\n",
       "  'dbgprofile': True,\n",
       "  'hparams': 'batch_size=10',\n",
       "  'hparams_set': 'img2img_transformer2d_tiny',\n",
       "  'log_device_placement': True,\n",
       "  'model': 'img2img_transformer',\n",
       "  'output_dir': '/mnt/nfs-east1-d/testing/profiles-j0616-0016-0620/output',\n",
       "  'problem': 'img2img_allen_brain',\n",
       "  'profile': False,\n",
       "  'save_checkpoint_secs': 60,\n",
       "  'schedule': 'train',\n",
       "  'train_steps': 100,\n",
       "  'worker_gpu': 1},\n",
       " 'volume_claim_id': 'nfs-east1-d'}"
      ]
     },
     "execution_count": 61,
     "metadata": {},
     "output_type": "execute_result"
    }
   ],
   "source": [
    "args"
   ]
  },
  {
   "cell_type": "code",
   "execution_count": 62,
   "metadata": {},
   "outputs": [
    {
     "name": "stderr",
     "output_type": "stream",
     "text": [
      "[2018-06-16 00:17:07,531] smoke: True\n"
     ]
    }
   ],
   "source": [
    "job = experiment.T2TExperiment(**args)\n",
    "job.run()"
   ]
  },
  {
   "cell_type": "code",
   "execution_count": 70,
   "metadata": {},
   "outputs": [
    {
     "name": "stderr",
     "output_type": "stream",
     "text": [
      "[2018-06-18 16:55:28,676] /mnt/nfs-east1-d/work/tk\n",
      "[2018-06-18 16:56:50,821] smoke: True\n",
      "[2018-06-18 16:56:50,946] /mnt/nfs-east1-d/work/tk\n",
      "[2018-06-18 16:58:12,952] smoke: True\n",
      "[2018-06-18 16:58:13,074] /mnt/nfs-east1-d/work/tk\n",
      "[2018-06-18 16:59:35,686] smoke: True\n",
      "[2018-06-18 16:59:35,814] /mnt/nfs-east1-d/work/tk\n",
      "[2018-06-18 17:00:59,650] smoke: True\n"
     ]
    }
   ],
   "source": [
    "for i in range(0, 4):\n",
    "    args = gen_remote_smoke_args(\"multinode\")\n",
    "    job = experiment.T2TExperiment(**args)\n",
    "    job.run()"
   ]
  }
 ],
 "metadata": {
  "kernelspec": {
   "display_name": "Python 2",
   "language": "python",
   "name": "python2"
  },
  "language_info": {
   "codemirror_mode": {
    "name": "ipython",
    "version": 2
   },
   "file_extension": ".py",
   "mimetype": "text/x-python",
   "name": "python",
   "nbconvert_exporter": "python",
   "pygments_lexer": "ipython2",
   "version": "2.7.14"
  }
 },
 "nbformat": 4,
 "nbformat_minor": 2
}
