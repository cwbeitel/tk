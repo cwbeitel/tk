{
 "cells": [
  {
   "cell_type": "markdown",
   "metadata": {},
   "source": [
    "## Set up"
   ]
  },
  {
   "cell_type": "code",
   "execution_count": 4,
   "metadata": {},
   "outputs": [
    {
     "name": "stderr",
     "output_type": "stream",
     "text": [
      "/home/jovyan/.conda/envs/py2/lib/python2.7/site-packages/h5py/__init__.py:36: FutureWarning: Conversion of the second argument of issubdtype from `float` to `np.floating` is deprecated. In future, it will be treated as `np.float64 == np.dtype(float).type`.\n",
      "  from ._conv import register_converters as _register_converters\n"
     ]
    },
    {
     "name": "stdout",
     "output_type": "stream",
     "text": [
      "WARNING:tensorflow:From /home/jovyan/.conda/envs/py2/lib/python2.7/site-packages/tensorflow/contrib/learn/python/learn/datasets/base.py:198: retry (from tensorflow.contrib.learn.python.learn.datasets.base) is deprecated and will be removed in a future version.\n",
      "Instructions for updating:\n",
      "Use the retry module or similar alternatives.\n"
     ]
    }
   ],
   "source": [
    "import tensorflow as tf\n",
    "import matplotlib.pyplot as plt\n",
    "import numpy as np\n",
    "import os\n",
    "import collections\n",
    "\n",
    "from tensor2tensor import models\n",
    "from tensor2tensor import problems\n",
    "from tensor2tensor.layers import common_layers\n",
    "from tensor2tensor.utils import trainer_lib\n",
    "from tensor2tensor.utils import t2t_model\n",
    "from tensor2tensor.utils import registry\n",
    "from tensor2tensor.utils import metrics\n",
    "\n",
    "# Enable TF Eager execution\n",
    "from tensorflow.contrib.eager.python import tfe\n",
    "tfe.enable_eager_execution()\n",
    "\n",
    "# Other setup\n",
    "Modes = tf.estimator.ModeKeys\n",
    "\n",
    "# Setup some directories\n",
    "data_dir = os.path.expanduser(\"/mnt/nfs-1/t2t/data\")\n",
    "tmp_dir = os.path.expanduser(\"/mnt/nfs-1/t2t/tmp\")\n",
    "train_dir = os.path.expanduser(\"/mnt/nfs-1/t2t/train\")\n",
    "checkpoint_dir = os.path.expanduser(\"/mnt/nfs-1/t2t/checkpoints\")\n",
    "tf.gfile.MakeDirs(data_dir)\n",
    "tf.gfile.MakeDirs(tmp_dir)\n",
    "tf.gfile.MakeDirs(train_dir)\n",
    "tf.gfile.MakeDirs(checkpoint_dir)\n",
    "gs_data_dir = \"gs://tensor2tensor-data\"\n",
    "gs_ckpt_dir = \"gs://tensor2tensor-checkpoints/\""
   ]
  },
  {
   "cell_type": "code",
   "execution_count": 5,
   "metadata": {},
   "outputs": [],
   "source": [
    "import matplotlib.pyplot as plt"
   ]
  },
  {
   "cell_type": "code",
   "execution_count": 20,
   "metadata": {},
   "outputs": [],
   "source": [
    "hparams_set = \"img2img_transformer2d_tiny\"\n",
    "problem_name = \"img2img_cifar10\"\n",
    "model_name = \"img2img_transformer\""
   ]
  },
  {
   "cell_type": "code",
   "execution_count": 21,
   "metadata": {},
   "outputs": [],
   "source": [
    "hp = trainer_lib.create_hparams(\n",
    "    hparams_set,\n",
    "    data_dir=data_dir,\n",
    "    problem_name=problem_name)"
   ]
  },
  {
   "cell_type": "code",
   "execution_count": 22,
   "metadata": {},
   "outputs": [],
   "source": [
    "translate_model_7 = registry.model(model_name)(hp, Modes.EVAL)"
   ]
  },
  {
   "cell_type": "code",
   "execution_count": 24,
   "metadata": {},
   "outputs": [],
   "source": [
    "translate_model_7.set_mode(Modes.PREDICT)"
   ]
  },
  {
   "cell_type": "code",
   "execution_count": 25,
   "metadata": {},
   "outputs": [],
   "source": [
    "img2img_cifar10 = problems.problem(\"img2img_cifar10\")"
   ]
  },
  {
   "cell_type": "code",
   "execution_count": 26,
   "metadata": {},
   "outputs": [
    {
     "name": "stdout",
     "output_type": "stream",
     "text": [
      "INFO:tensorflow:Reading data files from /mnt/nfs-1/t2t/data-1/image_cifar10_plain-dev*\n"
     ]
    },
    {
     "name": "stderr",
     "output_type": "stream",
     "text": [
      "[2018-05-21 21:33:31,058] Reading data files from /mnt/nfs-1/t2t/data-1/image_cifar10_plain-dev*\n"
     ]
    },
    {
     "name": "stdout",
     "output_type": "stream",
     "text": [
      "INFO:tensorflow:partition: 0 num_data_files: 1\n"
     ]
    },
    {
     "name": "stderr",
     "output_type": "stream",
     "text": [
      "[2018-05-21 21:33:31,071] partition: 0 num_data_files: 1\n"
     ]
    }
   ],
   "source": [
    "dataset = img2img_cifar10.dataset(Modes.PREDICT, \"/mnt/nfs-1/t2t/data-1/\")"
   ]
  },
  {
   "cell_type": "code",
   "execution_count": 27,
   "metadata": {},
   "outputs": [],
   "source": [
    "# Get one example using tf.data via t2t (in eager mode)\n",
    "example = tfe.Iterator(dataset).next()"
   ]
  },
  {
   "cell_type": "code",
   "execution_count": 28,
   "metadata": {},
   "outputs": [],
   "source": [
    "reshaped_input = tf.reshape(example[\"inputs\"], [1, 8, 8, 3])"
   ]
  },
  {
   "cell_type": "code",
   "execution_count": null,
   "metadata": {},
   "outputs": [],
   "source": [
    "example[\"targets\"]"
   ]
  },
  {
   "cell_type": "markdown",
   "metadata": {},
   "source": [
    "### Calling model in eval mode"
   ]
  },
  {
   "cell_type": "code",
   "execution_count": 30,
   "metadata": {},
   "outputs": [],
   "source": [
    "foo = tf.reshape(example[\"targets\"], [1, 32, 32, 3])"
   ]
  },
  {
   "cell_type": "code",
   "execution_count": 31,
   "metadata": {},
   "outputs": [],
   "source": [
    "ckpt_path = \"/mnt/nfs-1/testing/tune-0518-1723-e339/output/model.ckpt-9001\""
   ]
  },
  {
   "cell_type": "code",
   "execution_count": 37,
   "metadata": {},
   "outputs": [
    {
     "name": "stdout",
     "output_type": "stream",
     "text": [
      "INFO:tensorflow:Using variable initializer: uniform_unit_scaling\n"
     ]
    },
    {
     "name": "stderr",
     "output_type": "stream",
     "text": [
      "[2018-05-21 21:34:57,127] Using variable initializer: uniform_unit_scaling\n"
     ]
    }
   ],
   "source": [
    "import numpy as np\n",
    "\n",
    "translate_model_7.set_mode(Modes.EVAL)\n",
    "\n",
    "with tfe.restore_variables_on_create(None):\n",
    "    for count, example in enumerate(tfe.Iterator(dataset)):\n",
    "      if count >= 1:\n",
    "        break\n",
    "\n",
    "      example[\"inputs\"] = tf.reshape(example[\"inputs\"], [1, 8, 8, 3])\n",
    "      example[\"targets\"] = foo\n",
    "\n",
    "      predictions, other = translate_model_7(example)"
   ]
  },
  {
   "cell_type": "code",
   "execution_count": null,
   "metadata": {},
   "outputs": [],
   "source": [
    "predictions"
   ]
  },
  {
   "cell_type": "code",
   "execution_count": 39,
   "metadata": {},
   "outputs": [],
   "source": [
    "p = predictions.numpy()\n",
    "x_max = p.shape[1] # X-position in image\n",
    "y_max = p.shape[2] # Y-position in image\n",
    "c_max = p.shape[3] # Color channel (r,g,b)\n",
    "\n",
    "# The image we will populate\n",
    "image = np.zeros((1, x_max, y_max, c_max), dtype=np.uint8)\n",
    "\n",
    "batch_idx = 0\n",
    "\n",
    "for x in range(0, x_max):\n",
    "    for y in range(0, y_max):\n",
    "        for c in range(0, c_max):\n",
    "            # Get the index of the greatest value in p[0][x][y][c]\n",
    "            val = np.argmax(p[0][x][y][c])\n",
    "            image[batch_idx][x][y][c] = np.uint8(np.argmax(p[0][x][y][c]))"
   ]
  },
  {
   "cell_type": "code",
   "execution_count": 41,
   "metadata": {},
   "outputs": [
    {
     "data": {
      "text/plain": [
       "<matplotlib.image.AxesImage at 0x7f1f586bf310>"
      ]
     },
     "execution_count": 41,
     "metadata": {},
     "output_type": "execute_result"
    },
    {
     "data": {
      "image/png": "[encoded data removed]",
      "text/plain": [
       "<Figure size 432x288 with 1 Axes>"
      ]
     },
     "metadata": {},
     "output_type": "display_data"
    }
   ],
   "source": [
    "plt.imshow(image[0])"
   ]
  },
  {
   "cell_type": "code",
   "execution_count": 170,
   "metadata": {},
   "outputs": [
    {
     "data": {
      "text/plain": [
       "<matplotlib.image.AxesImage at 0x7f39b8788510>"
      ]
     },
     "execution_count": 170,
     "metadata": {},
     "output_type": "execute_result"
    },
    {
     "data": {
      "image/png": "[encoded data removed]",
      "text/plain": [
       "<Figure size 432x288 with 1 Axes>"
      ]
     },
     "metadata": {},
     "output_type": "display_data"
    }
   ],
   "source": [
    "plt.imshow(example[\"inputs\"].numpy())"
   ]
  },
  {
   "cell_type": "code",
   "execution_count": 171,
   "metadata": {},
   "outputs": [
    {
     "data": {
      "text/plain": [
       "<matplotlib.image.AxesImage at 0x7f39b86f9190>"
      ]
     },
     "execution_count": 171,
     "metadata": {},
     "output_type": "execute_result"
    },
    {
     "data": {
      "image/png": "[encoded data removed]",
      "text/plain": [
       "<Figure size 432x288 with 1 Axes>"
      ]
     },
     "metadata": {},
     "output_type": "display_data"
    }
   ],
   "source": [
    "plt.imshow(example[\"targets\"].numpy())"
   ]
  },
  {
   "cell_type": "markdown",
   "metadata": {},
   "source": [
    "so no we're not exactly producing images of horses yet. but maybe if \"big data\" we would be? 😬 Perhaps it would be doing a larger training run."
   ]
  },
  {
   "cell_type": "markdown",
   "metadata": {},
   "source": [
    "So perhaps eval mode is fine for producing predictions it just does extra work in computing the loss betweent this prediction and an expected target?"
   ]
  },
  {
   "cell_type": "markdown",
   "metadata": {},
   "source": [
    "Below are exploration of (1) running model in predict mode and (2) running model.predict."
   ]
  },
  {
   "cell_type": "markdown",
   "metadata": {},
   "source": [
    "### Calling model in predict mode\n",
    "\n",
    "But what about PREDICT mode?"
   ]
  },
  {
   "cell_type": "code",
   "execution_count": 119,
   "metadata": {},
   "outputs": [
    {
     "name": "stdout",
     "output_type": "stream",
     "text": [
      "INFO:tensorflow:Using variable initializer: uniform_unit_scaling\n"
     ]
    },
    {
     "name": "stderr",
     "output_type": "stream",
     "text": [
      "[2018-05-03 22:04:24,233] Using variable initializer: uniform_unit_scaling\n"
     ]
    }
   ],
   "source": [
    "import numpy as np\n",
    "\n",
    "translate_model_1.set_mode(Modes.PREDICT)\n",
    "\n",
    "with tfe.restore_variables_on_create(ckpt_path):\n",
    "    for count, example in enumerate(tfe.Iterator(dataset)):\n",
    "      if count >= 1:\n",
    "        break\n",
    "\n",
    "      example[\"inputs\"] = tf.reshape(example[\"inputs\"], [1, 8, 8, 3])\n",
    "      example[\"targets\"] = foo\n",
    "      # Perhaps in PREDICT mode it's only using the shape of the targets and not the contents?\n",
    "\n",
    "      predictions, other = translate_model_1(example)"
   ]
  },
  {
   "cell_type": "code",
   "execution_count": 120,
   "metadata": {},
   "outputs": [
    {
     "data": {
      "text/plain": [
       "TensorShape([Dimension(1), Dimension(32), Dimension(1), Dimension(1), Dimension(256)])"
      ]
     },
     "execution_count": 120,
     "metadata": {},
     "output_type": "execute_result"
    }
   ],
   "source": [
    "predictions.shape"
   ]
  },
  {
   "cell_type": "code",
   "execution_count": 121,
   "metadata": {},
   "outputs": [
    {
     "data": {
      "text/plain": [
       "<tf.Tensor: id=121150, shape=(1, 32, 1, 1, 256), dtype=float32, numpy=\n",
       "array([[[[[ 0.02728007,  0.2610966 , -0.08272113, ..., -0.04751465,\n",
       "            0.34203047, -0.3122358 ]]],\n",
       "\n",
       "\n",
       "        [[[ 0.17192686,  0.3652917 , -0.13939053, ..., -0.03549231,\n",
       "            0.22401936, -0.1782961 ]]],\n",
       "\n",
       "\n",
       "        [[[ 0.30669683,  0.35906962, -0.3016665 , ..., -0.04809308,\n",
       "            0.21740052, -0.26972783]]],\n",
       "\n",
       "\n",
       "        ...,\n",
       "\n",
       "\n",
       "        [[[ 0.11051102, -0.08833907, -0.24874426, ...,  0.01420414,\n",
       "            0.56916773, -0.12009691]]],\n",
       "\n",
       "\n",
       "        [[[ 0.54575425, -0.12090082,  0.11244182, ...,  0.2518709 ,\n",
       "            0.5514451 , -0.13175994]]],\n",
       "\n",
       "\n",
       "        [[[ 0.1710438 , -0.19372037, -0.19395082, ...,  0.24723886,\n",
       "            0.5171461 ,  0.01972612]]]]], dtype=float32)>"
      ]
     },
     "execution_count": 121,
     "metadata": {},
     "output_type": "execute_result"
    }
   ],
   "source": [
    "predictions"
   ]
  },
  {
   "cell_type": "markdown",
   "metadata": {},
   "source": [
    "### Using model.infer\n",
    "\n",
    "But what about model.infer?"
   ]
  },
  {
   "cell_type": "code",
   "execution_count": null,
   "metadata": {},
   "outputs": [],
   "source": [
    "import numpy as np\n",
    "\n",
    "translate_model_1.set_mode(Modes.PREDICT)\n",
    "\n",
    "with tfe.restore_variables_on_create(ckpt_path):\n",
    "    for count, example in enumerate(tfe.Iterator(dataset)):\n",
    "      if count >= 1:\n",
    "        break\n",
    "\n",
    "      example[\"inputs\"] = tf.reshape(example[\"inputs\"], [1, 8, 8, 3])\n",
    "      example[\"targets\"] = tf.reshape(example[\"targets\"], [1, 32, 32, 3])\n",
    "\n",
    "      predictions = translate_model_1.infer(example)"
   ]
  }
 ],
 "metadata": {
  "kernelspec": {
   "display_name": "Python 2",
   "language": "python",
   "name": "python2"
  },
  "language_info": {
   "codemirror_mode": {
    "name": "ipython",
    "version": 2
   },
   "file_extension": ".py",
   "mimetype": "text/x-python",
   "name": "python",
   "nbconvert_exporter": "python",
   "pygments_lexer": "ipython2",
   "version": "2.7.14"
  }
 },
 "nbformat": 4,
 "nbformat_minor": 2
}
