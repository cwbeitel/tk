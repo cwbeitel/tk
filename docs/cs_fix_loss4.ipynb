{
 "cells": [
  {
   "cell_type": "markdown",
   "metadata": {},
   "source": [
    "\n",
    "# CS experiments part 4\n"
   ]
  },
  {
   "cell_type": "code",
   "execution_count": 1,
   "metadata": {},
   "outputs": [],
   "source": [
    "from tk.experiment import configure_experiment, T2TExperiment"
   ]
  },
  {
   "cell_type": "code",
   "execution_count": 2,
   "metadata": {},
   "outputs": [
    {
     "name": "stdout",
     "output_type": "stream",
     "text": [
      "train_args:\n",
      "{'data_dir': '/mnt/nfs-east1-d/data',\n",
      " 'dbgprofile': False,\n",
      " 'hparams': \"'use_transpose_similarity=1,transpose_similarity_multiplier=1,use_transpose_cosine_similarity=1,compute_mapping_loss=1,loss_variant=slicenet'\",\n",
      " 'hparams_set': 'similarity_transformer_base',\n",
      " 'log_device_placement': False,\n",
      " 'model': 'constrained_embedding_transformer',\n",
      " 'output_dir': 'gs://kubeflow-rl-checkpoints/comparisons/cs-v8-lvslicenet-ts1-tcs1-tm1-exl1-ntm1/cs-v8-lvslicenet-ts1-tcs1-tm1-exl1-ntm1-j1108-2210-0583/output',\n",
      " 'problem': 'github_constrained_embedding',\n",
      " 'profile': False,\n",
      " 'ps_gpu': 1,\n",
      " 'save_checkpoints_secs': 1800,\n",
      " 'schedule': 'train',\n",
      " 'ssd_mount_path': '/mnt/disks/ssd0',\n",
      " 't2t_usr_dir': 'gs://kubeflow-rl-checkpoints/comparisons/cs-v8-lvslicenet-ts1-tcs1-tm1-exl1-ntm1/cs-v8-lvslicenet-ts1-tcs1-tm1-exl1-ntm1-j1108-2210-0583/tk',\n",
      " 'train_steps': 100000,\n",
      " 'worker_gpu': 1,\n",
      " 'worker_gpu_memory_fraction': 0.95}\n",
      "train_args:\n",
      "{'data_dir': '/mnt/nfs-east1-d/data',\n",
      " 'dbgprofile': False,\n",
      " 'hparams': \"'use_transpose_similarity=1,transpose_similarity_multiplier=1,use_transpose_cosine_similarity=1,compute_mapping_loss=1,loss_variant=kfnet'\",\n",
      " 'hparams_set': 'similarity_transformer_base',\n",
      " 'log_device_placement': False,\n",
      " 'model': 'constrained_embedding_transformer',\n",
      " 'output_dir': 'gs://kubeflow-rl-checkpoints/comparisons/cs-v8-lvkfnet-ts1-tcs1-tm1-exl1-ntm1/cs-v8-lvkfnet-ts1-tcs1-tm1-exl1-ntm1-j1108-2210-47f6/output',\n",
      " 'problem': 'github_constrained_embedding',\n",
      " 'profile': False,\n",
      " 'ps_gpu': 1,\n",
      " 'save_checkpoints_secs': 1800,\n",
      " 'schedule': 'train',\n",
      " 'ssd_mount_path': '/mnt/disks/ssd0',\n",
      " 't2t_usr_dir': 'gs://kubeflow-rl-checkpoints/comparisons/cs-v8-lvkfnet-ts1-tcs1-tm1-exl1-ntm1/cs-v8-lvkfnet-ts1-tcs1-tm1-exl1-ntm1-j1108-2210-47f6/tk',\n",
      " 'train_steps': 100000,\n",
      " 'worker_gpu': 1,\n",
      " 'worker_gpu_memory_fraction': 0.95}\n"
     ]
    }
   ],
   "source": [
    "\n",
    "for loss_variant in [\"slicenet\", \"kfnet\"]:\n",
    "\n",
    "  for use_ts in [1]:\n",
    "    \n",
    "    for use_t_cs in [1]:\n",
    "\n",
    "        for ts_multiplier in [1]:\n",
    "\n",
    "            # if no non-ts similarity loss need extra loss\n",
    "            for extra_loss in [1]:\n",
    "                \n",
    "                for non_ts_mult in [1]:\n",
    "\n",
    "                    args = configure_experiment(\"cs-v8-lv%s-ts%s-tcs%s-tm%s-exl%s-ntm%s\" % (\n",
    "                        loss_variant, use_ts, use_t_cs, ts_multiplier, extra_loss, non_ts_mult),\n",
    "                                                 problem=\"github_constrained_embedding\",\n",
    "                                                 hparams_set=\"similarity_transformer_base\",\n",
    "                                                 model=\"constrained_embedding_transformer\",\n",
    "                                                 extra_hparams={\n",
    "                                                     \"loss_variant\": loss_variant,\n",
    "                                                     \"use_transpose_similarity\": use_ts,\n",
    "                                                     \"compute_mapping_loss\": extra_loss,\n",
    "                                                     \"transpose_similarity_multiplier\": ts_multiplier,\n",
    "                                                     \"use_transpose_cosine_similarity\": use_t_cs\n",
    "                                                 },\n",
    "                                                 num_gpu_per_worker=1,\n",
    "                                                 num_steps=100000,\n",
    "                                                 num_ps=0,\n",
    "                                                 schedule=\"train\")\n",
    "\n",
    "                    job = T2TExperiment(**args)\n",
    "                    job.run()\n"
   ]
  },
  {
   "cell_type": "code",
   "execution_count": 5,
   "metadata": {},
   "outputs": [
    {
     "name": "stdout",
     "output_type": "stream",
     "text": [
      "train_args:\n",
      "{'data_dir': '/mnt/nfs-east1-d/data',\n",
      " 'dbgprofile': False,\n",
      " 'hparams': \"'use_transpose_similarity=1,transpose_similarity_multiplier=1,use_transpose_cosine_similarity=1,compute_mapping_loss=1,loss_variant=slicenet'\",\n",
      " 'hparams_set': 'similarity_transformer_base',\n",
      " 'log_device_placement': False,\n",
      " 'model': 'constrained_embedding_transformer',\n",
      " 'output_dir': 'gs://kubeflow-rl-checkpoints/comparisons/cs-getdistconf/cs-getdistconf-j1109-1702-139a/output',\n",
      " 'problem': 'github_constrained_embedding',\n",
      " 'profile': False,\n",
      " 'ps_gpu': 1,\n",
      " 'save_checkpoints_secs': 1800,\n",
      " 'schedule': 'train',\n",
      " 'ssd_mount_path': '/mnt/disks/ssd0',\n",
      " 't2t_usr_dir': 'gs://kubeflow-rl-checkpoints/comparisons/cs-getdistconf/cs-getdistconf-j1109-1702-139a/tk',\n",
      " 'train_steps': 2000,\n",
      " 'worker_gpu': 1,\n",
      " 'worker_gpu_memory_fraction': 0.95}\n"
     ]
    }
   ],
   "source": [
    "\n",
    "for loss_variant in [\"slicenet\"]:\n",
    "\n",
    "  for use_ts in [1]:\n",
    "    \n",
    "    for use_t_cs in [1]:\n",
    "\n",
    "        for ts_multiplier in [1]:\n",
    "\n",
    "            # if no non-ts similarity loss need extra loss\n",
    "            for extra_loss in [1]:\n",
    "                \n",
    "                for non_ts_mult in [1]:\n",
    "\n",
    "                    args = configure_experiment(\"cs-getdistconf\", #% (\n",
    "                        #loss_variant, use_ts, use_t_cs, ts_multiplier, extra_loss, non_ts_mult),\n",
    "                                                 problem=\"github_constrained_embedding\",\n",
    "                                                 hparams_set=\"similarity_transformer_base\",\n",
    "                                                 model=\"constrained_embedding_transformer\",\n",
    "                                                 extra_hparams={\n",
    "                                                     \"loss_variant\": loss_variant,\n",
    "                                                     \"use_transpose_similarity\": use_ts,\n",
    "                                                     \"compute_mapping_loss\": extra_loss,\n",
    "                                                     \"transpose_similarity_multiplier\": ts_multiplier,\n",
    "                                                     \"use_transpose_cosine_similarity\": use_t_cs\n",
    "                                                 },\n",
    "                                                 num_gpu_per_worker=1,\n",
    "                                                 num_steps=2000,\n",
    "                                                 num_ps=2,\n",
    "                                                 schedule=\"train\")\n",
    "\n",
    "                    job = T2TExperiment(**args)\n",
    "                    job.run()\n"
   ]
  },
  {
   "cell_type": "markdown",
   "metadata": {},
   "source": [
    "## Additional runs\n",
    "\n",
    "Let's launch some super long runs with the larger param set including for a larger vocab problem."
   ]
  },
  {
   "cell_type": "code",
   "execution_count": 10,
   "metadata": {},
   "outputs": [
    {
     "name": "stdout",
     "output_type": "stream",
     "text": [
      "train_args:\n",
      "{'data_dir': '/mnt/nfs-east1-d/data',\n",
      " 'dbgprofile': False,\n",
      " 'hparams': \"'use_transpose_similarity=1,transpose_similarity_multiplier=1,use_transpose_cosine_similarity=1,compute_mapping_loss=1,loss_variant=slicenet'\",\n",
      " 'hparams_set': 'similarity_transformer_base',\n",
      " 'log_device_placement': False,\n",
      " 'model': 'constrained_embedding_transformer',\n",
      " 'output_dir': 'gs://kubeflow-rl-checkpoints/comparisons/cs-v10-r1-voc/cs-v10-r1-voc-j1112-2348-3748/output',\n",
      " 'problem': 'github_constrained_embedding',\n",
      " 'profile': False,\n",
      " 'ps_gpu': 1,\n",
      " 'save_checkpoints_secs': 1800,\n",
      " 'schedule': 'train',\n",
      " 'ssd_mount_path': '/mnt/disks/ssd0',\n",
      " 't2t_usr_dir': 'gs://kubeflow-rl-checkpoints/comparisons/cs-v10-r1-voc/cs-v10-r1-voc-j1112-2348-3748/tk',\n",
      " 'train_steps': 300000,\n",
      " 'worker_gpu': 1,\n",
      " 'worker_gpu_memory_fraction': 0.95}\n",
      "train_args:\n",
      "{'data_dir': '/mnt/nfs-east1-d/data',\n",
      " 'dbgprofile': False,\n",
      " 'hparams': \"'use_transpose_similarity=1,transpose_similarity_multiplier=1,use_transpose_cosine_similarity=1,compute_mapping_loss=1,loss_variant=slicenet'\",\n",
      " 'hparams_set': 'similarity_transformer_base',\n",
      " 'log_device_placement': False,\n",
      " 'model': 'constrained_embedding_transformer',\n",
      " 'output_dir': 'gs://kubeflow-rl-checkpoints/comparisons/cs-v10-r1-voc16k/cs-v10-r1-voc16k-j1112-2348-4980/output',\n",
      " 'problem': 'github_constrained_embedding16k',\n",
      " 'profile': False,\n",
      " 'ps_gpu': 1,\n",
      " 'save_checkpoints_secs': 1800,\n",
      " 'schedule': 'train',\n",
      " 'ssd_mount_path': '/mnt/disks/ssd0',\n",
      " 't2t_usr_dir': 'gs://kubeflow-rl-checkpoints/comparisons/cs-v10-r1-voc16k/cs-v10-r1-voc16k-j1112-2348-4980/tk',\n",
      " 'train_steps': 300000,\n",
      " 'worker_gpu': 1,\n",
      " 'worker_gpu_memory_fraction': 0.95}\n",
      "train_args:\n",
      "{'data_dir': '/mnt/nfs-east1-d/data',\n",
      " 'dbgprofile': False,\n",
      " 'hparams': \"'use_transpose_similarity=1,transpose_similarity_multiplier=1,use_transpose_cosine_similarity=1,compute_mapping_loss=1,loss_variant=slicenet'\",\n",
      " 'hparams_set': 'similarity_transformer_base',\n",
      " 'log_device_placement': False,\n",
      " 'model': 'constrained_embedding_transformer',\n",
      " 'output_dir': 'gs://kubeflow-rl-checkpoints/comparisons/cs-v10-r1-voc32k/cs-v10-r1-voc32k-j1112-2348-76a4/output',\n",
      " 'problem': 'github_constrained_embedding32k',\n",
      " 'profile': False,\n",
      " 'ps_gpu': 1,\n",
      " 'save_checkpoints_secs': 1800,\n",
      " 'schedule': 'train',\n",
      " 'ssd_mount_path': '/mnt/disks/ssd0',\n",
      " 't2t_usr_dir': 'gs://kubeflow-rl-checkpoints/comparisons/cs-v10-r1-voc32k/cs-v10-r1-voc32k-j1112-2348-76a4/tk',\n",
      " 'train_steps': 300000,\n",
      " 'worker_gpu': 1,\n",
      " 'worker_gpu_memory_fraction': 0.95}\n",
      "train_args:\n",
      "{'data_dir': '/mnt/nfs-east1-d/data',\n",
      " 'dbgprofile': False,\n",
      " 'hparams': \"'use_transpose_similarity=1,transpose_similarity_multiplier=1,use_transpose_cosine_similarity=1,compute_mapping_loss=1,loss_variant=slicenet'\",\n",
      " 'hparams_set': 'similarity_transformer_base',\n",
      " 'log_device_placement': False,\n",
      " 'model': 'constrained_embedding_transformer',\n",
      " 'output_dir': 'gs://kubeflow-rl-checkpoints/comparisons/cs-v10-r1-voc64k/cs-v10-r1-voc64k-j1112-2349-e8f9/output',\n",
      " 'problem': 'github_constrained_embedding64k',\n",
      " 'profile': False,\n",
      " 'ps_gpu': 1,\n",
      " 'save_checkpoints_secs': 1800,\n",
      " 'schedule': 'train',\n",
      " 'ssd_mount_path': '/mnt/disks/ssd0',\n",
      " 't2t_usr_dir': 'gs://kubeflow-rl-checkpoints/comparisons/cs-v10-r1-voc64k/cs-v10-r1-voc64k-j1112-2349-e8f9/tk',\n",
      " 'train_steps': 300000,\n",
      " 'worker_gpu': 1,\n",
      " 'worker_gpu_memory_fraction': 0.95}\n"
     ]
    }
   ],
   "source": [
    "\n",
    "from tk.experiment import configure_experiment, T2TExperiment\n",
    "\n",
    "loss_variant = \"slicenet\"\n",
    "use_ts = 1\n",
    "extra_loss = 1\n",
    "use_t_cs = 1\n",
    "ts_multiplier = 1\n",
    "num_steps = 300000\n",
    "\n",
    "for problem in [\"github_constrained_embedding\",\n",
    "                \"github_constrained_embedding16k\",\n",
    "                \"github_constrained_embedding32k\",\n",
    "                \"github_constrained_embedding64k\"]:\n",
    "    \n",
    "    label = problem.replace(\"github_constrained_embedding\", \"voc\")\n",
    "\n",
    "    args = configure_experiment(\"cs-v10-r1-%s\" % label,\n",
    "                                problem=problem,\n",
    "                                hparams_set=\"similarity_transformer_base\",\n",
    "                                model=\"constrained_embedding_transformer\",\n",
    "                                extra_hparams={\n",
    "                                     \"loss_variant\": loss_variant,\n",
    "                                     \"use_transpose_similarity\": use_ts,\n",
    "                                     \"compute_mapping_loss\": extra_loss,\n",
    "                                     \"transpose_similarity_multiplier\": ts_multiplier,\n",
    "                                     \"use_transpose_cosine_similarity\": use_t_cs\n",
    "                                },\n",
    "                                num_gpu_per_worker=1,\n",
    "                                num_steps=num_steps,\n",
    "                                num_ps=0,\n",
    "                                schedule=\"train\")\n",
    "\n",
    "    job = T2TExperiment(**args)\n",
    "    job.run()\n"
   ]
  },
  {
   "cell_type": "code",
   "execution_count": null,
   "metadata": {},
   "outputs": [],
   "source": [
    "\n",
    "# Multiple GPUs\n",
    "\n",
    "from tk.experiment import configure_experiment, T2TExperiment\n",
    "\n",
    "loss_variant = \"slicenet\"\n",
    "use_ts = 1\n",
    "extra_loss = 1\n",
    "use_t_cs = 1\n",
    "ts_multiplier = 1\n",
    "num_steps = 300000\n",
    "\n",
    "for num_gpu in [2,4]:\n",
    "\n",
    "  for problem in [\"github_constrained_embedding64k\"]:\n",
    "    \n",
    "    label = problem.replace(\"github_constrained_embedding\", \"voc\")\n",
    "\n",
    "    args = configure_experiment(\"cs-v10-g%s-%s\" % (num_gpu, label),\n",
    "                                problem=problem,\n",
    "                                hparams_set=\"similarity_transformer_base\",\n",
    "                                model=\"constrained_embedding_transformer\",\n",
    "                                extra_hparams={\n",
    "                                     \"loss_variant\": loss_variant,\n",
    "                                     \"use_transpose_similarity\": use_ts,\n",
    "                                     \"compute_mapping_loss\": extra_loss,\n",
    "                                     \"transpose_similarity_multiplier\": ts_multiplier,\n",
    "                                     \"use_transpose_cosine_similarity\": use_t_cs\n",
    "                                },\n",
    "                                num_gpu_per_worker=num_gpu,\n",
    "                                num_steps=num_steps,\n",
    "                                num_ps=0,\n",
    "                                schedule=\"train\")\n",
    "\n",
    "    job = T2TExperiment(**args)\n",
    "    job.run()\n"
   ]
  },
  {
   "cell_type": "code",
   "execution_count": null,
   "metadata": {},
   "outputs": [],
   "source": [
    "\n",
    "from tk.kube_tensorboard import TensorBoard\n",
    "\n",
    "tb = TensorBoard(log_dir=\"/mnt/nfs-east1-d/ckpts\",\n",
    "                 namespace=\"kubeflow\",\n",
    "                 job_name_base=\"tb3\",\n",
    "                 volume_claim_id=\"nfs-east1-d\")\n",
    "tb.create()\n"
   ]
  },
  {
   "cell_type": "code",
   "execution_count": 9,
   "metadata": {},
   "outputs": [
    {
     "name": "stdout",
     "output_type": "stream",
     "text": [
      "{'api_version': 'v1',\n",
      " 'kind': 'Service',\n",
      " 'metadata': {'annotations': None,\n",
      "              'cluster_name': None,\n",
      "              'creation_timestamp': datetime.datetime(2018, 11, 14, 22, 16, 20, tzinfo=tzlocal()),\n",
      "              'deletion_grace_period_seconds': None,\n",
      "              'deletion_timestamp': None,\n",
      "              'finalizers': None,\n",
      "              'generate_name': None,\n",
      "              'generation': None,\n",
      "              'initializers': None,\n",
      "              'labels': None,\n",
      "              'name': 'tb5-svc',\n",
      "              'namespace': 'kubeflow',\n",
      "              'owner_references': None,\n",
      "              'resource_version': '10048409',\n",
      "              'self_link': '/api/v1/namespaces/kubeflow/services/tb5-svc',\n",
      "              'uid': 'e9b82ca3-e85a-11e8-889b-42010a8e00b4'},\n",
      " 'spec': {'cluster_ip': '10.47.241.237',\n",
      "          'external_i_ps': None,\n",
      "          'external_name': None,\n",
      "          'external_traffic_policy': None,\n",
      "          'health_check_node_port': None,\n",
      "          'load_balancer_ip': None,\n",
      "          'load_balancer_source_ranges': None,\n",
      "          'ports': [{'name': 'http',\n",
      "                     'node_port': None,\n",
      "                     'port': 80,\n",
      "                     'protocol': 'TCP',\n",
      "                     'target_port': 80}],\n",
      "          'publish_not_ready_addresses': None,\n",
      "          'selector': {u'app': 'tensorboard', u'tb-job': 'tb5-depl'},\n",
      "          'session_affinity': 'None',\n",
      "          'session_affinity_config': None,\n",
      "          'type': 'ClusterIP'},\n",
      " 'status': {'load_balancer': {'ingress': None}}}\n",
      "{'api_version': 'apps/v1beta1',\n",
      " 'kind': 'Deployment',\n",
      " 'metadata': {'annotations': None,\n",
      "              'cluster_name': None,\n",
      "              'creation_timestamp': datetime.datetime(2018, 11, 14, 22, 16, 20, tzinfo=tzlocal()),\n",
      "              'deletion_grace_period_seconds': None,\n",
      "              'deletion_timestamp': None,\n",
      "              'finalizers': None,\n",
      "              'generate_name': None,\n",
      "              'generation': 1,\n",
      "              'initializers': None,\n",
      "              'labels': {u'app': 'tensorboard', u'tb-job': 'tb5-depl'},\n",
      "              'name': 'tb5-depl',\n",
      "              'namespace': 'kubeflow',\n",
      "              'owner_references': None,\n",
      "              'resource_version': '10048411',\n",
      "              'self_link': '/apis/apps/v1beta1/namespaces/kubeflow/deployments/tb5-depl',\n",
      "              'uid': 'e9ce62e1-e85a-11e8-889b-42010a8e00b4'},\n",
      " 'spec': {'min_ready_seconds': None,\n",
      "          'paused': None,\n",
      "          'progress_deadline_seconds': 600,\n",
      "          'replicas': 1,\n",
      "          'revision_history_limit': 2,\n",
      "          'rollback_to': None,\n",
      "          'selector': {'match_expressions': None,\n",
      "                       'match_labels': {u'app': 'tensorboard',\n",
      "                                        u'tb-job': 'tb5-depl'}},\n",
      "          'strategy': {'rolling_update': {'max_surge': u'25%',\n",
      "                                          'max_unavailable': u'25%'},\n",
      "                       'type': 'RollingUpdate'},\n",
      "          'template': {'metadata': {'annotations': None,\n",
      "                                    'cluster_name': None,\n",
      "                                    'creation_timestamp': None,\n",
      "                                    'deletion_grace_period_seconds': None,\n",
      "                                    'deletion_timestamp': None,\n",
      "                                    'finalizers': None,\n",
      "                                    'generate_name': None,\n",
      "                                    'generation': None,\n",
      "                                    'initializers': None,\n",
      "                                    'labels': {u'app': 'tensorboard',\n",
      "                                               u'tb-job': 'tb5-depl'},\n",
      "                                    'name': 'tb5-depl',\n",
      "                                    'namespace': 'kubeflow',\n",
      "                                    'owner_references': None,\n",
      "                                    'resource_version': None,\n",
      "                                    'self_link': None,\n",
      "                                    'uid': None},\n",
      "                       'spec': {'active_deadline_seconds': None,\n",
      "                                'affinity': None,\n",
      "                                'automount_service_account_token': None,\n",
      "                                'containers': [{'args': None,\n",
      "                                                'command': ['/usr/local/bin/tensorboard',\n",
      "                                                            '--logdir=/mnt/nfs-east1-d/ckpts',\n",
      "                                                            '--port=80'],\n",
      "                                                'env': None,\n",
      "                                                'env_from': None,\n",
      "                                                'image': 'tensorflow/tensorflow:1.7.0',\n",
      "                                                'image_pull_policy': 'IfNotPresent',\n",
      "                                                'lifecycle': None,\n",
      "                                                'liveness_probe': None,\n",
      "                                                'name': 'tensorboard',\n",
      "                                                'ports': [{'container_port': 80,\n",
      "                                                           'host_ip': None,\n",
      "                                                           'host_port': None,\n",
      "                                                           'name': None,\n",
      "                                                           'protocol': 'TCP'}],\n",
      "                                                'readiness_probe': None,\n",
      "                                                'resources': {'limits': None,\n",
      "                                                              'requests': None},\n",
      "                                                'security_context': None,\n",
      "                                                'stdin': None,\n",
      "                                                'stdin_once': None,\n",
      "                                                'termination_message_path': '/dev/termination-log',\n",
      "                                                'termination_message_policy': 'File',\n",
      "                                                'tty': None,\n",
      "                                                'volume_devices': None,\n",
      "                                                'volume_mounts': [{'mount_path': '/mnt/nfs-east1-d',\n",
      "                                                                   'mount_propagation': None,\n",
      "                                                                   'name': 'nfs-east1-d',\n",
      "                                                                   'read_only': None,\n",
      "                                                                   'sub_path': None}],\n",
      "                                                'working_dir': None}],\n",
      "                                'dns_config': None,\n",
      "                                'dns_policy': 'ClusterFirst',\n",
      "                                'host_aliases': None,\n",
      "                                'host_ipc': None,\n",
      "                                'host_network': None,\n",
      "                                'host_pid': None,\n",
      "                                'hostname': None,\n",
      "                                'image_pull_secrets': None,\n",
      "                                'init_containers': None,\n",
      "                                'node_name': None,\n",
      "                                'node_selector': None,\n",
      "                                'priority': None,\n",
      "                                'priority_class_name': None,\n",
      "                                'restart_policy': 'Always',\n",
      "                                'scheduler_name': 'default-scheduler',\n",
      "                                'security_context': {'fs_group': None,\n",
      "                                                     'run_as_non_root': None,\n",
      "                                                     'run_as_user': None,\n",
      "                                                     'se_linux_options': None,\n",
      "                                                     'supplemental_groups': None},\n",
      "                                'service_account': None,\n",
      "                                'service_account_name': None,\n",
      "                                'subdomain': None,\n",
      "                                'termination_grace_period_seconds': 30,\n",
      "                                'tolerations': None,\n",
      "                                'volumes': [{'aws_elastic_block_store': None,\n",
      "                                             'azure_disk': None,\n",
      "                                             'azure_file': None,\n",
      "                                             'cephfs': None,\n",
      "                                             'cinder': None,\n",
      "                                             'config_map': None,\n",
      "                                             'downward_api': None,\n",
      "                                             'empty_dir': None,\n",
      "                                             'fc': None,\n",
      "                                             'flex_volume': None,\n",
      "                                             'flocker': None,\n",
      "                                             'gce_persistent_disk': None,\n",
      "                                             'git_repo': None,\n",
      "                                             'glusterfs': None,\n",
      "                                             'host_path': None,\n",
      "                                             'iscsi': None,\n",
      "                                             'name': 'nfs-east1-d',\n",
      "                                             'nfs': None,\n",
      "                                             'persistent_volume_claim': {'claim_name': 'nfs-east1-d',\n",
      "                                                                         'read_only': None},\n",
      "                                             'photon_persistent_disk': None,\n",
      "                                             'portworx_volume': None,\n",
      "                                             'projected': None,\n",
      "                                             'quobyte': None,\n",
      "                                             'rbd': None,\n",
      "                                             'scale_io': None,\n",
      "                                             'secret': None,\n",
      "                                             'storageos': None,\n",
      "                                             'vsphere_volume': None}]}}},\n",
      " 'status': {'available_replicas': None,\n",
      "            'collision_count': None,\n",
      "            'conditions': None,\n",
      "            'observed_generation': None,\n",
      "            'ready_replicas': None,\n",
      "            'replicas': None,\n",
      "            'unavailable_replicas': None,\n",
      "            'updated_replicas': None}}\n"
     ]
    },
    {
     "data": {
      "text/plain": [
       "[None, None]"
      ]
     },
     "execution_count": 9,
     "metadata": {},
     "output_type": "execute_result"
    }
   ],
   "source": [
    "\n",
    "from tk.kube_tensorboard import TensorBoard\n",
    "\n",
    "tb = TensorBoard(log_dir=\"/mnt/nfs-east1-d/ckpts\",\n",
    "                 namespace=\"kubeflow\",\n",
    "                 job_name_base=\"tb5\",\n",
    "                 volume_claim_id=\"nfs-east1-d\")\n",
    "tb.create()\n"
   ]
  },
  {
   "cell_type": "code",
   "execution_count": 8,
   "metadata": {},
   "outputs": [
    {
     "ename": "ApiException",
     "evalue": "(409)\nReason: Conflict\nHTTP response headers: HTTPHeaderDict({'Date': 'Wed, 14 Nov 2018 22:16:09 GMT', 'Audit-Id': '0e5ba7bb-635c-4892-ab6d-bbf1b3451cfa', 'Content-Length': '200', 'Content-Type': 'application/json'})\nHTTP response body: {\"kind\":\"Status\",\"apiVersion\":\"v1\",\"metadata\":{},\"status\":\"Failure\",\"message\":\"services \\\"tb2-svc\\\" already exists\",\"reason\":\"AlreadyExists\",\"details\":{\"name\":\"tb2-svc\",\"kind\":\"services\"},\"code\":409}\n\n",
     "output_type": "error",
     "traceback": [
      "\u001b[0;31m\u001b[0m",
      "\u001b[0;31mApiException\u001b[0mTraceback (most recent call last)",
      "\u001b[0;32m<ipython-input-8-96af67e7a632>\u001b[0m in \u001b[0;36m<module>\u001b[0;34m()\u001b[0m\n\u001b[1;32m      6\u001b[0m                  \u001b[0mjob_name_base\u001b[0m\u001b[0;34m=\u001b[0m\u001b[0;34m\"tb2\"\u001b[0m\u001b[0;34m,\u001b[0m\u001b[0;34m\u001b[0m\u001b[0m\n\u001b[1;32m      7\u001b[0m                  volume_claim_id=\"nfs-east1-d\")\n\u001b[0;32m----> 8\u001b[0;31m \u001b[0mtb\u001b[0m\u001b[0;34m.\u001b[0m\u001b[0mcreate\u001b[0m\u001b[0;34m(\u001b[0m\u001b[0;34m)\u001b[0m\u001b[0;34m\u001b[0m\u001b[0m\n\u001b[0m",
      "\u001b[0;32m/mnt/nfs-east1-d/work/tk/tk/kube_tensorboard.pyc\u001b[0m in \u001b[0;36mcreate\u001b[0;34m(self, poll_and_check)\u001b[0m\n\u001b[1;32m    241\u001b[0m \u001b[0;34m\u001b[0m\u001b[0m\n\u001b[1;32m    242\u001b[0m         \u001b[0;32mfor\u001b[0m \u001b[0mcomponent\u001b[0m \u001b[0;32min\u001b[0m \u001b[0mself\u001b[0m\u001b[0;34m.\u001b[0m\u001b[0mcomponents\u001b[0m\u001b[0;34m.\u001b[0m\u001b[0mvalues\u001b[0m\u001b[0;34m(\u001b[0m\u001b[0;34m)\u001b[0m\u001b[0;34m:\u001b[0m\u001b[0;34m\u001b[0m\u001b[0m\n\u001b[0;32m--> 243\u001b[0;31m             \u001b[0mresponses\u001b[0m\u001b[0;34m.\u001b[0m\u001b[0mappend\u001b[0m\u001b[0;34m(\u001b[0m\u001b[0mcomponent\u001b[0m\u001b[0;34m.\u001b[0m\u001b[0mcreate\u001b[0m\u001b[0;34m(\u001b[0m\u001b[0;34m)\u001b[0m\u001b[0;34m)\u001b[0m\u001b[0;34m\u001b[0m\u001b[0m\n\u001b[0m\u001b[1;32m    244\u001b[0m \u001b[0;34m\u001b[0m\u001b[0m\n\u001b[1;32m    245\u001b[0m         \u001b[0;32mif\u001b[0m \u001b[0;32mnot\u001b[0m \u001b[0mpoll_and_check\u001b[0m\u001b[0;34m:\u001b[0m\u001b[0;34m\u001b[0m\u001b[0m\n",
      "\u001b[0;32m/mnt/nfs-east1-d/work/tk/tk/kube_tensorboard.pyc\u001b[0m in \u001b[0;36mcreate\u001b[0;34m(self)\u001b[0m\n\u001b[1;32m     82\u001b[0m \u001b[0;34m\u001b[0m\u001b[0m\n\u001b[1;32m     83\u001b[0m         response = client.create_namespaced_service(\n\u001b[0;32m---> 84\u001b[0;31m             \u001b[0mcfg\u001b[0m\u001b[0;34m[\u001b[0m\u001b[0;34m\"metadata\"\u001b[0m\u001b[0;34m]\u001b[0m\u001b[0;34m[\u001b[0m\u001b[0;34m\"namespace\"\u001b[0m\u001b[0;34m]\u001b[0m\u001b[0;34m,\u001b[0m \u001b[0mcfg\u001b[0m\u001b[0;34m\u001b[0m\u001b[0m\n\u001b[0m\u001b[1;32m     85\u001b[0m         )\n\u001b[1;32m     86\u001b[0m \u001b[0;34m\u001b[0m\u001b[0m\n",
      "\u001b[0;32m/home/jovyan/.conda/envs/py2/lib/python2.7/site-packages/kubernetes/client/apis/core_v1_api.pyc\u001b[0m in \u001b[0;36mcreate_namespaced_service\u001b[0;34m(self, namespace, body, **kwargs)\u001b[0m\n\u001b[1;32m   6818\u001b[0m             \u001b[0;32mreturn\u001b[0m \u001b[0mself\u001b[0m\u001b[0;34m.\u001b[0m\u001b[0mcreate_namespaced_service_with_http_info\u001b[0m\u001b[0;34m(\u001b[0m\u001b[0mnamespace\u001b[0m\u001b[0;34m,\u001b[0m \u001b[0mbody\u001b[0m\u001b[0;34m,\u001b[0m \u001b[0;34m**\u001b[0m\u001b[0mkwargs\u001b[0m\u001b[0;34m)\u001b[0m\u001b[0;34m\u001b[0m\u001b[0m\n\u001b[1;32m   6819\u001b[0m         \u001b[0;32melse\u001b[0m\u001b[0;34m:\u001b[0m\u001b[0;34m\u001b[0m\u001b[0m\n\u001b[0;32m-> 6820\u001b[0;31m             \u001b[0;34m(\u001b[0m\u001b[0mdata\u001b[0m\u001b[0;34m)\u001b[0m \u001b[0;34m=\u001b[0m \u001b[0mself\u001b[0m\u001b[0;34m.\u001b[0m\u001b[0mcreate_namespaced_service_with_http_info\u001b[0m\u001b[0;34m(\u001b[0m\u001b[0mnamespace\u001b[0m\u001b[0;34m,\u001b[0m \u001b[0mbody\u001b[0m\u001b[0;34m,\u001b[0m \u001b[0;34m**\u001b[0m\u001b[0mkwargs\u001b[0m\u001b[0;34m)\u001b[0m\u001b[0;34m\u001b[0m\u001b[0m\n\u001b[0m\u001b[1;32m   6821\u001b[0m             \u001b[0;32mreturn\u001b[0m \u001b[0mdata\u001b[0m\u001b[0;34m\u001b[0m\u001b[0m\n\u001b[1;32m   6822\u001b[0m \u001b[0;34m\u001b[0m\u001b[0m\n",
      "\u001b[0;32m/home/jovyan/.conda/envs/py2/lib/python2.7/site-packages/kubernetes/client/apis/core_v1_api.pyc\u001b[0m in \u001b[0;36mcreate_namespaced_service_with_http_info\u001b[0;34m(self, namespace, body, **kwargs)\u001b[0m\n\u001b[1;32m   6903\u001b[0m                                         \u001b[0m_preload_content\u001b[0m\u001b[0;34m=\u001b[0m\u001b[0mparams\u001b[0m\u001b[0;34m.\u001b[0m\u001b[0mget\u001b[0m\u001b[0;34m(\u001b[0m\u001b[0;34m'_preload_content'\u001b[0m\u001b[0;34m,\u001b[0m \u001b[0mTrue\u001b[0m\u001b[0;34m)\u001b[0m\u001b[0;34m,\u001b[0m\u001b[0;34m\u001b[0m\u001b[0m\n\u001b[1;32m   6904\u001b[0m                                         \u001b[0m_request_timeout\u001b[0m\u001b[0;34m=\u001b[0m\u001b[0mparams\u001b[0m\u001b[0;34m.\u001b[0m\u001b[0mget\u001b[0m\u001b[0;34m(\u001b[0m\u001b[0;34m'_request_timeout'\u001b[0m\u001b[0;34m)\u001b[0m\u001b[0;34m,\u001b[0m\u001b[0;34m\u001b[0m\u001b[0m\n\u001b[0;32m-> 6905\u001b[0;31m                                         collection_formats=collection_formats)\n\u001b[0m\u001b[1;32m   6906\u001b[0m \u001b[0;34m\u001b[0m\u001b[0m\n\u001b[1;32m   6907\u001b[0m     \u001b[0;32mdef\u001b[0m \u001b[0mcreate_namespaced_service_account\u001b[0m\u001b[0;34m(\u001b[0m\u001b[0mself\u001b[0m\u001b[0;34m,\u001b[0m \u001b[0mnamespace\u001b[0m\u001b[0;34m,\u001b[0m \u001b[0mbody\u001b[0m\u001b[0;34m,\u001b[0m \u001b[0;34m**\u001b[0m\u001b[0mkwargs\u001b[0m\u001b[0;34m)\u001b[0m\u001b[0;34m:\u001b[0m\u001b[0;34m\u001b[0m\u001b[0m\n",
      "\u001b[0;32m/home/jovyan/.conda/envs/py2/lib/python2.7/site-packages/kubernetes/client/api_client.pyc\u001b[0m in \u001b[0;36mcall_api\u001b[0;34m(self, resource_path, method, path_params, query_params, header_params, body, post_params, files, response_type, auth_settings, async, _return_http_data_only, collection_formats, _preload_content, _request_timeout)\u001b[0m\n\u001b[1;32m    319\u001b[0m                                    \u001b[0mbody\u001b[0m\u001b[0;34m,\u001b[0m \u001b[0mpost_params\u001b[0m\u001b[0;34m,\u001b[0m \u001b[0mfiles\u001b[0m\u001b[0;34m,\u001b[0m\u001b[0;34m\u001b[0m\u001b[0m\n\u001b[1;32m    320\u001b[0m                                    \u001b[0mresponse_type\u001b[0m\u001b[0;34m,\u001b[0m \u001b[0mauth_settings\u001b[0m\u001b[0;34m,\u001b[0m\u001b[0;34m\u001b[0m\u001b[0m\n\u001b[0;32m--> 321\u001b[0;31m                                    _return_http_data_only, collection_formats, _preload_content, _request_timeout)\n\u001b[0m\u001b[1;32m    322\u001b[0m         \u001b[0;32melse\u001b[0m\u001b[0;34m:\u001b[0m\u001b[0;34m\u001b[0m\u001b[0m\n\u001b[1;32m    323\u001b[0m             thread = self.pool.apply_async(self.__call_api, (resource_path, method,\n",
      "\u001b[0;32m/home/jovyan/.conda/envs/py2/lib/python2.7/site-packages/kubernetes/client/api_client.pyc\u001b[0m in \u001b[0;36m__call_api\u001b[0;34m(self, resource_path, method, path_params, query_params, header_params, body, post_params, files, response_type, auth_settings, _return_http_data_only, collection_formats, _preload_content, _request_timeout)\u001b[0m\n\u001b[1;32m    153\u001b[0m                                      \u001b[0mpost_params\u001b[0m\u001b[0;34m=\u001b[0m\u001b[0mpost_params\u001b[0m\u001b[0;34m,\u001b[0m \u001b[0mbody\u001b[0m\u001b[0;34m=\u001b[0m\u001b[0mbody\u001b[0m\u001b[0;34m,\u001b[0m\u001b[0;34m\u001b[0m\u001b[0m\n\u001b[1;32m    154\u001b[0m                                      \u001b[0m_preload_content\u001b[0m\u001b[0;34m=\u001b[0m\u001b[0m_preload_content\u001b[0m\u001b[0;34m,\u001b[0m\u001b[0;34m\u001b[0m\u001b[0m\n\u001b[0;32m--> 155\u001b[0;31m                                      _request_timeout=_request_timeout)\n\u001b[0m\u001b[1;32m    156\u001b[0m \u001b[0;34m\u001b[0m\u001b[0m\n\u001b[1;32m    157\u001b[0m         \u001b[0mself\u001b[0m\u001b[0;34m.\u001b[0m\u001b[0mlast_response\u001b[0m \u001b[0;34m=\u001b[0m \u001b[0mresponse_data\u001b[0m\u001b[0;34m\u001b[0m\u001b[0m\n",
      "\u001b[0;32m/home/jovyan/.conda/envs/py2/lib/python2.7/site-packages/kubernetes/client/api_client.pyc\u001b[0m in \u001b[0;36mrequest\u001b[0;34m(self, method, url, query_params, headers, post_params, body, _preload_content, _request_timeout)\u001b[0m\n\u001b[1;32m    362\u001b[0m                                          \u001b[0m_preload_content\u001b[0m\u001b[0;34m=\u001b[0m\u001b[0m_preload_content\u001b[0m\u001b[0;34m,\u001b[0m\u001b[0;34m\u001b[0m\u001b[0m\n\u001b[1;32m    363\u001b[0m                                          \u001b[0m_request_timeout\u001b[0m\u001b[0;34m=\u001b[0m\u001b[0m_request_timeout\u001b[0m\u001b[0;34m,\u001b[0m\u001b[0;34m\u001b[0m\u001b[0m\n\u001b[0;32m--> 364\u001b[0;31m                                          body=body)\n\u001b[0m\u001b[1;32m    365\u001b[0m         \u001b[0;32melif\u001b[0m \u001b[0mmethod\u001b[0m \u001b[0;34m==\u001b[0m \u001b[0;34m\"PUT\"\u001b[0m\u001b[0;34m:\u001b[0m\u001b[0;34m\u001b[0m\u001b[0m\n\u001b[1;32m    366\u001b[0m             return self.rest_client.PUT(url,\n",
      "\u001b[0;32m/home/jovyan/.conda/envs/py2/lib/python2.7/site-packages/kubernetes/client/rest.pyc\u001b[0m in \u001b[0;36mPOST\u001b[0;34m(self, url, headers, query_params, post_params, body, _preload_content, _request_timeout)\u001b[0m\n\u001b[1;32m    264\u001b[0m                             \u001b[0m_preload_content\u001b[0m\u001b[0;34m=\u001b[0m\u001b[0m_preload_content\u001b[0m\u001b[0;34m,\u001b[0m\u001b[0;34m\u001b[0m\u001b[0m\n\u001b[1;32m    265\u001b[0m                             \u001b[0m_request_timeout\u001b[0m\u001b[0;34m=\u001b[0m\u001b[0m_request_timeout\u001b[0m\u001b[0;34m,\u001b[0m\u001b[0;34m\u001b[0m\u001b[0m\n\u001b[0;32m--> 266\u001b[0;31m                             body=body)\n\u001b[0m\u001b[1;32m    267\u001b[0m \u001b[0;34m\u001b[0m\u001b[0m\n\u001b[1;32m    268\u001b[0m     def PUT(self, url, headers=None, query_params=None, post_params=None, body=None, _preload_content=True,\n",
      "\u001b[0;32m/home/jovyan/.conda/envs/py2/lib/python2.7/site-packages/kubernetes/client/rest.pyc\u001b[0m in \u001b[0;36mrequest\u001b[0;34m(self, method, url, query_params, headers, body, post_params, _preload_content, _request_timeout)\u001b[0m\n\u001b[1;32m    220\u001b[0m \u001b[0;34m\u001b[0m\u001b[0m\n\u001b[1;32m    221\u001b[0m         \u001b[0;32mif\u001b[0m \u001b[0;32mnot\u001b[0m \u001b[0;36m200\u001b[0m \u001b[0;34m<=\u001b[0m \u001b[0mr\u001b[0m\u001b[0;34m.\u001b[0m\u001b[0mstatus\u001b[0m \u001b[0;34m<=\u001b[0m \u001b[0;36m299\u001b[0m\u001b[0;34m:\u001b[0m\u001b[0;34m\u001b[0m\u001b[0m\n\u001b[0;32m--> 222\u001b[0;31m             \u001b[0;32mraise\u001b[0m \u001b[0mApiException\u001b[0m\u001b[0;34m(\u001b[0m\u001b[0mhttp_resp\u001b[0m\u001b[0;34m=\u001b[0m\u001b[0mr\u001b[0m\u001b[0;34m)\u001b[0m\u001b[0;34m\u001b[0m\u001b[0m\n\u001b[0m\u001b[1;32m    223\u001b[0m \u001b[0;34m\u001b[0m\u001b[0m\n\u001b[1;32m    224\u001b[0m         \u001b[0;32mreturn\u001b[0m \u001b[0mr\u001b[0m\u001b[0;34m\u001b[0m\u001b[0m\n",
      "\u001b[0;31mApiException\u001b[0m: (409)\nReason: Conflict\nHTTP response headers: HTTPHeaderDict({'Date': 'Wed, 14 Nov 2018 22:16:09 GMT', 'Audit-Id': '0e5ba7bb-635c-4892-ab6d-bbf1b3451cfa', 'Content-Length': '200', 'Content-Type': 'application/json'})\nHTTP response body: {\"kind\":\"Status\",\"apiVersion\":\"v1\",\"metadata\":{},\"status\":\"Failure\",\"message\":\"services \\\"tb2-svc\\\" already exists\",\"reason\":\"AlreadyExists\",\"details\":{\"name\":\"tb2-svc\",\"kind\":\"services\"},\"code\":409}\n\n"
     ]
    }
   ],
   "source": [
    "\n",
    "from tk.kube_tensorboard import TensorBoard\n",
    "\n",
    "tb = TensorBoard(log_dir=\"gs://kubeflow-rl-checkpoints/cs-comparisons\",\n",
    "                 namespace=\"kubeflow\",\n",
    "                 job_name_base=\"tb2\",\n",
    "                 volume_claim_id=\"nfs-east1-d\")\n",
    "tb.create()\n"
   ]
  },
  {
   "cell_type": "code",
   "execution_count": null,
   "metadata": {},
   "outputs": [],
   "source": [
    "# Ok so can start to compute and visualize embeddings with current checkpoints. Woohoo!"
   ]
  },
  {
   "cell_type": "markdown",
   "metadata": {},
   "source": [
    "## Qualitative and embeddings"
   ]
  },
  {
   "cell_type": "markdown",
   "metadata": {},
   "source": [
    "Let's load up the model, compute a bunch of embeddings, use those for tensorflow projector, and perform some local queries!"
   ]
  },
  {
   "cell_type": "code",
   "execution_count": 1,
   "metadata": {},
   "outputs": [],
   "source": [
    "\n",
    "import numpy as np\n",
    "\n",
    "import functools\n",
    "\n",
    "import tensorflow as tf\n",
    "\n",
    "from tensor2tensor.data_generators import problem\n",
    "from tensor2tensor.layers import common_layers\n",
    "from tensor2tensor.models import transformer\n",
    "from tensor2tensor.utils import registry\n",
    "from tensor2tensor.utils import t2t_model\n",
    "from tensor2tensor import problems\n",
    "from tensor2tensor.models.transformer import Transformer\n",
    "\n",
    "from tensor2tensor.models.transformer import transformer_base\n",
    "\n",
    "from tensorflow.contrib.eager.python import tfe\n",
    "tfe.enable_eager_execution()\n",
    "Modes = tf.estimator.ModeKeys\n",
    "\n",
    "\n",
    "from tk.models import similarity_transformer\n",
    "from tk.data_generators import function_docstring\n",
    "\n",
    "import numpy as np; np.random.seed(0)\n",
    "import matplotlib.pyplot as plt\n",
    "import seaborn as sns; sns.set()\n",
    "%matplotlib inline\n"
   ]
  },
  {
   "cell_type": "code",
   "execution_count": 2,
   "metadata": {},
   "outputs": [
    {
     "name": "stdout",
     "output_type": "stream",
     "text": [
      "INFO:tensorflow:Setting T2TModel mode to 'infer'\n"
     ]
    },
    {
     "name": "stderr",
     "output_type": "stream",
     "text": [
      "[2018-11-13 22:13:42,508] Setting T2TModel mode to 'infer'\n"
     ]
    },
    {
     "name": "stdout",
     "output_type": "stream",
     "text": [
      "INFO:tensorflow:Setting hparams.layer_prepostprocess_dropout to 0.0\n"
     ]
    },
    {
     "name": "stderr",
     "output_type": "stream",
     "text": [
      "[2018-11-13 22:13:42,512] Setting hparams.layer_prepostprocess_dropout to 0.0\n"
     ]
    },
    {
     "name": "stdout",
     "output_type": "stream",
     "text": [
      "INFO:tensorflow:Setting hparams.symbol_dropout to 0.0\n"
     ]
    },
    {
     "name": "stderr",
     "output_type": "stream",
     "text": [
      "[2018-11-13 22:13:42,515] Setting hparams.symbol_dropout to 0.0\n"
     ]
    },
    {
     "name": "stdout",
     "output_type": "stream",
     "text": [
      "INFO:tensorflow:Setting hparams.label_smoothing to 0.0\n"
     ]
    },
    {
     "name": "stderr",
     "output_type": "stream",
     "text": [
      "[2018-11-13 22:13:42,518] Setting hparams.label_smoothing to 0.0\n"
     ]
    },
    {
     "name": "stdout",
     "output_type": "stream",
     "text": [
      "INFO:tensorflow:Setting hparams.attention_dropout to 0.0\n"
     ]
    },
    {
     "name": "stderr",
     "output_type": "stream",
     "text": [
      "[2018-11-13 22:13:42,521] Setting hparams.attention_dropout to 0.0\n"
     ]
    },
    {
     "name": "stdout",
     "output_type": "stream",
     "text": [
      "INFO:tensorflow:Setting hparams.dropout to 0.0\n"
     ]
    },
    {
     "name": "stderr",
     "output_type": "stream",
     "text": [
      "[2018-11-13 22:13:42,524] Setting hparams.dropout to 0.0\n"
     ]
    },
    {
     "name": "stdout",
     "output_type": "stream",
     "text": [
      "INFO:tensorflow:Setting hparams.relu_dropout to 0.0\n"
     ]
    },
    {
     "name": "stderr",
     "output_type": "stream",
     "text": [
      "[2018-11-13 22:13:42,527] Setting hparams.relu_dropout to 0.0\n"
     ]
    },
    {
     "name": "stdout",
     "output_type": "stream",
     "text": [
      "INFO:tensorflow:Reading data files from /mnt/nfs-east1-d/data/github_constrained_embedding32k-dev*\n"
     ]
    },
    {
     "name": "stderr",
     "output_type": "stream",
     "text": [
      "[2018-11-13 22:13:42,786] Reading data files from /mnt/nfs-east1-d/data/github_constrained_embedding32k-dev*\n"
     ]
    },
    {
     "name": "stdout",
     "output_type": "stream",
     "text": [
      "INFO:tensorflow:partition: 0 num_data_files: 1\n"
     ]
    },
    {
     "name": "stderr",
     "output_type": "stream",
     "text": [
      "[2018-11-13 22:13:42,795] partition: 0 num_data_files: 1\n"
     ]
    }
   ],
   "source": [
    "\n",
    "problem_name = \"github_constrained_embedding32k\"\n",
    "\n",
    "mp_constrained_embedding = problem_object = problems.problem(problem_name)\n",
    "\n",
    "data_dir = \"/mnt/nfs-east1-d/data\"\n",
    "\n",
    "hparams = similarity_transformer.similarity_transformer_base()\n",
    "hparams.data_dir = data_dir\n",
    "\n",
    "p_hparams = mp_constrained_embedding.get_hparams(hparams)\n",
    "\n",
    "model = similarity_transformer.ConstrainedEmbeddingTransformer(\n",
    "    hparams, tf.estimator.ModeKeys.PREDICT, p_hparams\n",
    ")\n",
    "\n",
    "# Get the encoders from the problem\n",
    "encoders = mp_constrained_embedding.feature_encoders(data_dir)\n",
    "\n",
    "# Setup helper functions for encoding and decoding\n",
    "def encode(input_str, output_str=None):\n",
    "  \"\"\"Input str to features dict, ready for inference\"\"\"\n",
    "  inputs = encoders[\"inputs\"].encode(input_str) + [1]  # add EOS id\n",
    "  batch_inputs = tf.reshape(inputs, [1, -1, 1])  # Make it 3D.\n",
    "  return {\"inputs\": batch_inputs}\n",
    "\n",
    "def decode(integers):\n",
    "  \"\"\"List of ints to str\n",
    "  \n",
    "  For decoding an integer encoding to its string representation,\n",
    "  not for decoding an embedding vector into the same.\n",
    "  \"\"\"\n",
    "  integers = list(np.squeeze(integers))\n",
    "  if 1 in integers:\n",
    "    integers = integers[:integers.index(1)]\n",
    "  return encoders[\"inputs\"].decode(np.squeeze(integers))\n",
    "\n",
    "batch_size = 1\n",
    "train_dataset = mp_constrained_embedding.dataset(Modes.PREDICT, data_dir)\n",
    "train_dataset = train_dataset.repeat(None).batch(batch_size)\n",
    "\n",
    "iterator = tfe.Iterator(train_dataset)\n"
   ]
  },
  {
   "cell_type": "code",
   "execution_count": 3,
   "metadata": {},
   "outputs": [],
   "source": [
    "ckpt_path = \"/mnt/nfs-east1-d/ckpts/cs-v10-r0-voc32k/cs-v10-r0-voc32k-j1112-2346-618d/output/model.ckpt-35029\"\n",
    "# well shoot - re-generated the vocab, it over-wrote the old one, and now can't do inference with this or any of the \n",
    "# existing checkpoints..."
   ]
  },
  {
   "cell_type": "code",
   "execution_count": 4,
   "metadata": {},
   "outputs": [],
   "source": [
    "\n",
    "def _save_partial(embeddings):\n",
    "\n",
    "  numpy_embedding_vectors = np.asarray([thing[0].numpy()[0] for thing in embeddings])\n",
    "\n",
    "  embedding_data_path_code_tsv = \"/mnt/nfs-east1-d/tmp/embeddings-code-lm.tsv\"\n",
    "  embedding_data_path_doc_tsv = \"/mnt/nfs-east1-d/tmp/embeddings-doc-lm.tsv\"\n",
    "  embeddings_data_combined_tsv = \"/mnt/nfs-east1-d/tmp/embeddings-comb-lm.tsv\"\n",
    "  embedding_metadata_path_tsv = \"/mnt/nfs-east1-d/tmp/embeddings-lm-meta.tsv\"\n",
    "  embedding_metadata_combined_path_tsv = \"/mnt/nfs-east1-d/tmp/embeddings-lm-meta-comb.tsv\"\n",
    "\n",
    "  code_emb_data = np.asarray([thing[0].numpy()[0] for thing in embeddings])\n",
    "  str_emb_data = np.asarray([thing[1].numpy()[0] for thing in embeddings])\n",
    "\n",
    "  # Save the individual embedding files\n",
    "  np.savetxt(embedding_data_path_code_tsv, code_emb_data, delimiter=\"\\t\")\n",
    "  np.savetxt(embedding_data_path_doc_tsv, str_emb_data, delimiter=\"\\t\")\n",
    "\n",
    "  # Produce and save a combined (interleaved) embedding file\n",
    "  combined = []\n",
    "  for i, _ in enumerate(code_emb_data):\n",
    "    combined.append(code_emb_data[i])\n",
    "    combined.append(str_emb_data[i])\n",
    "  np.savetxt(embeddings_data_combined_tsv, combined, delimiter=\"\\t\")\n",
    "\n",
    "  metadata = [(\"code\", \"docstr\", \"embedded_as\", \"__next__\")]\n",
    "    \n",
    "  for i, thing in enumerate(embeddings):\n",
    "    \n",
    "    metadata.append([thing[2], thing[3], \"code\", 2*i+1])\n",
    "    metadata.append([thing[2], thing[3], \"docstr\", \"\"])\n",
    "\n",
    "  np.savetxt(embedding_metadata_combined_path_tsv, metadata, delimiter=\"\\t\", fmt='%s')\n",
    "\n",
    "  !gsutil cp '/mnt/nfs-east1-d/tmp/embeddings-*.tsv' gs://kubeflow-rl-checkpoints/\n",
    "\n",
    "\n",
    "def embed_many(dataset_iterator, model, ckpt_path, num=100):\n",
    "    embeddings = []\n",
    "    num_examples = 100\n",
    "\n",
    "    with tfe.restore_variables_on_create(ckpt_path):\n",
    "\n",
    "      for i in range(0, num):\n",
    "        example = dataset_iterator.next()\n",
    "\n",
    "        code_emb, _ = model({\"inputs\": example[\"code\"]})\n",
    "        str_emb, _ = model({\"inputs\": example[\"docstring\"]})\n",
    "\n",
    "        embeddings.append([code_emb, str_emb, decode(example[\"code\"]), decode(example[\"docstring\"])])\n",
    "        \n",
    "        if i % 25 == 0:\n",
    "          print(\"Processing step %s\" % i)\n",
    "        \n",
    "        if i % 1000 == 0:\n",
    "          print(\"Saving partial...\")\n",
    "          _save_partial(embeddings)\n",
    "    \n",
    "    print(\"Finished embedding %s\" % num)\n",
    "\n",
    "    return embeddings\n"
   ]
  },
  {
   "cell_type": "code",
   "execution_count": 5,
   "metadata": {},
   "outputs": [
    {
     "name": "stdout",
     "output_type": "stream",
     "text": [
      "2018-11-13 22:13:42.967144\n"
     ]
    }
   ],
   "source": [
    "import datetime\n",
    "print datetime.datetime.now()"
   ]
  },
  {
   "cell_type": "code",
   "execution_count": null,
   "metadata": {},
   "outputs": [],
   "source": [
    "embeddings = embed_many(iterator, model, ckpt_path, 100000)"
   ]
  },
  {
   "cell_type": "code",
   "execution_count": null,
   "metadata": {},
   "outputs": [],
   "source": [
    "# Show some heatmaps"
   ]
  },
  {
   "cell_type": "code",
   "execution_count": null,
   "metadata": {},
   "outputs": [],
   "source": []
  },
  {
   "cell_type": "code",
   "execution_count": null,
   "metadata": {},
   "outputs": [],
   "source": [
    "# dude more examples. higher quality."
   ]
  },
  {
   "cell_type": "code",
   "execution_count": null,
   "metadata": {},
   "outputs": [],
   "source": [
    "\n",
    "other_hparam_options = [\n",
    "    \"transformer_base\",\n",
    "    \"transformer_big\",\n",
    "    \"transformer_big_single_gpu\",\n",
    "    \"transformer_base_single_gpu\",\n",
    "    \"transformer_tiny\",\n",
    "    \"transformer_small\",\n",
    "    \"transformer_dr2\",\n",
    "    \"transformer_big_dr2\",\n",
    "    \"transformer_relative\",\n",
    "    \"transformer_relative_big\",\n",
    "    \"transformer_clean\",\n",
    "    \"transformer_clean_big\"]\n"
   ]
  }
 ],
 "metadata": {
  "kernelspec": {
   "display_name": "Python 2",
   "language": "python",
   "name": "python2"
  },
  "language_info": {
   "codemirror_mode": {
    "name": "ipython",
    "version": 2
   },
   "file_extension": ".py",
   "mimetype": "text/x-python",
   "name": "python",
   "nbconvert_exporter": "python",
   "pygments_lexer": "ipython2",
   "version": "2.7.14"
  }
 },
 "nbformat": 4,
 "nbformat_minor": 2
}
