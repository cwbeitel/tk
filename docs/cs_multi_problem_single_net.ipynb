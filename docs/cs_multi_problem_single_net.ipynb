{
 "cells": [
  {
   "cell_type": "code",
   "execution_count": 1,
   "metadata": {},
   "outputs": [],
   "source": [
    "\n",
    "import csv\n",
    "from six import StringIO\n",
    "import tempfile\n",
    "import numpy as np\n",
    "\n",
    "from tensor2tensor.data_generators import problem\n",
    "from tensor2tensor.layers import common_layers\n",
    "from tensor2tensor.models import transformer\n",
    "from tensor2tensor.utils import registry\n",
    "from tensor2tensor.utils import t2t_model\n",
    "\n",
    "from tensor2tensor.data_generators import generator_utils\n",
    "from tensor2tensor.data_generators import text_problems\n",
    "from tensor2tensor.utils import metrics\n",
    "\n",
    "import tensorflow as tf\n",
    "\n",
    "import tk\n",
    "\n",
    "from tk.models import similarity_transformer\n",
    "from tk.data_generators import function_docstring\n",
    "\n",
    "from tensorflow.contrib.eager.python import tfe\n",
    "tfe.enable_eager_execution()\n",
    "Modes = tf.estimator.ModeKeys\n"
   ]
  },
  {
   "cell_type": "markdown",
   "metadata": {},
   "source": [
    "# Multi-problem, single network experiment\n",
    "\n",
    "Here we'll experiment with a problem that mixes the two in-painting example types, using the same network to solve both problems. This is towards training a single encoder that can later be used for both doc strings and code, circumventing the need to specifically train code and doc strings to be embedded into the same space.\n"
   ]
  },
  {
   "cell_type": "markdown",
   "metadata": {},
   "source": [
    "## Problem definition"
   ]
  },
  {
   "cell_type": "code",
   "execution_count": 2,
   "metadata": {},
   "outputs": [],
   "source": [
    "\n",
    "def _random_mask_sequence(sequence):\n",
    "  \"\"\"'quick brown fox' -> 'quick ##### fox'\"\"\"\n",
    "  arr = sequence.split()\n",
    "  ind = np.random.randint(len(arr))\n",
    "  arr[ind] = ''.join([\"#\" for _ in range(0, len(arr[ind]))])\n",
    "  return ' '.join(arr)\n"
   ]
  },
  {
   "cell_type": "code",
   "execution_count": 7,
   "metadata": {},
   "outputs": [],
   "source": [
    "\n",
    "# TODO: Could yield with certain probabilities to control abundance\n",
    "# TODO: In-paintable region could be of variable size and distribution\n",
    "# TODO: Do this using preprocess step instead of generating completely new set of examples?\n",
    "\n",
    "@registry.register_problem\n",
    "class GithubMultiProblemBase(function_docstring.GithubFunctionDocstring):\n",
    "  \"\"\"Code in-painting given randomly ablated regions.\"\"\"\n",
    "\n",
    "  def generate_samples(self, data_dir, tmp_dir, dataset_split):\n",
    "    csv_files = self.get_csv_files(data_dir, tmp_dir, dataset_split)\n",
    "\n",
    "    for pairs_file in csv_files:\n",
    "      tf.logging.debug(\"Reading {}\".format(pairs_file))\n",
    "      with tf.gfile.Open(pairs_file) as csv_file:\n",
    "        for line in csv_file:\n",
    "          reader = csv.reader(StringIO(line))\n",
    "          for docstring_tokens, function_tokens in reader:\n",
    "\n",
    "            yield {\n",
    "                \"inputs\": _random_mask_sequence(function_tokens),\n",
    "                \"targets\": function_tokens,\n",
    "                \"embed_code\": [0]\n",
    "            }\n",
    "\n",
    "            yield {\n",
    "                \"inputs\": _random_mask_sequence(docstring_tokens),\n",
    "                \"targets\": docstring_tokens,\n",
    "                \"embed_code\": [0]\n",
    "            }\n"
   ]
  },
  {
   "cell_type": "code",
   "execution_count": null,
   "metadata": {},
   "outputs": [],
   "source": [
    "\n",
    "tmp_dir = \"/mnt/nfs-east1-d/tmp\"\n",
    "data_dir = \"/mnt/nfs-east1-d/data\"\n",
    "multi_problem = GithubMultiProblemBase()\n",
    "multi_problem.generate_data(data_dir, tmp_dir)\n"
   ]
  },
  {
   "cell_type": "markdown",
   "metadata": {},
   "source": [
    "## Training"
   ]
  },
  {
   "cell_type": "code",
   "execution_count": 9,
   "metadata": {},
   "outputs": [
    {
     "name": "stdout",
     "output_type": "stream",
     "text": [
      "train_args:\n",
      "{'data_dir': '/mnt/nfs-east1-d/data',\n",
      " 'dbgprofile': False,\n",
      " 'hparams': \"''\",\n",
      " 'hparams_set': 'transformer_tiny',\n",
      " 'log_device_placement': False,\n",
      " 'model': 'transformer',\n",
      " 'output_dir': 'gs://kubeflow-rl-checkpoints/comparisons/cs-multi1/cs-multi1-j1014-1845-b89f/output',\n",
      " 'problem': 'github_multi_problem_base',\n",
      " 'profile': False,\n",
      " 'ps_gpu': 1,\n",
      " 'save_checkpoints_secs': 1800,\n",
      " 'schedule': 'train',\n",
      " 'ssd_mount_path': '/mnt/disks/ssd0',\n",
      " 't2t_usr_dir': 'gs://kubeflow-rl-checkpoints/comparisons/cs-multi1/cs-multi1-j1014-1845-b89f/tk',\n",
      " 'train_steps': 10000,\n",
      " 'worker_gpu': 1,\n",
      " 'worker_gpu_memory_fraction': 0.95}\n"
     ]
    }
   ],
   "source": [
    "\n",
    "from tk.experiment import configure_experiment, T2TExperiment\n",
    "\n",
    "args = configure_experiment(\"cs-multi1\",\n",
    "                             problem=\"github_multi_problem_base\",\n",
    "                             hparams_set=\"transformer_tiny\",\n",
    "                             model=\"transformer\",\n",
    "                             extra_hparams={\n",
    "                             },\n",
    "                             num_gpu_per_worker=1,\n",
    "                             num_steps=10000)\n",
    "\n",
    "job = T2TExperiment(**args)\n",
    "job.run()\n"
   ]
  },
  {
   "cell_type": "code",
   "execution_count": 2,
   "metadata": {},
   "outputs": [
    {
     "name": "stdout",
     "output_type": "stream",
     "text": [
      "INFO:tensorflow:Identifying event files in experiment subdirectories...\n"
     ]
    },
    {
     "name": "stderr",
     "output_type": "stream",
     "text": [
      "[2018-10-14 19:08:24,352] Identifying event files in experiment subdirectories...\n"
     ]
    },
    {
     "name": "stdout",
     "output_type": "stream",
     "text": [
      "INFO:tensorflow:Processing experiment events (1 of 1)\n"
     ]
    },
    {
     "name": "stderr",
     "output_type": "stream",
     "text": [
      "[2018-10-14 19:08:25,466] Processing experiment events (1 of 1)\n"
     ]
    },
    {
     "name": "stdout",
     "output_type": "stream",
     "text": [
      "INFO:tensorflow:Finished loading event data for comparison.\n"
     ]
    },
    {
     "name": "stderr",
     "output_type": "stream",
     "text": [
      "[2018-10-14 19:08:25,891] Finished loading event data for comparison.\n"
     ]
    },
    {
     "data": {
      "image/png": "[encoded data removed]",
      "text/plain": [
       "<Figure size 1200x480 with 1 Axes>"
      ]
     },
     "metadata": {},
     "output_type": "display_data"
    }
   ],
   "source": [
    "\n",
    "#from tk.allen_demo import event_data_for_comparison, show_experiment_loss\n",
    "#%matplotlib inline\n",
    "\n",
    "experiment_data = event_data_for_comparison(\"gs://kubeflow-rl-checkpoints/comparisons/cs-multi1*\")\n",
    "show_experiment_loss(experiment_data)\n"
   ]
  },
  {
   "cell_type": "markdown",
   "metadata": {},
   "source": [
    "## Alternative model\n",
    "\n",
    "Hmmm so there's no guarantee pairs will be embedded in a similar way here. But it might just happen. But if not, can train at the same time to produce corresponding embeddings...\n",
    "\n",
    "This supposes our examples are of the form: \n",
    "\n",
    "```python\n",
    "{\n",
    "    \"inputs\": \"some input, e.g. masked code\",\n",
    "    \"targets\": \"some corresponding target, e.g. unmasked code\",\n",
    "    \"docstring\": \"a docstring to embed\",\n",
    "    \"code\": \"code to embed\"\n",
    "}\n",
    "```\n",
    "\n",
    "where the inputs/targets pair is only masked docstring/docstring or masked code/code for the sake of simplicity of implementation. if we only do one at a time instead of both then we can just return the tensor produced by super(Transformer, self).body() instead of having to manually call self.loss.\n"
   ]
  },
  {
   "cell_type": "code",
   "execution_count": 3,
   "metadata": {},
   "outputs": [],
   "source": [
    "\n",
    "from tensor2tensor.models.transformer import Transformer\n",
    "from tk.models.similarity_transformer import similarity_cost\n",
    "\n",
    "@registry.register_model\n",
    "class ConstrainedEmbeddingTransformer(Transformer):\n",
    "\n",
    "  def body(self, features):\n",
    "    hparams = self._hparams\n",
    "    target_space = problem.SpaceID.EN_TOK\n",
    "\n",
    "    if self._hparams.mode == tf.estimator.ModeKeys.PREDICT:\n",
    "      return self.encode(features[\"predictme\"], target_space, hparams,\n",
    "                         features=features), {\"training\": 0.0}\n",
    "\n",
    "    string_embedding, _ = self.encode(features[\"docstring\"], target_space, hparams,\n",
    "                                      features=features) # Not sure if this last will work\n",
    "    code_embedding, _ = self.encode(features[\"code\"], target_space, hparams,\n",
    "                                    features=features)\n",
    "    sc = similarity_cost(string_embedding, code_embedding, self.hparams.loss_variant)\n",
    "\n",
    "    ret = super(Transformer, self).body(features)\n",
    "\n",
    "    if len(ret) == 2:\n",
    "      if not isinstance(ret[1], dict):\n",
    "        raise ValueError(\"Unexpected second type in superclass body return.\")\n",
    "      ret[1][\"similarity\"] = sc\n",
    "      return ret\n",
    "    return ret, {\"similarity\": sc}\n"
   ]
  },
  {
   "cell_type": "code",
   "execution_count": 5,
   "metadata": {},
   "outputs": [],
   "source": [
    "\n",
    "@registry.register_problem\n",
    "class GithubConstrainedEmbedding(function_docstring.GithubFunctionDocstring):\n",
    "\n",
    "  def generate_samples(self, data_dir, tmp_dir, dataset_split):\n",
    "    csv_files = self.get_csv_files(data_dir, tmp_dir, dataset_split)\n",
    "\n",
    "    for pairs_file in csv_files:\n",
    "      tf.logging.debug(\"Reading {}\".format(pairs_file))\n",
    "      with tf.gfile.Open(pairs_file) as csv_file:\n",
    "        for line in csv_file:\n",
    "          reader = csv.reader(StringIO(line))\n",
    "          for docstring_tokens, function_tokens in reader:\n",
    "\n",
    "            yield {\n",
    "                \"inputs\": _random_mask_sequence(function_tokens),\n",
    "                \"targets\": function_tokens,\n",
    "                \"docstring\": docstring_tokens,\n",
    "                \"code\": function_tokens,\n",
    "                \"embed_code\": [0]\n",
    "            }\n",
    "\n",
    "            yield {\n",
    "                \"inputs\": _random_mask_sequence(docstring_tokens),\n",
    "                \"targets\": docstring_tokens,\n",
    "                \"docstring\": docstring_tokens,\n",
    "                \"code\": function_tokens,\n",
    "                \"embed_code\": [0]\n",
    "            }\n",
    "\n",
    "  # TODO: This and following methods need fixing.\n",
    "\n",
    "  def feature_encoders(self, data_dir):\n",
    "    encoder = self.get_or_create_vocab(data_dir, None, force_get=True)\n",
    "    encoders = {\"targets\": encoder}\n",
    "    encoders[\"inputs\"] = encoder\n",
    "    encoders[\"code\"] = encoder\n",
    "    encoders[\"docstring\"] = encoder\n",
    "    return encoders\n",
    "\n",
    "  def example_reading_spec(self):\n",
    "    data_fields, data_items_to_decoders = super(GithubConstrainedEmbedding,\n",
    "                                                self).example_reading_spec()\n",
    "    \n",
    "    data_fields[\"docstring\"] = tf.VarLenFeature(dtype=tf.int64)\n",
    "    data_fields[\"code\"] = tf.VarLenFeature(dtype=tf.int64)\n",
    "\n",
    "    data_items_to_decoders.update({\n",
    "      \"code\": tf.contrib.slim.tfexample_decoder.Tensor(tensor_key=\"code\"),\n",
    "      \"docstring\": tf.contrib.slim.tfexample_decoder.Tensor(tensor_key=\"docstring\")\n",
    "    })\n",
    "\n",
    "    return data_fields, data_items_to_decoders\n"
   ]
  },
  {
   "cell_type": "markdown",
   "metadata": {},
   "source": [
    "It would be a lot cleaner to just have a variety of example types (non-overlapping) and have body be conditional on the example type code."
   ]
  },
  {
   "cell_type": "code",
   "execution_count": null,
   "metadata": {},
   "outputs": [],
   "source": [
    "\n",
    "tmp_dir = \"/mnt/nfs-east1-d/tmp\"\n",
    "data_dir = \"/mnt/nfs-east1-d/data\"\n",
    "mp_constrained_embedding = GithubConstrainedEmbedding()\n",
    "mp_constrained_embedding.generate_data(data_dir, tmp_dir)\n"
   ]
  },
  {
   "cell_type": "markdown",
   "metadata": {},
   "source": [
    "#### Model testing\n",
    "\n",
    "Let's quickly verify our model trains with tfe as implemented."
   ]
  },
  {
   "cell_type": "code",
   "execution_count": 7,
   "metadata": {},
   "outputs": [
    {
     "name": "stdout",
     "output_type": "stream",
     "text": [
      "INFO:tensorflow:Setting T2TModel mode to 'train'\n"
     ]
    },
    {
     "name": "stderr",
     "output_type": "stream",
     "text": [
      "[2018-10-14 20:25:54,634] Setting T2TModel mode to 'train'\n"
     ]
    },
    {
     "name": "stdout",
     "output_type": "stream",
     "text": [
      "INFO:tensorflow:Reading data files from /mnt/nfs-east1-d/data/github_constrained_embedding-train*\n"
     ]
    },
    {
     "name": "stderr",
     "output_type": "stream",
     "text": [
      "[2018-10-14 20:25:54,638] Reading data files from /mnt/nfs-east1-d/data/github_constrained_embedding-train*\n"
     ]
    },
    {
     "name": "stdout",
     "output_type": "stream",
     "text": [
      "INFO:tensorflow:partition: 0 num_data_files: 100\n"
     ]
    },
    {
     "name": "stderr",
     "output_type": "stream",
     "text": [
      "[2018-10-14 20:25:54,669] partition: 0 num_data_files: 100\n"
     ]
    }
   ],
   "source": [
    "\n",
    "hparams = similarity_transformer.similarity_transformer_tiny()\n",
    "hparams.data_dir = data_dir\n",
    "\n",
    "p_hparams = mp_constrained_embedding.get_hparams(hparams)\n",
    "\n",
    "model = ConstrainedEmbeddingTransformer(\n",
    "    hparams, tf.estimator.ModeKeys.TRAIN, p_hparams\n",
    ")\n",
    "\n",
    "batch_size = 1\n",
    "train_dataset = mp_constrained_embedding.dataset(Modes.TRAIN, data_dir)\n",
    "train_dataset = train_dataset.repeat(None).batch(batch_size)\n",
    "\n",
    "optimizer = tf.train.AdamOptimizer()\n"
   ]
  },
  {
   "cell_type": "code",
   "execution_count": null,
   "metadata": {},
   "outputs": [],
   "source": [
    "\n",
    "ds = tfe.Iterator(train_dataset)\n",
    "\n",
    "print ds.next()\n",
    "\n",
    "# Only inputs, targets, and embed code."
   ]
  },
  {
   "cell_type": "code",
   "execution_count": null,
   "metadata": {},
   "outputs": [],
   "source": [
    "\n",
    "@tfe.implicit_value_and_gradients\n",
    "def loss_fn(features):\n",
    "  _, losses = model(features)\n",
    "  return losses[\"training\"]\n",
    "\n",
    "NUM_STEPS = 10\n",
    "\n",
    "for count, example in enumerate(tfe.Iterator(train_dataset)):\n",
    "  loss, gv = loss_fn(example)\n",
    "  optimizer.apply_gradients(gv)\n",
    "\n",
    "  if count % 1 == 0:\n",
    "   print(\"Step: %d, Loss: %.3f\" % (count, loss.numpy()))\n",
    "  if count >= NUM_STEPS:\n",
    "   break\n"
   ]
  },
  {
   "cell_type": "markdown",
   "metadata": {},
   "source": [
    "## Training"
   ]
  },
  {
   "cell_type": "code",
   "execution_count": null,
   "metadata": {},
   "outputs": [],
   "source": [
    "\n",
    "from tk.experiment import configure_experiment, T2TExperiment\n",
    "\n",
    "args = configure_experiment(\"cs-ce0\",\n",
    "                             problem=\"github_constrained_embedding\",\n",
    "                             hparams_set=\"transformer_tiny\",\n",
    "                             model=\"constrained_embedding_transformer\",\n",
    "                             extra_hparams={\n",
    "                             },\n",
    "                             num_gpu_per_worker=1,\n",
    "                             num_steps=10000)\n",
    "\n",
    "job = T2TExperiment(**args)\n",
    "job.run()\n"
   ]
  },
  {
   "cell_type": "code",
   "execution_count": null,
   "metadata": {},
   "outputs": [],
   "source": [
    "\n",
    "#from tk.allen_demo import event_data_for_comparison, show_experiment_loss\n",
    "#%matplotlib inline\n",
    "\n",
    "experiment_data = event_data_for_comparison(\"gs://kubeflow-rl-checkpoints/comparisons/cs-ce0*\")\n",
    "show_experiment_loss(experiment_data)\n"
   ]
  }
 ],
 "metadata": {
  "kernelspec": {
   "display_name": "Python 2",
   "language": "python",
   "name": "python2"
  },
  "language_info": {
   "codemirror_mode": {
    "name": "ipython",
    "version": 2
   },
   "file_extension": ".py",
   "mimetype": "text/x-python",
   "name": "python",
   "nbconvert_exporter": "python",
   "pygments_lexer": "ipython2",
   "version": "2.7.14"
  }
 },
 "nbformat": 4,
 "nbformat_minor": 2
}
