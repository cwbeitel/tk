{
 "cells": [
  {
   "cell_type": "markdown",
   "metadata": {},
   "source": [
    "## Datagen"
   ]
  },
  {
   "cell_type": "code",
   "execution_count": 3,
   "metadata": {},
   "outputs": [],
   "source": [
    "import shutil\n",
    "import os\n",
    "from tk import util\n",
    "\n",
    "def _configure_and_stage(base_name):\n",
    "    \n",
    "    app_root = \"/home/jovyan/nfs-work/tk\"\n",
    "\n",
    "    output_dir = os.path.join(app_root, \"output\")\n",
    "\n",
    "    job_name = util.generate_job_name(base_name)\n",
    "\n",
    "    args = {\n",
    "        \"job_name\": job_name,\n",
    "        \"volume_claim_id\": \"nfs-1\",\n",
    "        \"app_root\": app_root,\n",
    "        \"namespace\": \"kubeflow\",\n",
    "        \"image\": \"gcr.io/kubeflow-rl/base:0.0.4\",\n",
    "        \"problems\": \"allen_brain_image2image\",\n",
    "        \"problem\": \"allen_brain_image2image\",\n",
    "        \"data_dir\": \"/mnt/nfs-1/t2t/data-1\",\n",
    "        \"tmp_dir\": \"/mnt/nfs-1/t2t/tmp-1\",\n",
    "        \"smoke\": False,\n",
    "        \"batch\": False,\n",
    "    }\n",
    "\n",
    "    testing_storage_base = \"/mnt/nfs-1/testing\"\n",
    "\n",
    "    remote_app_root = \"%s/%s\" % (testing_storage_base,\n",
    "                                 args[\"job_name\"])\n",
    "\n",
    "    if not os.path.exists(args[\"app_root\"]):\n",
    "        raise ValueError(\"Can't stage from a non-existent source, \"\n",
    "                         \"saw %s\" % args[\"app_root\"])\n",
    "    shutil.copytree(args[\"app_root\"], remote_app_root)\n",
    "\n",
    "    args[\"app_root\"] = remote_app_root\n",
    "    args[\"batch\"] = True\n",
    "\n",
    "    return args"
   ]
  },
  {
   "cell_type": "code",
   "execution_count": 4,
   "metadata": {},
   "outputs": [],
   "source": [
    "args = _configure_and_stage(\"allen-datagen\")"
   ]
  },
  {
   "cell_type": "code",
   "execution_count": 6,
   "metadata": {},
   "outputs": [
    {
     "data": {
      "text/plain": [
       "{'app_root': '/mnt/nfs-1/testing/allen-datagen-0529-0329-f95c',\n",
       " 'batch': True,\n",
       " 'data_dir': '/mnt/nfs-1/t2t/data-1',\n",
       " 'image': 'gcr.io/kubeflow-rl/base:0.0.4',\n",
       " 'job_name': 'allen-datagen-0529-0329-f95c',\n",
       " 'namespace': 'kubeflow',\n",
       " 'problem': 'allen_brain_image2image',\n",
       " 'problems': 'allen_brain_image2image',\n",
       " 'smoke': False,\n",
       " 'tmp_dir': '/mnt/nfs-1/t2t/tmp-1',\n",
       " 'volume_claim_id': 'nfs-1'}"
      ]
     },
     "execution_count": 6,
     "metadata": {},
     "output_type": "execute_result"
    }
   ],
   "source": [
    "args"
   ]
  },
  {
   "cell_type": "code",
   "execution_count": 7,
   "metadata": {},
   "outputs": [
    {
     "data": {
      "text/plain": [
       "{'apiVersion': 'batch/v1',\n",
       " 'kind': 'Job',\n",
       " 'metadata': {'name': 'allen-datagen-0529-0329-f95c', 'namespace': 'kubeflow'},\n",
       " 'spec': {'backoffLimit': 4,\n",
       "  'template': {'spec': {'containers': [{'args': ['t2t-datagen',\n",
       "       '--data_dir=/mnt/nfs-1/t2t/data-1',\n",
       "       '--namespace=kubeflow',\n",
       "       '--image=gcr.io/kubeflow-rl/base:0.0.4',\n",
       "       '--problems=allen_brain_image2image',\n",
       "       '--batch=True',\n",
       "       '--job_name=allen-datagen-0529-0329-f95c',\n",
       "       '--smoke=False',\n",
       "       '--tmp_dir=/mnt/nfs-1/t2t/tmp-1',\n",
       "       '--problem=allen_brain_image2image',\n",
       "       '--volume_claim_id=nfs-1'],\n",
       "      'image': 'gcr.io/kubeflow-rl/base:0.0.4',\n",
       "      'name': 'container',\n",
       "      'volumeMounts': [{'mountPath': '/mnt/nfs-1', 'name': 'nfs-1'}]}],\n",
       "    'restartPolicy': 'Never',\n",
       "    'volumes': [{'name': 'nfs-1',\n",
       "      'persistentVolumeClaim': {'claimName': 'nfs-1'}}]}}}}"
      ]
     },
     "execution_count": 7,
     "metadata": {},
     "output_type": "execute_result"
    }
   ],
   "source": [
    "# Run the command relative to ${app_root}/vendor/tensor2tensor/...\n",
    "from tk import jobs\n",
    "\n",
    "job = jobs.T2TDatagenJob(**args)\n",
    "\n",
    "job.as_dict()"
   ]
  },
  {
   "cell_type": "code",
   "execution_count": 8,
   "metadata": {},
   "outputs": [
    {
     "name": "stdout",
     "output_type": "stream",
     "text": [
      "{'api_version': 'batch/v1',\n",
      " 'kind': 'Job',\n",
      " 'metadata': {'annotations': None,\n",
      "              'cluster_name': None,\n",
      "              'creation_timestamp': datetime.datetime(2018, 5, 29, 3, 33, 25, tzinfo=tzlocal()),\n",
      "              'deletion_grace_period_seconds': None,\n",
      "              'deletion_timestamp': None,\n",
      "              'finalizers': None,\n",
      "              'generate_name': None,\n",
      "              'generation': None,\n",
      "              'initializers': None,\n",
      "              'labels': {u'controller-uid': '0b44cafc-62f1-11e8-8da3-42010af0000d',\n",
      "                         u'job-name': 'allen-datagen-0529-0329-f95c'},\n",
      "              'name': 'allen-datagen-0529-0329-f95c',\n",
      "              'namespace': 'kubeflow',\n",
      "              'owner_references': None,\n",
      "              'resource_version': '3788798',\n",
      "              'self_link': '/apis/batch/v1/namespaces/kubeflow/jobs/allen-datagen-0529-0329-f95c',\n",
      "              'uid': '0b44cafc-62f1-11e8-8da3-42010af0000d'},\n",
      " 'spec': {'active_deadline_seconds': None,\n",
      "          'backoff_limit': 4,\n",
      "          'completions': 1,\n",
      "          'manual_selector': None,\n",
      "          'parallelism': 1,\n",
      "          'selector': {'match_expressions': None,\n",
      "                       'match_labels': {u'controller-uid': '0b44cafc-62f1-11e8-8da3-42010af0000d'}},\n",
      "          'template': {'metadata': {'annotations': None,\n",
      "                                    'cluster_name': None,\n",
      "                                    'creation_timestamp': None,\n",
      "                                    'deletion_grace_period_seconds': None,\n",
      "                                    'deletion_timestamp': None,\n",
      "                                    'finalizers': None,\n",
      "                                    'generate_name': None,\n",
      "                                    'generation': None,\n",
      "                                    'initializers': None,\n",
      "                                    'labels': {u'controller-uid': '0b44cafc-62f1-11e8-8da3-42010af0000d',\n",
      "                                               u'job-name': 'allen-datagen-0529-0329-f95c'},\n",
      "                                    'name': None,\n",
      "                                    'namespace': None,\n",
      "                                    'owner_references': None,\n",
      "                                    'resource_version': None,\n",
      "                                    'self_link': None,\n",
      "                                    'uid': None},\n",
      "                       'spec': {'active_deadline_seconds': None,\n",
      "                                'affinity': None,\n",
      "                                'automount_service_account_token': None,\n",
      "                                'containers': [{'args': ['t2t-datagen',\n",
      "                                                         '--data_dir=/mnt/nfs-1/t2t/data-1',\n",
      "                                                         '--namespace=kubeflow',\n",
      "                                                         '--image=gcr.io/kubeflow-rl/base:0.0.4',\n",
      "                                                         '--problems=allen_brain_image2image',\n",
      "                                                         '--batch=True',\n",
      "                                                         '--job_name=allen-datagen-0529-0329-f95c',\n",
      "                                                         '--smoke=False',\n",
      "                                                         '--tmp_dir=/mnt/nfs-1/t2t/tmp-1',\n",
      "                                                         '--problem=allen_brain_image2image',\n",
      "                                                         '--volume_claim_id=nfs-1'],\n",
      "                                                'command': None,\n",
      "                                                'env': None,\n",
      "                                                'env_from': None,\n",
      "                                                'image': 'gcr.io/kubeflow-rl/base:0.0.4',\n",
      "                                                'image_pull_policy': 'IfNotPresent',\n",
      "                                                'lifecycle': None,\n",
      "                                                'liveness_probe': None,\n",
      "                                                'name': 'container',\n",
      "                                                'ports': None,\n",
      "                                                'readiness_probe': None,\n",
      "                                                'resources': {'limits': None,\n",
      "                                                              'requests': None},\n",
      "                                                'security_context': None,\n",
      "                                                'stdin': None,\n",
      "                                                'stdin_once': None,\n",
      "                                                'termination_message_path': '/dev/termination-log',\n",
      "                                                'termination_message_policy': 'File',\n",
      "                                                'tty': None,\n",
      "                                                'volume_devices': None,\n",
      "                                                'volume_mounts': [{'mount_path': '/mnt/nfs-1',\n",
      "                                                                   'mount_propagation': None,\n",
      "                                                                   'name': 'nfs-1',\n",
      "                                                                   'read_only': None,\n",
      "                                                                   'sub_path': None}],\n",
      "                                                'working_dir': None}],\n",
      "                                'dns_config': None,\n",
      "                                'dns_policy': 'ClusterFirst',\n",
      "                                'host_aliases': None,\n",
      "                                'host_ipc': None,\n",
      "                                'host_network': None,\n",
      "                                'host_pid': None,\n",
      "                                'hostname': None,\n",
      "                                'image_pull_secrets': None,\n",
      "                                'init_containers': None,\n",
      "                                'node_name': None,\n",
      "                                'node_selector': None,\n",
      "                                'priority': None,\n",
      "                                'priority_class_name': None,\n",
      "                                'restart_policy': 'Never',\n",
      "                                'scheduler_name': 'default-scheduler',\n",
      "                                'security_context': {'fs_group': None,\n",
      "                                                     'run_as_non_root': None,\n",
      "                                                     'run_as_user': None,\n",
      "                                                     'se_linux_options': None,\n",
      "                                                     'supplemental_groups': None},\n",
      "                                'service_account': None,\n",
      "                                'service_account_name': None,\n",
      "                                'subdomain': None,\n",
      "                                'termination_grace_period_seconds': 30,\n",
      "                                'tolerations': None,\n",
      "                                'volumes': [{'aws_elastic_block_store': None,\n",
      "                                             'azure_disk': None,\n",
      "                                             'azure_file': None,\n",
      "                                             'cephfs': None,\n",
      "                                             'cinder': None,\n",
      "                                             'config_map': None,\n",
      "                                             'downward_api': None,\n",
      "                                             'empty_dir': None,\n",
      "                                             'fc': None,\n",
      "                                             'flex_volume': None,\n",
      "                                             'flocker': None,\n",
      "                                             'gce_persistent_disk': None,\n",
      "                                             'git_repo': None,\n",
      "                                             'glusterfs': None,\n",
      "                                             'host_path': None,\n",
      "                                             'iscsi': None,\n",
      "                                             'name': 'nfs-1',\n",
      "                                             'nfs': None,\n",
      "                                             'persistent_volume_claim': {'claim_name': 'nfs-1',\n",
      "                                                                         'read_only': None},\n",
      "                                             'photon_persistent_disk': None,\n",
      "                                             'portworx_volume': None,\n",
      "                                             'projected': None,\n",
      "                                             'quobyte': None,\n",
      "                                             'rbd': None,\n",
      "                                             'scale_io': None,\n",
      "                                             'secret': None,\n",
      "                                             'storageos': None,\n",
      "                                             'vsphere_volume': None}]}}},\n",
      " 'status': {'active': None,\n",
      "            'completion_time': None,\n",
      "            'conditions': None,\n",
      "            'failed': None,\n",
      "            'start_time': None,\n",
      "            'succeeded': None}}\n"
     ]
    },
    {
     "ename": "KeyboardInterrupt",
     "evalue": "",
     "output_type": "error",
     "traceback": [
      "\u001b[0;31m\u001b[0m",
      "\u001b[0;31mKeyboardInterrupt\u001b[0mTraceback (most recent call last)",
      "\u001b[0;32m<ipython-input-8-547a87b2509b>\u001b[0m in \u001b[0;36m<module>\u001b[0;34m()\u001b[0m\n\u001b[0;32m----> 1\u001b[0;31m \u001b[0mjob\u001b[0m\u001b[0;34m.\u001b[0m\u001b[0mrun\u001b[0m\u001b[0;34m(\u001b[0m\u001b[0;34m)\u001b[0m\u001b[0;34m\u001b[0m\u001b[0m\n\u001b[0m",
      "\u001b[0;32m/mnt/nfs-1/users/cwbeitel/work/tk/tk/kube.pyc\u001b[0m in \u001b[0;36mrun\u001b[0;34m(self)\u001b[0m\n\u001b[1;32m    304\u001b[0m \u001b[0;34m\u001b[0m\u001b[0m\n\u001b[1;32m    305\u001b[0m         \u001b[0;32mif\u001b[0m \u001b[0mself\u001b[0m\u001b[0;34m.\u001b[0m\u001b[0m_batch\u001b[0m\u001b[0;34m:\u001b[0m\u001b[0;34m\u001b[0m\u001b[0m\n\u001b[0;32m--> 306\u001b[0;31m             \u001b[0mself\u001b[0m\u001b[0;34m.\u001b[0m\u001b[0mbatch_run\u001b[0m\u001b[0;34m(\u001b[0m\u001b[0mpoll_and_check\u001b[0m\u001b[0;34m=\u001b[0m\u001b[0mself\u001b[0m\u001b[0;34m.\u001b[0m\u001b[0m_poll_and_check\u001b[0m\u001b[0;34m)\u001b[0m\u001b[0;34m\u001b[0m\u001b[0m\n\u001b[0m\u001b[1;32m    307\u001b[0m         \u001b[0;32melse\u001b[0m\u001b[0;34m:\u001b[0m\u001b[0;34m\u001b[0m\u001b[0m\n\u001b[1;32m    308\u001b[0m             \u001b[0mself\u001b[0m\u001b[0;34m.\u001b[0m\u001b[0mlocal_run\u001b[0m\u001b[0;34m(\u001b[0m\u001b[0;34m)\u001b[0m\u001b[0;34m\u001b[0m\u001b[0m\n",
      "\u001b[0;32m/mnt/nfs-1/users/cwbeitel/work/tk/tk/kube.pyc\u001b[0m in \u001b[0;36mbatch_run\u001b[0;34m(self, poll_and_check)\u001b[0m\n\u001b[1;32m    334\u001b[0m             wait_for_job(job_client,\n\u001b[1;32m    335\u001b[0m                          \u001b[0mjob_dict\u001b[0m\u001b[0;34m[\u001b[0m\u001b[0;34m\"metadata\"\u001b[0m\u001b[0;34m]\u001b[0m\u001b[0;34m[\u001b[0m\u001b[0;34m\"namespace\"\u001b[0m\u001b[0;34m]\u001b[0m\u001b[0;34m,\u001b[0m\u001b[0;34m\u001b[0m\u001b[0m\n\u001b[0;32m--> 336\u001b[0;31m                          job_dict[\"metadata\"][\"name\"])\n\u001b[0m\u001b[1;32m    337\u001b[0m \u001b[0;34m\u001b[0m\u001b[0m\n\u001b[1;32m    338\u001b[0m     \u001b[0;32mdef\u001b[0m \u001b[0mlocal_run\u001b[0m\u001b[0;34m(\u001b[0m\u001b[0mself\u001b[0m\u001b[0;34m,\u001b[0m \u001b[0mshow\u001b[0m\u001b[0;34m=\u001b[0m\u001b[0mTrue\u001b[0m\u001b[0;34m)\u001b[0m\u001b[0;34m:\u001b[0m\u001b[0;34m\u001b[0m\u001b[0m\n",
      "\u001b[0;32m/mnt/nfs-1/users/cwbeitel/work/tk/tk/kube.pyc\u001b[0m in \u001b[0;36mwait_for_job\u001b[0;34m(batch_api, namespace, name, timeout, polling_interval, status_callback)\u001b[0m\n\u001b[1;32m    198\u001b[0m                 name, namespace))\n\u001b[1;32m    199\u001b[0m \u001b[0;34m\u001b[0m\u001b[0m\n\u001b[0;32m--> 200\u001b[0;31m         \u001b[0mtime\u001b[0m\u001b[0;34m.\u001b[0m\u001b[0msleep\u001b[0m\u001b[0;34m(\u001b[0m\u001b[0mpolling_interval\u001b[0m\u001b[0;34m.\u001b[0m\u001b[0mseconds\u001b[0m\u001b[0;34m)\u001b[0m\u001b[0;34m\u001b[0m\u001b[0m\n\u001b[0m\u001b[1;32m    201\u001b[0m \u001b[0;34m\u001b[0m\u001b[0m\n\u001b[1;32m    202\u001b[0m     \u001b[0;31m# Linter complains if we don't have a return statement even though\u001b[0m\u001b[0;34m\u001b[0m\u001b[0;34m\u001b[0m\u001b[0m\n",
      "\u001b[0;31mKeyboardInterrupt\u001b[0m: "
     ]
    }
   ],
   "source": [
    "job.run()"
   ]
  },
  {
   "cell_type": "code",
   "execution_count": 9,
   "metadata": {},
   "outputs": [
    {
     "name": "stdout",
     "output_type": "stream",
     "text": [
      "/home/jovyan/.conda/lib/python3.6/site-packages/h5py/__init__.py:36: FutureWarning: Conversion of the second argument of issubdtype from `float` to `np.floating` is deprecated. In future, it will be treated as `np.float64 == np.dtype(float).type`.\n",
      "  from ._conv import register_converters as _register_converters\n",
      "WARNING:tensorflow:From /home/jovyan/.conda/lib/python3.6/site-packages/tensorflow/contrib/learn/python/learn/datasets/base.py:198: retry (from tensorflow.contrib.learn.python.learn.datasets.base) is deprecated and will be removed in a future version.\n",
      "Instructions for updating:\n",
      "Use the retry module or similar alternatives.\n",
      "2018-05-29 03:34:49,801 allensdk.api.api.retrieve_file_over_http INFO     Downloading URL: http://api.brain-map.org/api/v2/section_image_download/70450691\n",
      "[2018-05-29 03:34:49,801] Downloading URL: http://api.brain-map.org/api/v2/section_image_download/70450691\n",
      "2018-05-29 03:35:04,124 allensdk.api.api.retrieve_file_over_http INFO     Downloading URL: http://api.brain-map.org/api/v2/section_image_download/70450695\n",
      "[2018-05-29 03:35:04,124] Downloading URL: http://api.brain-map.org/api/v2/section_image_download/70450695\n",
      "2018-05-29 03:35:15,531 allensdk.api.api.retrieve_file_over_http INFO     Downloading URL: http://api.brain-map.org/api/v2/section_image_download/70450685\n",
      "[2018-05-29 03:35:15,531] Downloading URL: http://api.brain-map.org/api/v2/section_image_download/70450685\n",
      "2018-05-29 03:35:27,776 allensdk.api.api.retrieve_file_over_http INFO     Downloading URL: http://api.brain-map.org/api/v2/section_image_download/70450671\n",
      "[2018-05-29 03:35:27,776] Downloading URL: http://api.brain-map.org/api/v2/section_image_download/70450671\n",
      "2018-05-29 03:35:39,328 allensdk.api.api.retrieve_file_over_http INFO     Downloading URL: http://api.brain-map.org/api/v2/section_image_download/70450659\n",
      "[2018-05-29 03:35:39,328] Downloading URL: http://api.brain-map.org/api/v2/section_image_download/70450659\n",
      "2018-05-29 03:35:48,131 allensdk.api.api.retrieve_file_over_http INFO     Downloading URL: http://api.brain-map.org/api/v2/section_image_download/70450683\n",
      "[2018-05-29 03:35:48,131] Downloading URL: http://api.brain-map.org/api/v2/section_image_download/70450683\n",
      "2018-05-29 03:36:02,002 allensdk.api.api.retrieve_file_over_http INFO     Downloading URL: http://api.brain-map.org/api/v2/section_image_download/70450661\n",
      "[2018-05-29 03:36:02,002] Downloading URL: http://api.brain-map.org/api/v2/section_image_download/70450661\n"
     ]
    }
   ],
   "source": [
    "!kubectl logs -n kubeflow allen-datagen-0529-0329-f95c-cbkfb"
   ]
  },
  {
   "cell_type": "code",
   "execution_count": null,
   "metadata": {},
   "outputs": [],
   "source": []
  }
 ],
 "metadata": {
  "kernelspec": {
   "display_name": "Python 2",
   "language": "python",
   "name": "python2"
  },
  "language_info": {
   "codemirror_mode": {
    "name": "ipython",
    "version": 2
   },
   "file_extension": ".py",
   "mimetype": "text/x-python",
   "name": "python",
   "nbconvert_exporter": "python",
   "pygments_lexer": "ipython2",
   "version": "2.7.14"
  }
 },
 "nbformat": 4,
 "nbformat_minor": 2
}
