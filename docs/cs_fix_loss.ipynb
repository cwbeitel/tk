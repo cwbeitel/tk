{
 "cells": [
  {
   "cell_type": "markdown",
   "metadata": {},
   "source": [
    "## Loss variant experiments"
   ]
  },
  {
   "cell_type": "markdown",
   "metadata": {},
   "source": [
    "Comparing loss functions given in https://github.com/cwbeitel/tk/blob/master/tk/models/similarity_transformer.py#L30 with keys \"kfnet\", \"simple_cd\", and \"slicenet\"."
   ]
  },
  {
   "cell_type": "code",
   "execution_count": 1,
   "metadata": {},
   "outputs": [],
   "source": [
    "\n",
    "import csv\n",
    "from six import StringIO\n",
    "import tempfile\n",
    "\n",
    "from tensor2tensor.data_generators import problem\n",
    "from tensor2tensor.layers import common_layers\n",
    "from tensor2tensor.models import transformer\n",
    "from tensor2tensor.utils import registry\n",
    "from tensor2tensor.utils import t2t_model\n",
    "\n",
    "from tensor2tensor.data_generators import generator_utils\n",
    "from tensor2tensor.data_generators import text_problems\n",
    "from tensor2tensor.utils import metrics\n",
    "\n",
    "import tensorflow as tf\n",
    "\n",
    "import tk\n",
    "\n",
    "from tk.models import similarity_transformer\n",
    "\n",
    "from tensorflow.contrib.eager.python import tfe\n",
    "tfe.enable_eager_execution()\n",
    "Modes = tf.estimator.ModeKeys\n",
    "\n",
    "from tk.experiment import configure_experiment, T2TExperiment\n",
    "\n",
    "from tk.models import similarity_transformer\n",
    "from tk.data_generators import function_docstring\n"
   ]
  },
  {
   "cell_type": "markdown",
   "metadata": {},
   "source": [
    "### Training"
   ]
  },
  {
   "cell_type": "code",
   "execution_count": null,
   "metadata": {},
   "outputs": [],
   "source": [
    "\n",
    "args = configure_experiment(\"cs-lv1-simplecd\",\n",
    "                             problem=\"github_function_docstring\",\n",
    "                             hparams_set=\"similarity_transformer_tiny\",\n",
    "                             model=\"similarity_transformer_dev\",\n",
    "                             extra_hparams={\n",
    "                                 \"loss_variant\": \"simple_cd\"\n",
    "                             },\n",
    "                             num_gpu_per_worker=1,\n",
    "                             num_steps=2000)\n",
    "\n",
    "job = T2TExperiment(**args)\n",
    "job.run()\n",
    "\n",
    "# cs-lv-simplecd-j1014-0205-1cd0-master-4ud9-0-w3ta2"
   ]
  },
  {
   "cell_type": "code",
   "execution_count": null,
   "metadata": {},
   "outputs": [],
   "source": [
    "\n",
    "args = configure_experiment(\"cs-lv1-kfnet\",\n",
    "                             problem=\"github_function_docstring\",\n",
    "                             hparams_set=\"similarity_transformer_tiny\",\n",
    "                             model=\"similarity_transformer_dev\",\n",
    "                             extra_hparams={\n",
    "                                 \"loss_variant\": \"kfnet\"\n",
    "                             },\n",
    "                             num_gpu_per_worker=1,\n",
    "                             num_steps=2000)\n",
    "\n",
    "job = T2TExperiment(**args)\n",
    "job.run()\n",
    "\n",
    "# cs-lv-kfnet-j1014-0206-a5fa-master-idnx-0-ymfen"
   ]
  },
  {
   "cell_type": "code",
   "execution_count": null,
   "metadata": {},
   "outputs": [],
   "source": [
    "\n",
    "args = configure_experiment(\"cs-lv1-slicenet\",\n",
    "                             problem=\"github_function_docstring\",\n",
    "                             hparams_set=\"similarity_transformer_tiny\",\n",
    "                             model=\"similarity_transformer_dev\",\n",
    "                             extra_hparams={\n",
    "                                 \"loss_variant\": \"slicenet\"\n",
    "                             },\n",
    "                             num_gpu_per_worker=1,\n",
    "                             num_steps=2000)\n",
    "\n",
    "job = T2TExperiment(**args)\n",
    "job.run()\n",
    "\n",
    "# cs-lv-slicenet-j1014-0206-ee3c-master-jtcc-0-61cr9"
   ]
  },
  {
   "cell_type": "code",
   "execution_count": 3,
   "metadata": {},
   "outputs": [
    {
     "name": "stdout",
     "output_type": "stream",
     "text": [
      "INFO:tensorflow:Identifying event files in experiment subdirectories...\n"
     ]
    },
    {
     "name": "stderr",
     "output_type": "stream",
     "text": [
      "[2018-10-14 15:58:50,471] Identifying event files in experiment subdirectories...\n"
     ]
    },
    {
     "name": "stdout",
     "output_type": "stream",
     "text": [
      "INFO:tensorflow:Processing experiment events (1 of 3)\n"
     ]
    },
    {
     "name": "stderr",
     "output_type": "stream",
     "text": [
      "[2018-10-14 15:58:51,597] Processing experiment events (1 of 3)\n"
     ]
    },
    {
     "name": "stdout",
     "output_type": "stream",
     "text": [
      "INFO:tensorflow:Processing experiment events (2 of 3)\n"
     ]
    },
    {
     "name": "stderr",
     "output_type": "stream",
     "text": [
      "[2018-10-14 15:58:52,287] Processing experiment events (2 of 3)\n"
     ]
    },
    {
     "name": "stdout",
     "output_type": "stream",
     "text": [
      "INFO:tensorflow:Processing experiment events (3 of 3)\n"
     ]
    },
    {
     "name": "stderr",
     "output_type": "stream",
     "text": [
      "[2018-10-14 15:58:52,881] Processing experiment events (3 of 3)\n"
     ]
    },
    {
     "name": "stdout",
     "output_type": "stream",
     "text": [
      "INFO:tensorflow:Finished loading event data for comparison.\n"
     ]
    },
    {
     "name": "stderr",
     "output_type": "stream",
     "text": [
      "[2018-10-14 15:58:53,481] Finished loading event data for comparison.\n"
     ]
    },
    {
     "data": {
      "image/png": "[encoded data removed]",
      "text/plain": [
       "<Figure size 1200x480 with 1 Axes>"
      ]
     },
     "metadata": {},
     "output_type": "display_data"
    }
   ],
   "source": [
    "\n",
    "# For now since tk.allen_demo imports tfe this cell has to be run from scratch\n",
    "\n",
    "from tk.allen_demo import event_data_for_comparison, show_experiment_loss\n",
    "%matplotlib inline\n",
    "\n",
    "experiment_data = event_data_for_comparison(\"gs://kubeflow-rl-checkpoints/comparisons/cs-lv1*\")\n",
    "show_experiment_loss(experiment_data)\n"
   ]
  },
  {
   "cell_type": "markdown",
   "metadata": {},
   "source": [
    "The \"slicenet\" loss converges within only 1-2k steps. This seems overly fast. But perhaps the embedding correspondence problem is much easier to learn than e.g. the code inpainting problem."
   ]
  },
  {
   "cell_type": "markdown",
   "metadata": {},
   "source": [
    "### Qualitative"
   ]
  },
  {
   "cell_type": "code",
   "execution_count": null,
   "metadata": {},
   "outputs": [],
   "source": [
    "# TODO: Haven't finished this section. In general don't have a clear sense yet of whether the\n",
    "# above worked."
   ]
  },
  {
   "cell_type": "markdown",
   "metadata": {},
   "source": [
    "In order to do inference with the right sub-network we'll need an infer method that makes this distinction, let's try this one:"
   ]
  },
  {
   "cell_type": "code",
   "execution_count": 4,
   "metadata": {},
   "outputs": [],
   "source": [
    "\n",
    "class SimilarityTransformerInferenceDev(similarity_transformer.SimilarityTransformerDev):\n",
    "\n",
    "  def body(self, features):\n",
    "    # Assumes input has both inputs and targets, requiring dummies during\n",
    "    # inference\n",
    "    string_embedding = self.encode_string(features[\"inputs\"])\n",
    "    code_embedding = self.encode_code(features[\"targets\"])\n",
    "    loss = self.similarity_cost(string_embedding, code_embedding)\n",
    "    return tf.concat(string_embedding, code_embedding), {\"training\": loss}\n",
    "\n",
    "  def infer(self, features=None, **kwargs):\n",
    "    del kwargs\n",
    "    if \"targets\" not in features:\n",
    "      # Processing doc strings\n",
    "      features[\"targets\"] = tf.zeros_like(features[\"inputs\"])\n",
    "      predictions, _ = self(features)\n",
    "      # Doc string embeddings are the first half of the concatenated output\n",
    "      # so we'll just return that.\n",
    "      # len(predictions) can't not be divisible by 2.\n",
    "      return predicitons[:len(predictions/2)]\n",
    "    elif \"inputs\" not in features:\n",
    "      # The reverse, processing code, yielding second half of concat\n",
    "      features[\"inputs\"] = tf.zeros_like(features[\"targets\"])\n",
    "      predictions, _ = self(features)\n",
    "      return predicitons[len(predictions/2):]\n",
    "    else:\n",
    "      raise ValueError(\"Must specify either inputs or targets.\")\n"
   ]
  },
  {
   "cell_type": "code",
   "execution_count": 5,
   "metadata": {},
   "outputs": [],
   "source": [
    "\n",
    "# Setup helper functions for encoding and decoding\n",
    "def encode(encodable, output_str=None, encoders=None, mode=\"doc_string\"):\n",
    "  \"\"\"Input str to features dict, ready for inference\"\"\"\n",
    "  mode_keys = {\"doc_string\": \"inputs\", \"code\": \"targets\"}\n",
    "  mode_key = mode_keys[mode]\n",
    "  encoded = encoders[mode_key].encode(encodable) + [1]  # add EOS id\n",
    "  batched = tf.reshape(encoded, [1, -1, 1])  # Make it 3D.\n",
    "  return {mode_key: batched}\n"
   ]
  },
  {
   "cell_type": "code",
   "execution_count": null,
   "metadata": {},
   "outputs": [],
   "source": [
    "\n",
    "tmp_dir = \"/mnt/nfs-east1-d/tmp\"\n",
    "data_dir = \"/mnt/nfs-east1-d/data\"\n",
    "similarity_problem = function_docstring.GithubFunctionDocstring()\n",
    "similarity_problem.generate_data(data_dir, tmp_dir)\n"
   ]
  },
  {
   "cell_type": "code",
   "execution_count": null,
   "metadata": {},
   "outputs": [],
   "source": [
    "\n",
    "hparams = similarity_transformer.similarity_transformer_tiny()\n",
    "hparams.data_dir = \"/mnt/nfs-east1-d/data\"\n",
    "p_hparams = similarity_problem.get_hparams(hparams)\n",
    "model = similarity_transformer.SimilarityTransformerInferenceDev(hparams, tf.estimator.ModeKeys.TRAIN, p_hparams)\n"
   ]
  },
  {
   "cell_type": "code",
   "execution_count": null,
   "metadata": {},
   "outputs": [],
   "source": [
    "\n",
    "ckpt_path = \"gs://kubeflow-rl-checkpoints/comparisons/cs-lv1-slicenet/cs-lv1-slicenet-j1014-0234-7f74/output/model.ckpt-2000\"\n"
   ]
  },
  {
   "cell_type": "code",
   "execution_count": 6,
   "metadata": {},
   "outputs": [],
   "source": [
    "\n",
    "# TODO: Compute a heatmap showing pair/non-pair distances. Should be low on diagonal.\n",
    "\n",
    "def show_pair_non_pair_distances():\n",
    "\n",
    "    num_steps = 10\n",
    "    doc_emb_last = None\n",
    "    code_emb_last = None\n",
    "\n",
    "    for step in range(0, num_steps):\n",
    "\n",
    "        example = tfe.Iterator(train_dataset).next()\n",
    "\n",
    "        doc_emb = model.infer({\"inputs\": example[\"inputs\"]})\n",
    "        code_emb = model.infer({\"inputs\": example[\"targets\"]})\n",
    "\n",
    "        print(\"Dist for true pair: %s\" % model.loss(doc_emb, code_emb, \"kfnet\"))\n",
    "\n",
    "        if doc_emb_last is not None:\n",
    "\n",
    "          print(\"Dist for false pair: %s\" % model.loss(doc_emb, code_emb_last, \"kfnet\"))\n",
    "          # Assuming examples are well shuffled...\n",
    "\n",
    "        print('\\n')\n",
    "        doc_emb_last = doc_emb\n",
    "        code_emb_last = code_emb\n",
    "\n",
    "\n",
    "with tfe.restore_variables_on_create(ckpt_path):\n",
    "  show_pair_non_pair_distances()\n"
   ]
  },
  {
   "cell_type": "code",
   "execution_count": null,
   "metadata": {},
   "outputs": [],
   "source": [
    "\n",
    "doc_string1 = \"print the fibonacci sequence in o(2^n)\"\n",
    "code_string1 = \"def f(n): if n == 0: return 0 elif n == 1: return 1 else: return f(n-1)+f(n-2)\"\n",
    "\n",
    "doc_string2 = \"print the fibonacci sequence quickly\"\n",
    "code_string2 = \"def f(n): return ((1+sqrt(5))**n-(1-sqrt(5))**n)/(2**n*sqrt(5))\"\n",
    "\n",
    "doc_string3 = \"start a flask web server\"\n",
    "code_string3 = \"start a web server using flask\"\n",
    "\n",
    "encoders = similarity_problem.feature_encoders(hparams.data_dir)\n",
    "encoded_string = encode(query, encoders=encoders, mode=\"doc_string\")\n",
    "\n",
    "# TODO: Loop through these, performing inference for each pair and computing distances between all pairs.\n",
    "\n",
    "#with tfe.restore_variables_on_create(ckpt_path):\n",
    "#  output = model.infer(encoded)\n",
    "#  doc_string_embedding = translate_model.infer(encoded_inputs)[\"outputs\"]\n"
   ]
  },
  {
   "cell_type": "code",
   "execution_count": null,
   "metadata": {},
   "outputs": [],
   "source": []
  }
 ],
 "metadata": {
  "kernelspec": {
   "display_name": "Python 2",
   "language": "python",
   "name": "python2"
  },
  "language_info": {
   "codemirror_mode": {
    "name": "ipython",
    "version": 2
   },
   "file_extension": ".py",
   "mimetype": "text/x-python",
   "name": "python",
   "nbconvert_exporter": "python",
   "pygments_lexer": "ipython2",
   "version": "2.7.14"
  }
 },
 "nbformat": 4,
 "nbformat_minor": 2
}
