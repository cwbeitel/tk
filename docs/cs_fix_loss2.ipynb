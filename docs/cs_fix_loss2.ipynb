{
 "cells": [
  {
   "cell_type": "code",
   "execution_count": 1,
   "metadata": {},
   "outputs": [],
   "source": [
    "\n",
    "import numpy as np\n",
    "\n",
    "import pprint\n",
    "\n",
    "import tensorflow as tf\n",
    "\n",
    "from tk.data_generators import function_docstring\n",
    "\n",
    "from tensorflow.contrib.eager.python import tfe\n",
    "tfe.enable_eager_execution()\n",
    "Modes = tf.estimator.ModeKeys\n"
   ]
  },
  {
   "cell_type": "markdown",
   "metadata": {},
   "source": [
    "### Inspecting loss"
   ]
  },
  {
   "cell_type": "code",
   "execution_count": 33,
   "metadata": {},
   "outputs": [],
   "source": [
    "\n",
    "a = tf.convert_to_tensor(np.array([[1.0,1.0,2.0],[1.0,2.0,1.0],[2.0,1.0,1.0]]))\n",
    "b = tf.convert_to_tensor(np.array([[1.0,1.0,2.0],[1.0,2.0,1.0],[2.0,1.0,1.0]]))\n"
   ]
  },
  {
   "cell_type": "code",
   "execution_count": 34,
   "metadata": {},
   "outputs": [],
   "source": [
    "\n",
    "def _cosine_similarity(a, b):\n",
    "  \"\"\"Computes the cosine similarity between two tensors.\"\"\"\n",
    "\n",
    "  with tf.name_scope(\"cosine_similarity\"):\n",
    "\n",
    "    a = tf.nn.l2_normalize(a, 1)\n",
    "    b = tf.nn.l2_normalize(b, 1)\n",
    "    return tf.matmul(a, tf.transpose(b)) \n"
   ]
  },
  {
   "cell_type": "code",
   "execution_count": 35,
   "metadata": {},
   "outputs": [
    {
     "name": "stdout",
     "output_type": "stream",
     "text": [
      "tf.Tensor(\n",
      "[[1.         0.83333333 0.83333333]\n",
      " [0.83333333 1.         0.83333333]\n",
      " [0.83333333 0.83333333 1.        ]], shape=(3, 3), dtype=float64)\n"
     ]
    }
   ],
   "source": [
    "cosine_similarity = _cosine_similarity(a, b)\n",
    "print(cosine_similarity)\n",
    "cosine_similarity_flat = tf.reshape(cosine_similarity, [-1, 1])\n",
    "scale_factor=1\n",
    "cosine_similarity_flat = scale_factor * cosine_similarity_flat"
   ]
  },
  {
   "cell_type": "code",
   "execution_count": 46,
   "metadata": {},
   "outputs": [
    {
     "name": "stdout",
     "output_type": "stream",
     "text": [
      "<tf.Tensor: id=435, shape=(3, 3), dtype=float64, numpy=\n",
      "array([[1., 0., 0.],\n",
      "       [0., 1., 0.],\n",
      "       [0., 0., 1.]])>\n"
     ]
    }
   ],
   "source": [
    "\n",
    "# Positive samples on the diagonal, reshaped as row-major.\n",
    "label_matrix = tf.eye(tf.shape(cosine_similarity)[0], dtype=tf.float64)\n",
    "pprint.pprint(label_matrix)\n",
    "label_matrix_flat = tf.reshape(label_matrix, [-1, 1])\n"
   ]
  },
  {
   "cell_type": "code",
   "execution_count": 48,
   "metadata": {},
   "outputs": [
    {
     "data": {
      "text/plain": [
       "<tf.Tensor: id=461, shape=(), dtype=float64, numpy=0.9005659953510988>"
      ]
     },
     "execution_count": 48,
     "metadata": {},
     "output_type": "execute_result"
    }
   ],
   "source": [
    "\n",
    "tf.reduce_mean(\n",
    "    tf.nn.sigmoid_cross_entropy_with_logits(\n",
    "        labels=label_matrix_flat, logits=cosine_similarity_flat))\n"
   ]
  },
  {
   "cell_type": "markdown",
   "metadata": {},
   "source": [
    "### Training"
   ]
  },
  {
   "cell_type": "code",
   "execution_count": 5,
   "metadata": {},
   "outputs": [],
   "source": [
    "\n",
    "from tk.experiment import configure_experiment, T2TExperiment\n"
   ]
  },
  {
   "cell_type": "code",
   "execution_count": 53,
   "metadata": {},
   "outputs": [
    {
     "name": "stdout",
     "output_type": "stream",
     "text": [
      "train_args:\n",
      "{'data_dir': '/mnt/nfs-east1-d/data',\n",
      " 'dbgprofile': False,\n",
      " 'hparams': \"'loss_variant=kfnet'\",\n",
      " 'hparams_set': 'similarity_transformer_tiny',\n",
      " 'log_device_placement': False,\n",
      " 'model': 'similarity_transformer_dev',\n",
      " 'output_dir': 'gs://kubeflow-rl-checkpoints/comparisons/cs-lv3-kfnet/cs-lv3-kfnet-j1015-0057-2ad3/output',\n",
      " 'problem': 'github_function_docstring',\n",
      " 'profile': False,\n",
      " 'ps_gpu': 1,\n",
      " 'save_checkpoints_secs': 1800,\n",
      " 'schedule': 'train',\n",
      " 'ssd_mount_path': '/mnt/disks/ssd0',\n",
      " 't2t_usr_dir': 'gs://kubeflow-rl-checkpoints/comparisons/cs-lv3-kfnet/cs-lv3-kfnet-j1015-0057-2ad3/tk',\n",
      " 'train_steps': 4000,\n",
      " 'worker_gpu': 1,\n",
      " 'worker_gpu_memory_fraction': 0.95}\n"
     ]
    }
   ],
   "source": [
    "\n",
    "args = configure_experiment(\"cs-lv3-kfnet\",\n",
    "                             problem=\"github_function_docstring\",\n",
    "                             hparams_set=\"similarity_transformer_tiny\",\n",
    "                             model=\"similarity_transformer_dev\",\n",
    "                             extra_hparams={\n",
    "                                 \"loss_variant\": \"kfnet\"\n",
    "                             },\n",
    "                             num_gpu_per_worker=1,\n",
    "                             num_steps=4000)\n",
    "\n",
    "job = T2TExperiment(**args)\n",
    "job.run()\n"
   ]
  },
  {
   "cell_type": "code",
   "execution_count": 4,
   "metadata": {},
   "outputs": [
    {
     "name": "stdout",
     "output_type": "stream",
     "text": [
      "INFO:tensorflow:Identifying event files in experiment subdirectories...\n"
     ]
    },
    {
     "name": "stderr",
     "output_type": "stream",
     "text": [
      "[2018-10-15 01:09:17,783] Identifying event files in experiment subdirectories...\n"
     ]
    },
    {
     "name": "stdout",
     "output_type": "stream",
     "text": [
      "INFO:tensorflow:Processing experiment events (1 of 2)\n"
     ]
    },
    {
     "name": "stderr",
     "output_type": "stream",
     "text": [
      "[2018-10-15 01:09:18,822] Processing experiment events (1 of 2)\n"
     ]
    },
    {
     "name": "stdout",
     "output_type": "stream",
     "text": [
      "INFO:tensorflow:Processing experiment events (2 of 2)\n"
     ]
    },
    {
     "name": "stderr",
     "output_type": "stream",
     "text": [
      "[2018-10-15 01:09:19,441] Processing experiment events (2 of 2)\n"
     ]
    },
    {
     "name": "stdout",
     "output_type": "stream",
     "text": [
      "INFO:tensorflow:Finished loading event data for comparison.\n"
     ]
    },
    {
     "name": "stderr",
     "output_type": "stream",
     "text": [
      "[2018-10-15 01:09:20,129] Finished loading event data for comparison.\n"
     ]
    },
    {
     "data": {
      "image/png": "[encoded data removed]",
      "text/plain": [
       "<Figure size 1200x480 with 1 Axes>"
      ]
     },
     "metadata": {},
     "output_type": "display_data"
    }
   ],
   "source": [
    "\n",
    "experiment_data = event_data_for_comparison(\"gs://kubeflow-rl-checkpoints/comparisons/cs-lv3-kfnet*\")\n",
    "show_experiment_loss(experiment_data)\n",
    "\n",
    "# The latter being with a scale factor of 20,\n",
    "# the former being the original\n"
   ]
  },
  {
   "cell_type": "code",
   "execution_count": 7,
   "metadata": {},
   "outputs": [
    {
     "name": "stderr",
     "output_type": "stream",
     "text": [
      "[2018-10-15 01:10:48,757] /mnt/nfs-east1-d/work/tk\n",
      "[2018-10-15 01:10:48,764] /mnt/nfs-east1-d/work/tk\n"
     ]
    },
    {
     "name": "stdout",
     "output_type": "stream",
     "text": [
      "train_args:\n",
      "{'data_dir': '/mnt/nfs-east1-d/data',\n",
      " 'dbgprofile': False,\n",
      " 'hparams': \"'loss_variant=kfnet'\",\n",
      " 'hparams_set': 'similarity_transformer_tiny',\n",
      " 'log_device_placement': False,\n",
      " 'model': 'similarity_transformer_dev',\n",
      " 'output_dir': 'gs://kubeflow-rl-checkpoints/comparisons/cs-lv3-kfnet-sf5/cs-lv3-kfnet-sf5-j1015-0110-f169/output',\n",
      " 'problem': 'github_function_docstring',\n",
      " 'profile': False,\n",
      " 'ps_gpu': 1,\n",
      " 'save_checkpoints_secs': 1800,\n",
      " 'schedule': 'train',\n",
      " 'ssd_mount_path': '/mnt/disks/ssd0',\n",
      " 't2t_usr_dir': 'gs://kubeflow-rl-checkpoints/comparisons/cs-lv3-kfnet-sf5/cs-lv3-kfnet-sf5-j1015-0110-f169/tk',\n",
      " 'train_steps': 4000,\n",
      " 'worker_gpu': 1,\n",
      " 'worker_gpu_memory_fraction': 0.95}\n"
     ]
    },
    {
     "name": "stderr",
     "output_type": "stream",
     "text": [
      "[2018-10-15 01:10:56,622] smoke: True\n"
     ]
    }
   ],
   "source": [
    "\n",
    "args = configure_experiment(\"cs-lv3-kfnet-sf5\",\n",
    "                             problem=\"github_function_docstring\",\n",
    "                             hparams_set=\"similarity_transformer_tiny\",\n",
    "                             model=\"similarity_transformer_dev\",\n",
    "                             extra_hparams={\n",
    "                                 \"loss_variant\": \"kfnet\"\n",
    "                             },\n",
    "                             num_gpu_per_worker=1,\n",
    "                             num_steps=4000)\n",
    "\n",
    "job = T2TExperiment(**args)\n",
    "job.run()\n"
   ]
  },
  {
   "cell_type": "code",
   "execution_count": 54,
   "metadata": {},
   "outputs": [
    {
     "name": "stdout",
     "output_type": "stream",
     "text": [
      "train_args:\n",
      "{'data_dir': '/mnt/nfs-east1-d/data',\n",
      " 'dbgprofile': False,\n",
      " 'hparams': \"'loss_variant=simple_cd'\",\n",
      " 'hparams_set': 'similarity_transformer_tiny',\n",
      " 'log_device_placement': False,\n",
      " 'model': 'similarity_transformer_dev',\n",
      " 'output_dir': 'gs://kubeflow-rl-checkpoints/comparisons/cs-lv3-simplecd-k1k/cs-lv3-simplecd-k1k-j1015-0059-d1b7/output',\n",
      " 'problem': 'github_function_docstring',\n",
      " 'profile': False,\n",
      " 'ps_gpu': 1,\n",
      " 'save_checkpoints_secs': 1800,\n",
      " 'schedule': 'train',\n",
      " 'ssd_mount_path': '/mnt/disks/ssd0',\n",
      " 't2t_usr_dir': 'gs://kubeflow-rl-checkpoints/comparisons/cs-lv3-simplecd-k1k/cs-lv3-simplecd-k1k-j1015-0059-d1b7/tk',\n",
      " 'train_steps': 4000,\n",
      " 'worker_gpu': 1,\n",
      " 'worker_gpu_memory_fraction': 0.95}\n"
     ]
    }
   ],
   "source": [
    "\n",
    "args = configure_experiment(\"cs-lv3-simplecd-k1k\",\n",
    "                             problem=\"github_function_docstring\",\n",
    "                             hparams_set=\"similarity_transformer_tiny\",\n",
    "                             model=\"similarity_transformer_dev\",\n",
    "                             extra_hparams={\n",
    "                                 \"loss_variant\": \"simple_cd\"\n",
    "                             },\n",
    "                             num_gpu_per_worker=1,\n",
    "                             num_steps=4000)\n",
    "\n",
    "job = T2TExperiment(**args)\n",
    "job.run()\n"
   ]
  },
  {
   "cell_type": "code",
   "execution_count": 55,
   "metadata": {},
   "outputs": [
    {
     "name": "stdout",
     "output_type": "stream",
     "text": [
      "train_args:\n",
      "{'data_dir': '/mnt/nfs-east1-d/data',\n",
      " 'dbgprofile': False,\n",
      " 'hparams': \"'loss_variant=simple_cd'\",\n",
      " 'hparams_set': 'similarity_transformer_tiny',\n",
      " 'log_device_placement': False,\n",
      " 'model': 'similarity_transformer_dev',\n",
      " 'output_dir': 'gs://kubeflow-rl-checkpoints/comparisons/cs-lv3-simplecd-k2k/cs-lv3-simplecd-k2k-j1015-0103-8038/output',\n",
      " 'problem': 'github_function_docstring',\n",
      " 'profile': False,\n",
      " 'ps_gpu': 1,\n",
      " 'save_checkpoints_secs': 1800,\n",
      " 'schedule': 'train',\n",
      " 'ssd_mount_path': '/mnt/disks/ssd0',\n",
      " 't2t_usr_dir': 'gs://kubeflow-rl-checkpoints/comparisons/cs-lv3-simplecd-k2k/cs-lv3-simplecd-k2k-j1015-0103-8038/tk',\n",
      " 'train_steps': 4000,\n",
      " 'worker_gpu': 1,\n",
      " 'worker_gpu_memory_fraction': 0.95}\n"
     ]
    }
   ],
   "source": [
    "\n",
    "\n",
    "args = configure_experiment(\"cs-lv3-simplecd-k2k\",\n",
    "                             problem=\"github_function_docstring\",\n",
    "                             hparams_set=\"similarity_transformer_tiny\",\n",
    "                             model=\"similarity_transformer_dev\",\n",
    "                             extra_hparams={\n",
    "                                 \"loss_variant\": \"simple_cd\"\n",
    "                             },\n",
    "                             num_gpu_per_worker=1,\n",
    "                             num_steps=4000)\n",
    "\n",
    "job = T2TExperiment(**args)\n",
    "job.run()\n"
   ]
  },
  {
   "cell_type": "code",
   "execution_count": 5,
   "metadata": {},
   "outputs": [
    {
     "name": "stderr",
     "output_type": "stream",
     "text": [
      "[2018-10-15 01:07:30,567] /mnt/nfs-east1-d/work/tk\n",
      "[2018-10-15 01:07:30,573] /mnt/nfs-east1-d/work/tk\n"
     ]
    },
    {
     "name": "stdout",
     "output_type": "stream",
     "text": [
      "train_args:\n",
      "{'data_dir': '/mnt/nfs-east1-d/data',\n",
      " 'dbgprofile': False,\n",
      " 'hparams': \"'loss_variant=simple_cd'\",\n",
      " 'hparams_set': 'similarity_transformer_tiny',\n",
      " 'log_device_placement': False,\n",
      " 'model': 'similarity_transformer_dev',\n",
      " 'output_dir': 'gs://kubeflow-rl-checkpoints/comparisons/cs-lv3-simplecd-k250/cs-lv3-simplecd-k250-j1015-0107-0353/output',\n",
      " 'problem': 'github_function_docstring',\n",
      " 'profile': False,\n",
      " 'ps_gpu': 1,\n",
      " 'save_checkpoints_secs': 1800,\n",
      " 'schedule': 'train',\n",
      " 'ssd_mount_path': '/mnt/disks/ssd0',\n",
      " 't2t_usr_dir': 'gs://kubeflow-rl-checkpoints/comparisons/cs-lv3-simplecd-k250/cs-lv3-simplecd-k250-j1015-0107-0353/tk',\n",
      " 'train_steps': 4000,\n",
      " 'worker_gpu': 1,\n",
      " 'worker_gpu_memory_fraction': 0.95}\n"
     ]
    },
    {
     "name": "stderr",
     "output_type": "stream",
     "text": [
      "[2018-10-15 01:07:38,493] smoke: True\n"
     ]
    }
   ],
   "source": [
    "\n",
    "args = configure_experiment(\"cs-lv3-simplecd-k250\",\n",
    "                             problem=\"github_function_docstring\",\n",
    "                             hparams_set=\"similarity_transformer_tiny\",\n",
    "                             model=\"similarity_transformer_dev\",\n",
    "                             extra_hparams={\n",
    "                                 \"loss_variant\": \"simple_cd\"\n",
    "                             },\n",
    "                             num_gpu_per_worker=1,\n",
    "                             num_steps=4000)\n",
    "\n",
    "job = T2TExperiment(**args)\n",
    "job.run()\n"
   ]
  },
  {
   "cell_type": "code",
   "execution_count": 1,
   "metadata": {},
   "outputs": [],
   "source": [
    "\n",
    "from tk.allen_demo import event_data_for_comparison, show_experiment_loss\n",
    "%matplotlib inline\n"
   ]
  },
  {
   "cell_type": "code",
   "execution_count": 2,
   "metadata": {},
   "outputs": [
    {
     "name": "stdout",
     "output_type": "stream",
     "text": [
      "INFO:tensorflow:Identifying event files in experiment subdirectories...\n"
     ]
    },
    {
     "name": "stderr",
     "output_type": "stream",
     "text": [
      "[2018-10-15 01:08:22,050] Identifying event files in experiment subdirectories...\n"
     ]
    },
    {
     "name": "stdout",
     "output_type": "stream",
     "text": [
      "INFO:tensorflow:Processing experiment events (1 of 1)\n"
     ]
    },
    {
     "name": "stderr",
     "output_type": "stream",
     "text": [
      "[2018-10-15 01:08:23,136] Processing experiment events (1 of 1)\n"
     ]
    },
    {
     "name": "stdout",
     "output_type": "stream",
     "text": [
      "INFO:tensorflow:Finished loading event data for comparison.\n"
     ]
    },
    {
     "name": "stderr",
     "output_type": "stream",
     "text": [
      "[2018-10-15 01:08:23,469] Finished loading event data for comparison.\n"
     ]
    },
    {
     "data": {
      "image/png": "[encoded data removed]",
      "text/plain": [
       "<Figure size 1200x480 with 1 Axes>"
      ]
     },
     "metadata": {},
     "output_type": "display_data"
    }
   ],
   "source": [
    "\n",
    "experiment_data = event_data_for_comparison(\"gs://kubeflow-rl-checkpoints/comparisons/cs-lv3-simplecd-k1k*\")\n",
    "show_experiment_loss(experiment_data)\n"
   ]
  },
  {
   "cell_type": "code",
   "execution_count": 12,
   "metadata": {},
   "outputs": [
    {
     "name": "stdout",
     "output_type": "stream",
     "text": [
      "INFO:tensorflow:Identifying event files in experiment subdirectories...\n"
     ]
    },
    {
     "name": "stderr",
     "output_type": "stream",
     "text": [
      "[2018-10-15 01:17:03,979] Identifying event files in experiment subdirectories...\n"
     ]
    },
    {
     "name": "stdout",
     "output_type": "stream",
     "text": [
      "INFO:tensorflow:Processing experiment events (1 of 1)\n"
     ]
    },
    {
     "name": "stderr",
     "output_type": "stream",
     "text": [
      "[2018-10-15 01:17:05,046] Processing experiment events (1 of 1)\n"
     ]
    },
    {
     "name": "stdout",
     "output_type": "stream",
     "text": [
      "INFO:tensorflow:Finished loading event data for comparison.\n"
     ]
    },
    {
     "name": "stderr",
     "output_type": "stream",
     "text": [
      "[2018-10-15 01:17:05,377] Finished loading event data for comparison.\n"
     ]
    },
    {
     "data": {
      "image/png": "[encoded data removed]",
      "text/plain": [
       "<Figure size 1200x480 with 1 Axes>"
      ]
     },
     "metadata": {},
     "output_type": "display_data"
    }
   ],
   "source": [
    "experiment_data = event_data_for_comparison(\"gs://kubeflow-rl-checkpoints/comparisons/cs-lv3-simplecd-k250*\")\n",
    "show_experiment_loss(experiment_data)"
   ]
  },
  {
   "cell_type": "code",
   "execution_count": 17,
   "metadata": {},
   "outputs": [
    {
     "name": "stdout",
     "output_type": "stream",
     "text": [
      "tf.Tensor(\n",
      "[[1. 1. 2.]\n",
      " [1. 2. 1.]\n",
      " [2. 1. 1.]], shape=(3, 3), dtype=float64)\n",
      "tf.Tensor([1. 2. 1.], shape=(3,), dtype=float64)\n",
      "tf.Tensor(\n",
      "[[ 0. -1.  1.]\n",
      " [ 0.  0.  0.]\n",
      " [ 1. -1.  0.]], shape=(3, 3), dtype=float64)\n"
     ]
    }
   ],
   "source": [
    "import tensorflow as tf\n",
    "import numpy as np\n",
    "\n",
    "a = tf.convert_to_tensor(np.array([[1.0,1.0,2.0],[1.0,2.0,1.0],[2.0,1.0,1.0]]))\n",
    "\n",
    "print(a)\n",
    "print(tf.diag_part(a))\n",
    "print(a-tf.diag_part(a))"
   ]
  },
  {
   "cell_type": "code",
   "execution_count": null,
   "metadata": {},
   "outputs": [],
   "source": [
    "# In simplecd loss separating out self from non-self sums, i.e.\n",
    "\n",
    "def simple_similarity_cost(a, b, k=2):\n",
    "  \"\"\"Experimental simplified cosine distance loss.\n",
    "  \n",
    "  TODO: Consider making k a function of batch size to control weighting of\n",
    "  importance of self- vs non-self distances.\n",
    "  \n",
    "  \"\"\"\n",
    "\n",
    "  with tf.name_scope(\"simple_cd_loss\"):\n",
    "\n",
    "    cosine_similarity = _cosine_similarity(a, b)\n",
    "\n",
    "    # get scores that refer to two embeddings that should correspond\n",
    "    self_cosine_similarity = tf.diag_part(cosine_similarity)\n",
    "\n",
    "    # Sum the values off the diagonal with 1 - values on diagonal, k >=0, maybe 2\n",
    "    # Will have values on range [-B^2, B^2] for batch size B.\n",
    "    return tf.reduce_mean(cosine_similarity) - k*tf.reduce_mean(self_cosine_similarity)\n",
    "\n",
    "# Instead of \n",
    "\n",
    "return tf.reduce_mean(cosine_similarity - k*self_cosine_similarity)\n",
    "\n",
    "# Thereby making the relative contribution of self and non-self distances invariant to\n",
    "# the batch size (as it wasn't before)."
   ]
  },
  {
   "cell_type": "code",
   "execution_count": 19,
   "metadata": {},
   "outputs": [
    {
     "name": "stderr",
     "output_type": "stream",
     "text": [
      "[2018-10-15 01:26:08,366] /mnt/nfs-east1-d/work/tk\n",
      "[2018-10-15 01:26:08,372] /mnt/nfs-east1-d/work/tk\n"
     ]
    },
    {
     "name": "stdout",
     "output_type": "stream",
     "text": [
      "train_args:\n",
      "{'data_dir': '/mnt/nfs-east1-d/data',\n",
      " 'dbgprofile': False,\n",
      " 'hparams': \"'loss_variant=simple_cd'\",\n",
      " 'hparams_set': 'similarity_transformer_tiny',\n",
      " 'log_device_placement': False,\n",
      " 'model': 'similarity_transformer_dev',\n",
      " 'output_dir': 'gs://kubeflow-rl-checkpoints/comparisons/cs-lv3-simplecd-sepsum/cs-lv3-simplecd-sepsum-j1015-0126-dde3/output',\n",
      " 'problem': 'github_function_docstring',\n",
      " 'profile': False,\n",
      " 'ps_gpu': 1,\n",
      " 'save_checkpoints_secs': 1800,\n",
      " 'schedule': 'train',\n",
      " 'ssd_mount_path': '/mnt/disks/ssd0',\n",
      " 't2t_usr_dir': 'gs://kubeflow-rl-checkpoints/comparisons/cs-lv3-simplecd-sepsum/cs-lv3-simplecd-sepsum-j1015-0126-dde3/tk',\n",
      " 'train_steps': 4000,\n",
      " 'worker_gpu': 1,\n",
      " 'worker_gpu_memory_fraction': 0.95}\n"
     ]
    },
    {
     "name": "stderr",
     "output_type": "stream",
     "text": [
      "[2018-10-15 01:26:15,795] smoke: True\n"
     ]
    }
   ],
   "source": [
    "\n",
    "args = configure_experiment(\"cs-lv3-simplecd-sepsum\",\n",
    "                             problem=\"github_function_docstring\",\n",
    "                             hparams_set=\"similarity_transformer_tiny\",\n",
    "                             model=\"similarity_transformer_dev\",\n",
    "                             extra_hparams={\n",
    "                                 \"loss_variant\": \"simple_cd\"\n",
    "                             },\n",
    "                             num_gpu_per_worker=1,\n",
    "                             num_steps=4000)\n",
    "\n",
    "job = T2TExperiment(**args)\n",
    "job.run()\n"
   ]
  },
  {
   "cell_type": "code",
   "execution_count": 3,
   "metadata": {},
   "outputs": [
    {
     "name": "stdout",
     "output_type": "stream",
     "text": [
      "INFO:tensorflow:Identifying event files in experiment subdirectories...\n"
     ]
    },
    {
     "name": "stderr",
     "output_type": "stream",
     "text": [
      "[2018-10-15 01:38:36,021] Identifying event files in experiment subdirectories...\n"
     ]
    },
    {
     "name": "stdout",
     "output_type": "stream",
     "text": [
      "INFO:tensorflow:Processing experiment events (1 of 1)\n"
     ]
    },
    {
     "name": "stderr",
     "output_type": "stream",
     "text": [
      "[2018-10-15 01:38:37,125] Processing experiment events (1 of 1)\n"
     ]
    },
    {
     "name": "stdout",
     "output_type": "stream",
     "text": [
      "INFO:tensorflow:Finished loading event data for comparison.\n"
     ]
    },
    {
     "name": "stderr",
     "output_type": "stream",
     "text": [
      "[2018-10-15 01:38:37,773] Finished loading event data for comparison.\n"
     ]
    },
    {
     "data": {
      "image/png": "[encoded data removed]",
      "text/plain": [
       "<Figure size 1200x480 with 1 Axes>"
      ]
     },
     "metadata": {},
     "output_type": "display_data"
    }
   ],
   "source": [
    "\n",
    "experiment_data = event_data_for_comparison(\"gs://kubeflow-rl-checkpoints/comparisons/cs-lv3-simplecd-sepsum*\")\n",
    "show_experiment_loss(experiment_data)\n"
   ]
  },
  {
   "cell_type": "code",
   "execution_count": null,
   "metadata": {},
   "outputs": [],
   "source": [
    "\n",
    "# cosine_similarity in the following should probably have the diagonal blacked out and\n",
    "# explore different relative contributions via k.\n",
    "\n",
    "tf.reduce_mean(cosine_similarity) - k*tf.reduce_mean(self_cosine_similarity)"
   ]
  },
  {
   "cell_type": "code",
   "execution_count": 6,
   "metadata": {},
   "outputs": [
    {
     "name": "stderr",
     "output_type": "stream",
     "text": [
      "[2018-10-15 01:49:50,356] /mnt/nfs-east1-d/work/tk\n",
      "[2018-10-15 01:49:50,398] /mnt/nfs-east1-d/work/tk\n"
     ]
    },
    {
     "name": "stdout",
     "output_type": "stream",
     "text": [
      "train_args:\n",
      "{'data_dir': '/mnt/nfs-east1-d/data',\n",
      " 'dbgprofile': False,\n",
      " 'hparams': \"'loss_variant=kfnet'\",\n",
      " 'hparams_set': 'similarity_transformer_tiny',\n",
      " 'log_device_placement': False,\n",
      " 'model': 'similarity_transformer_dev',\n",
      " 'output_dir': 'gs://kubeflow-rl-checkpoints/comparisons/cs-lv3-kf-20-shift02/cs-lv3-kf-20-shift02-j1015-0149-7ecf/output',\n",
      " 'problem': 'github_function_docstring',\n",
      " 'profile': False,\n",
      " 'ps_gpu': 1,\n",
      " 'save_checkpoints_secs': 1800,\n",
      " 'schedule': 'train',\n",
      " 'ssd_mount_path': '/mnt/disks/ssd0',\n",
      " 't2t_usr_dir': 'gs://kubeflow-rl-checkpoints/comparisons/cs-lv3-kf-20-shift02/cs-lv3-kf-20-shift02-j1015-0149-7ecf/tk',\n",
      " 'train_steps': 4000,\n",
      " 'worker_gpu': 1,\n",
      " 'worker_gpu_memory_fraction': 0.95}\n"
     ]
    },
    {
     "name": "stderr",
     "output_type": "stream",
     "text": [
      "[2018-10-15 01:49:57,216] smoke: True\n"
     ]
    }
   ],
   "source": [
    "\n",
    "args = configure_experiment(\"cs-lv3-kf-20-shift02\",\n",
    "                             problem=\"github_function_docstring\",\n",
    "                             hparams_set=\"similarity_transformer_tiny\",\n",
    "                             model=\"similarity_transformer_dev\",\n",
    "                             extra_hparams={\n",
    "                                 \"loss_variant\": \"kfnet\"\n",
    "                             },\n",
    "                             num_gpu_per_worker=1,\n",
    "                             num_steps=4000)\n",
    "\n",
    "job = T2TExperiment(**args)\n",
    "job.run()\n"
   ]
  },
  {
   "cell_type": "code",
   "execution_count": 9,
   "metadata": {},
   "outputs": [
    {
     "name": "stdout",
     "output_type": "stream",
     "text": [
      "INFO:tensorflow:Identifying event files in experiment subdirectories...\n"
     ]
    },
    {
     "name": "stderr",
     "output_type": "stream",
     "text": [
      "[2018-10-15 02:03:04,050] Identifying event files in experiment subdirectories...\n"
     ]
    },
    {
     "name": "stdout",
     "output_type": "stream",
     "text": [
      "INFO:tensorflow:Processing experiment events (1 of 1)\n"
     ]
    },
    {
     "name": "stderr",
     "output_type": "stream",
     "text": [
      "[2018-10-15 02:03:05,192] Processing experiment events (1 of 1)\n"
     ]
    },
    {
     "name": "stdout",
     "output_type": "stream",
     "text": [
      "INFO:tensorflow:Finished loading event data for comparison.\n"
     ]
    },
    {
     "name": "stderr",
     "output_type": "stream",
     "text": [
      "[2018-10-15 02:03:05,514] Finished loading event data for comparison.\n"
     ]
    },
    {
     "data": {
      "image/png": "[encoded data removed]",
      "text/plain": [
       "<Figure size 1200x480 with 1 Axes>"
      ]
     },
     "metadata": {},
     "output_type": "display_data"
    }
   ],
   "source": [
    "\n",
    "experiment_data = event_data_for_comparison(\"gs://kubeflow-rl-checkpoints/comparisons/cs-lv3-kf-*\")\n",
    "show_experiment_loss(experiment_data)\n",
    "\n",
    "# kfnet, k=20, target=0.2 (i.e. shift is -20*(1-0.2))"
   ]
  },
  {
   "cell_type": "code",
   "execution_count": null,
   "metadata": {},
   "outputs": [],
   "source": [
    "# It looks like in all of the above the x axis is off by a factor of 20."
   ]
  }
 ],
 "metadata": {
  "kernelspec": {
   "display_name": "Python 2",
   "language": "python",
   "name": "python2"
  },
  "language_info": {
   "codemirror_mode": {
    "name": "ipython",
    "version": 2
   },
   "file_extension": ".py",
   "mimetype": "text/x-python",
   "name": "python",
   "nbconvert_exporter": "python",
   "pygments_lexer": "ipython2",
   "version": "2.7.14"
  }
 },
 "nbformat": 4,
 "nbformat_minor": 2
}
