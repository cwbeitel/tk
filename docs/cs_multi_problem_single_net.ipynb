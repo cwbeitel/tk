{
 "cells": [
  {
   "cell_type": "code",
   "execution_count": 1,
   "metadata": {},
   "outputs": [],
   "source": [
    "\n",
    "import csv\n",
    "from six import StringIO\n",
    "import tempfile\n",
    "import numpy as np\n",
    "\n",
    "from tensor2tensor.data_generators import problem\n",
    "from tensor2tensor.layers import common_layers\n",
    "from tensor2tensor.models import transformer\n",
    "from tensor2tensor.utils import registry\n",
    "from tensor2tensor.utils import t2t_model\n",
    "\n",
    "from tensor2tensor.data_generators import generator_utils\n",
    "from tensor2tensor.data_generators import text_problems\n",
    "from tensor2tensor.utils import metrics\n",
    "\n",
    "import tensorflow as tf\n",
    "\n",
    "import tk\n",
    "\n",
    "from tk.models import similarity_transformer\n",
    "from tk.data_generators import function_docstring\n",
    "\n",
    "from tensorflow.contrib.eager.python import tfe\n",
    "tfe.enable_eager_execution()\n",
    "Modes = tf.estimator.ModeKeys\n"
   ]
  },
  {
   "cell_type": "markdown",
   "metadata": {},
   "source": [
    "# Multi-problem, single network experiment\n",
    "\n",
    "Here we'll experiment with a problem that mixes the two in-painting example types, using the same network to solve both problems. This is towards training a single encoder that can later be used for both doc strings and code, circumventing the need to specifically train code and doc strings to be embedded into the same space.\n"
   ]
  },
  {
   "cell_type": "markdown",
   "metadata": {},
   "source": [
    "## Problem definition"
   ]
  },
  {
   "cell_type": "code",
   "execution_count": 2,
   "metadata": {},
   "outputs": [],
   "source": [
    "\n",
    "def _random_mask_sequence(sequence):\n",
    "  \"\"\"'quick brown fox' -> 'quick ##### fox'\"\"\"\n",
    "  arr = sequence.split()\n",
    "  ind = np.random.randint(len(arr))\n",
    "  arr[ind] = ''.join([\"#\" for _ in range(0, len(arr[ind]))])\n",
    "  return ' '.join(arr)\n"
   ]
  },
  {
   "cell_type": "code",
   "execution_count": 3,
   "metadata": {},
   "outputs": [],
   "source": [
    "\n",
    "# TODO: Could yield with certain probabilities to control abundance\n",
    "# TODO: In-paintable region could be of variable size and distribution\n",
    "# TODO: Do this using preprocess step instead of generating completely new set of examples?\n",
    "\n",
    "@registry.register_problem\n",
    "class GithubMultiProblemBase(function_docstring.GithubFunctionDocstring):\n",
    "  \"\"\"Code in-painting given randomly ablated regions.\"\"\"\n",
    "\n",
    "  def generate_samples(self, data_dir, tmp_dir, dataset_split):\n",
    "    csv_files = self.get_csv_files(data_dir, tmp_dir, dataset_split)\n",
    "\n",
    "    for pairs_file in csv_files:\n",
    "      tf.logging.debug(\"Reading {}\".format(pairs_file))\n",
    "      with tf.gfile.Open(pairs_file) as csv_file:\n",
    "        for line in csv_file:\n",
    "          reader = csv.reader(StringIO(line))\n",
    "          for docstring_tokens, function_tokens in reader:\n",
    "\n",
    "            yield {\n",
    "                \"inputs\": _random_mask_sequence(function_tokens),\n",
    "                \"targets\": function_tokens,\n",
    "                \"embed_code\": [0]\n",
    "            }\n",
    "\n",
    "            yield {\n",
    "                \"inputs\": _random_mask_sequence(docstring_tokens),\n",
    "                \"targets\": docstring_tokens,\n",
    "                \"embed_code\": [0]\n",
    "            }\n"
   ]
  },
  {
   "cell_type": "code",
   "execution_count": null,
   "metadata": {},
   "outputs": [],
   "source": [
    "\n",
    "tmp_dir = \"/mnt/nfs-east1-d/tmp\"\n",
    "data_dir = \"/mnt/nfs-east1-d/data\"\n",
    "multi_problem = GithubMultiProblemBase()\n",
    "multi_problem.generate_data(data_dir, tmp_dir)\n"
   ]
  },
  {
   "cell_type": "markdown",
   "metadata": {},
   "source": [
    "## Training"
   ]
  },
  {
   "cell_type": "code",
   "execution_count": 9,
   "metadata": {},
   "outputs": [
    {
     "name": "stdout",
     "output_type": "stream",
     "text": [
      "train_args:\n",
      "{'data_dir': '/mnt/nfs-east1-d/data',\n",
      " 'dbgprofile': False,\n",
      " 'hparams': \"''\",\n",
      " 'hparams_set': 'transformer_tiny',\n",
      " 'log_device_placement': False,\n",
      " 'model': 'transformer',\n",
      " 'output_dir': 'gs://kubeflow-rl-checkpoints/comparisons/cs-multi1/cs-multi1-j1014-1845-b89f/output',\n",
      " 'problem': 'github_multi_problem_base',\n",
      " 'profile': False,\n",
      " 'ps_gpu': 1,\n",
      " 'save_checkpoints_secs': 1800,\n",
      " 'schedule': 'train',\n",
      " 'ssd_mount_path': '/mnt/disks/ssd0',\n",
      " 't2t_usr_dir': 'gs://kubeflow-rl-checkpoints/comparisons/cs-multi1/cs-multi1-j1014-1845-b89f/tk',\n",
      " 'train_steps': 10000,\n",
      " 'worker_gpu': 1,\n",
      " 'worker_gpu_memory_fraction': 0.95}\n"
     ]
    }
   ],
   "source": [
    "\n",
    "from tk.experiment import configure_experiment, T2TExperiment\n",
    "\n",
    "args = configure_experiment(\"cs-multi1\",\n",
    "                             problem=\"github_multi_problem_base\",\n",
    "                             hparams_set=\"transformer_tiny\",\n",
    "                             model=\"transformer\",\n",
    "                             extra_hparams={\n",
    "                             },\n",
    "                             num_gpu_per_worker=1,\n",
    "                             num_steps=10000)\n",
    "\n",
    "job = T2TExperiment(**args)\n",
    "job.run()\n"
   ]
  },
  {
   "cell_type": "code",
   "execution_count": 2,
   "metadata": {},
   "outputs": [
    {
     "name": "stdout",
     "output_type": "stream",
     "text": [
      "INFO:tensorflow:Identifying event files in experiment subdirectories...\n"
     ]
    },
    {
     "name": "stderr",
     "output_type": "stream",
     "text": [
      "[2018-10-14 19:08:24,352] Identifying event files in experiment subdirectories...\n"
     ]
    },
    {
     "name": "stdout",
     "output_type": "stream",
     "text": [
      "INFO:tensorflow:Processing experiment events (1 of 1)\n"
     ]
    },
    {
     "name": "stderr",
     "output_type": "stream",
     "text": [
      "[2018-10-14 19:08:25,466] Processing experiment events (1 of 1)\n"
     ]
    },
    {
     "name": "stdout",
     "output_type": "stream",
     "text": [
      "INFO:tensorflow:Finished loading event data for comparison.\n"
     ]
    },
    {
     "name": "stderr",
     "output_type": "stream",
     "text": [
      "[2018-10-14 19:08:25,891] Finished loading event data for comparison.\n"
     ]
    },
    {
     "data": {
      "image/png": "[encoded data removed]",
      "text/plain": [
       "<Figure size 1200x480 with 1 Axes>"
      ]
     },
     "metadata": {},
     "output_type": "display_data"
    }
   ],
   "source": [
    "\n",
    "#from tk.allen_demo import event_data_for_comparison, show_experiment_loss\n",
    "#%matplotlib inline\n",
    "\n",
    "experiment_data = event_data_for_comparison(\"gs://kubeflow-rl-checkpoints/comparisons/cs-multi1*\")\n",
    "show_experiment_loss(experiment_data)\n"
   ]
  },
  {
   "cell_type": "markdown",
   "metadata": {},
   "source": [
    "## Alternative problem\n",
    "\n",
    "Hmmm so there's no guarantee pairs will be embedded in a similar way here. But it might just happen. But if not, can train at the same time to produce corresponding embeddings...\n",
    "\n",
    "This supposes our examples are of the form: \n",
    "\n",
    "```python\n",
    "{\n",
    "    \"inputs\": \"some input, e.g. masked code\",\n",
    "    \"targets\": \"some corresponding target, e.g. unmasked code\",\n",
    "    \"docstring\": \"a docstring to embed\",\n",
    "    \"code\": \"code to embed\"\n",
    "}\n",
    "```\n",
    "\n",
    "where the inputs/targets pair is only masked docstring/docstring or masked code/code for the sake of simplicity of implementation. if we only do one at a time instead of both then we can just return the tensor produced by super(Transformer, self).body() instead of having to manually call self.loss.\n"
   ]
  },
  {
   "cell_type": "code",
   "execution_count": 3,
   "metadata": {},
   "outputs": [],
   "source": [
    "\n",
    "from tensor2tensor.layers import common_layers\n",
    "\n",
    "def random_mask(tensor):\n",
    "  mask = tf.random_uniform(common_layers.shape_list(tensor),\n",
    "                           0, 10, dtype=tf.float32)\n",
    "  mask = tf.cast(tf.greater(mask, 1), tf.int64)\n",
    "  return tf.multiply(tensor, mask)\n",
    "\n",
    "@registry.register_problem\n",
    "class GithubConstrainedEmbedding(function_docstring.GithubFunctionDocstring):\n",
    "\n",
    "  def dataset_filename(self):\n",
    "    return \"github_function_docstring\"  # Reuse base problem data\n",
    "\n",
    "  def preprocess_example(self, example, mode, hparams):\n",
    "\n",
    "    example[\"docstring\"] = example[\"inputs\"]\n",
    "    example[\"code\"] = example[\"targets\"]\n",
    "    if np.random.randint(2) == 0:\n",
    "      # docstring un-masking\n",
    "      example[\"targets\"] = example[\"inputs\"]\n",
    "      example[\"inputs\"] = random_mask(example[\"inputs\"])\n",
    "    else:\n",
    "      # code un-masking\n",
    "      example[\"inputs\"] = random_mask(example[\"targets\"])\n",
    "\n",
    "    return example\n"
   ]
  },
  {
   "cell_type": "markdown",
   "metadata": {},
   "source": [
    "It would be a lot cleaner to just have a variety of example types (non-overlapping) and have body be conditional on the example type code."
   ]
  },
  {
   "cell_type": "code",
   "execution_count": 4,
   "metadata": {},
   "outputs": [
    {
     "name": "stdout",
     "output_type": "stream",
     "text": [
      "INFO:tensorflow:Found vocab file: /mnt/nfs-east1-d/data/vocab.github_function_docstring.8192.subwords\n"
     ]
    },
    {
     "name": "stderr",
     "output_type": "stream",
     "text": [
      "[2018-10-16 20:31:19,770] Found vocab file: /mnt/nfs-east1-d/data/vocab.github_function_docstring.8192.subwords\n"
     ]
    },
    {
     "name": "stdout",
     "output_type": "stream",
     "text": [
      "INFO:tensorflow:Skipping generator because outputs files exist\n"
     ]
    },
    {
     "name": "stderr",
     "output_type": "stream",
     "text": [
      "[2018-10-16 20:31:19,842] Skipping generator because outputs files exist\n"
     ]
    },
    {
     "name": "stdout",
     "output_type": "stream",
     "text": [
      "INFO:tensorflow:Skipping shuffle because output files exist\n"
     ]
    },
    {
     "name": "stderr",
     "output_type": "stream",
     "text": [
      "[2018-10-16 20:31:19,850] Skipping shuffle because output files exist\n"
     ]
    }
   ],
   "source": [
    "\n",
    "tmp_dir = \"/mnt/nfs-east1-d/tmp\"\n",
    "data_dir = \"/mnt/nfs-east1-d/data\"\n",
    "mp_constrained_embedding = GithubConstrainedEmbedding()\n",
    "mp_constrained_embedding.generate_data(data_dir, tmp_dir)\n"
   ]
  },
  {
   "cell_type": "code",
   "execution_count": 5,
   "metadata": {},
   "outputs": [
    {
     "name": "stdout",
     "output_type": "stream",
     "text": [
      "INFO:tensorflow:Reading data files from /mnt/nfs-east1-d/data/github_function_docstring-train*\n"
     ]
    },
    {
     "name": "stderr",
     "output_type": "stream",
     "text": [
      "[2018-10-16 20:31:19,933] Reading data files from /mnt/nfs-east1-d/data/github_function_docstring-train*\n"
     ]
    },
    {
     "name": "stdout",
     "output_type": "stream",
     "text": [
      "INFO:tensorflow:partition: 0 num_data_files: 100\n"
     ]
    },
    {
     "name": "stderr",
     "output_type": "stream",
     "text": [
      "[2018-10-16 20:31:19,951] partition: 0 num_data_files: 100\n"
     ]
    },
    {
     "name": "stdout",
     "output_type": "stream",
     "text": [
      "{'code': <tf.Tensor: id=70, shape=(445,), dtype=int64, numpy=\n",
      "array([   7,  802,    2,  205,    3,   23,   21, 4128,   70,  258,  187,\n",
      "       4226,  187, 4226, 4578, 4016,   58, 1049, 5044,    4,   67, 1742,\n",
      "       1049, 2311, 4128,   70, 4128,   70, 5044,    4,   10,  444, 4128,\n",
      "         70,    3,  205,    2,  146,   10,    3,  205,    2,  146,   12,\n",
      "        653, 4226, 5399,  582, 7013, 3401,    4, 3901, 1124,   28, 6551,\n",
      "       5044,    4, 2644,   10,   12,  727,   10,  444,  446,   10,   12,\n",
      "        432,   10,  444, 3536, 4334,   10, 3860, 4187, 4334,   10,  424,\n",
      "          2, 5779,    5,   12, 5044,    4,  273,    2, 5779,    5,   12,\n",
      "         10, 2572, 3197,  318, 4226, 2019,  782, 3197,   53,    2, 1535,\n",
      "        605,  743, 2464, 1017,  407,   12,   10,   13,  346,   11,  147,\n",
      "         10, 5044,    4,   28,   28,  506, 1049, 5190,    4,  653,  346,\n",
      "       4213, 7056,    5,  789, 3578,    4,    3,  205,    2,  227, 1037,\n",
      "         34, 1049, 5190,    4,  653,  346,   12,    6,  346,   10, 6484,\n",
      "       6485,    3,   16,   19,    2, 4692,  732,   26,    3,  205,    2,\n",
      "        486, 6812,    5,   10,   12, 3341,   41,  451,  732,  506, 4609,\n",
      "       1950,    3,  205,    2,  486, 1105,  415, 6316, 5045, 1167, 6484,\n",
      "       6484, 6485, 6485, 3197, 3197, 1742, 1627,  775,  732, 1037,   34,\n",
      "       1037,   34,  235, 3406, 2363,  981, 4886,  101,  346,   28, 6484,\n",
      "       6485,    3,   16,   19,    2, 4692,  732,   26,   56, 1132,    3,\n",
      "        205,    2,  297, 6812,    5,   12, 3341,   41,  451,  732,  506,\n",
      "       4609, 1950,   56, 1132,    3,  205,    2,  297, 1105,  415, 6316,\n",
      "       5045, 1167, 6484, 6484, 6485, 6485, 3197, 3197,    6,    3, 6015,\n",
      "          2,  227, 4532, 1705,  407, 2923, 1742, 1627,  775,  732, 1037,\n",
      "         34, 1037,   34,  235, 1092,  256, 4886,   40, 1742, 1627,  775,\n",
      "        732, 1037,   34, 1037,   34,  235,  197, 4886,  101,  346,  127,\n",
      "       6484, 6485,    3,   16,   19,    2, 4692,  732,   26,    3,  205,\n",
      "          2,  131, 6812,    5,   12, 4422,   41,   12,  732,  506, 4609,\n",
      "       1950,    3,  205,    2,  131, 1105,  415, 6316, 5045, 1167, 6484,\n",
      "       6484, 6485, 6485, 3197, 3197, 1742, 1627,  775,  732, 1037,   34,\n",
      "       1037,   34,  235,  231,  101,  346,  296, 6484, 6485,    3,   16,\n",
      "         19,    2, 4692,  732,   26,    3,  205,    2, 1888, 6812,    5,\n",
      "         12, 4422,   41,   12,  732,  506, 4609, 1950,    3,  205,    2,\n",
      "       1888, 1105,  415, 6316, 5045, 1167, 6484, 6484, 6485, 6485, 3197,\n",
      "       3197, 1742, 1627,  775,  732, 1037,   34, 1037,   34,  235, 1888,\n",
      "       1115,  787,  506, 1189,   10,  506, 1189,   12,    6,  346, 5044,\n",
      "          4,   12,   28, 1115,   53,    2, 2119, 7492,  709,   86, 6687,\n",
      "       4021, 5002,    4,  787,   53,    2, 2119, 7492,  709,   86, 5479,\n",
      "       6568,    4,    6,  346, 5044,    4,   12,   28, 1115,   53,    2,\n",
      "       2078, 3443, 1830, 1986,    2,  449,    6,   23,   20,   21, 1049,\n",
      "        630,   40, 1049, 2163, 1742,   23, 1665,    2, 2363, 7198, 5965,\n",
      "       3450,    4, 1049,  301,    1])>, 'inputs': <tf.Tensor: id=73, shape=(445,), dtype=int64, numpy=\n",
      "array([   7,  802,    2,  205,    3,   23,    0, 4128,   70,    0,  187,\n",
      "       4226,    0,    0, 4578, 4016,   58, 1049, 5044,    4,   67, 1742,\n",
      "       1049, 2311, 4128,    0, 4128,   70, 5044,    4,   10,  444, 4128,\n",
      "         70,    3,  205,    2,  146,   10,    3,  205,    2,  146,   12,\n",
      "        653, 4226, 5399,    0, 7013, 3401,    4, 3901, 1124,   28, 6551,\n",
      "       5044,    4,    0,   10,   12,  727,   10,    0,  446,    0,   12,\n",
      "        432,   10,  444, 3536,    0,    0, 3860, 4187, 4334,   10,    0,\n",
      "          2, 5779,    5,   12,    0,    4,  273,    0,    0,    5,   12,\n",
      "         10, 2572, 3197,  318, 4226, 2019,  782, 3197,    0,    2, 1535,\n",
      "        605,  743, 2464, 1017,    0,    0,   10,   13,  346,   11,    0,\n",
      "          0, 5044,    4,   28,   28,  506,    0, 5190,    4,  653,  346,\n",
      "       4213, 7056,    5,    0, 3578,    4,    3,  205,    2,  227, 1037,\n",
      "         34, 1049, 5190,    4,  653,  346,   12,    6,    0,   10, 6484,\n",
      "       6485,    0,   16,   19,    0, 4692,  732,   26,    3,  205,    0,\n",
      "        486, 6812,    5,   10,   12, 3341,   41,  451,  732,  506, 4609,\n",
      "       1950,    3,  205,    0,  486, 1105,  415, 6316, 5045, 1167, 6484,\n",
      "          0, 6485, 6485, 3197, 3197,    0, 1627,  775,  732, 1037,   34,\n",
      "       1037,   34,  235, 3406, 2363,  981, 4886,  101,  346,   28, 6484,\n",
      "       6485,    0,   16,   19,    2, 4692,  732,   26,   56, 1132,    0,\n",
      "        205,    2,  297, 6812,    5,   12, 3341,   41,  451,  732,  506,\n",
      "       4609, 1950,   56, 1132,    3,  205,    2,  297, 1105,  415, 6316,\n",
      "       5045, 1167, 6484, 6484, 6485, 6485,    0, 3197,    6,    3, 6015,\n",
      "          2,  227, 4532, 1705,  407, 2923, 1742, 1627,  775,    0, 1037,\n",
      "         34, 1037,   34,    0, 1092,  256, 4886,   40, 1742, 1627,  775,\n",
      "        732,    0,   34, 1037,    0,  235,  197, 4886,  101,  346,  127,\n",
      "       6484, 6485,    3,    0,   19,    2, 4692,  732,   26,    3,  205,\n",
      "          2,  131, 6812,    5,   12, 4422,   41,   12,    0,  506, 4609,\n",
      "       1950,    0,  205,    2,  131, 1105,  415, 6316, 5045, 1167, 6484,\n",
      "          0, 6485, 6485, 3197, 3197, 1742,    0,  775,  732, 1037,   34,\n",
      "       1037,   34,    0,  231,  101,  346,  296, 6484, 6485,    3,   16,\n",
      "         19,    2, 4692,  732,   26,    3,  205,    2, 1888, 6812,    5,\n",
      "          0, 4422,   41,   12,  732,  506, 4609,    0,    3,  205,    2,\n",
      "       1888, 1105,  415, 6316, 5045, 1167, 6484,    0, 6485, 6485,    0,\n",
      "       3197, 1742, 1627,  775,  732, 1037,   34, 1037,   34,  235, 1888,\n",
      "       1115,    0,  506, 1189,    0,  506, 1189,   12,    6,  346, 5044,\n",
      "          0,   12,   28, 1115,   53,    2, 2119, 7492,  709,   86, 6687,\n",
      "       4021,    0,    4,    0,   53,    2, 2119, 7492,  709,   86, 5479,\n",
      "       6568,    4,    6,  346, 5044,    4,   12,   28, 1115,   53,    2,\n",
      "       2078, 3443, 1830, 1986,    2,  449,    6,   23,   20,   21, 1049,\n",
      "        630,   40, 1049,    0, 1742,    0, 1665,    2,    0,    0, 5965,\n",
      "       3450,    4, 1049,  301,    1])>, 'embed_code': <tf.Tensor: id=72, shape=(1,), dtype=int64, numpy=array([0])>, 'docstring': <tf.Tensor: id=71, shape=(9,), dtype=int64, numpy=array([ 142,   17,  802, 1586, 2363,  981,  205,   18,    1])>, 'targets': <tf.Tensor: id=74, shape=(445,), dtype=int64, numpy=\n",
      "array([   7,  802,    2,  205,    3,   23,   21, 4128,   70,  258,  187,\n",
      "       4226,  187, 4226, 4578, 4016,   58, 1049, 5044,    4,   67, 1742,\n",
      "       1049, 2311, 4128,   70, 4128,   70, 5044,    4,   10,  444, 4128,\n",
      "         70,    3,  205,    2,  146,   10,    3,  205,    2,  146,   12,\n",
      "        653, 4226, 5399,  582, 7013, 3401,    4, 3901, 1124,   28, 6551,\n",
      "       5044,    4, 2644,   10,   12,  727,   10,  444,  446,   10,   12,\n",
      "        432,   10,  444, 3536, 4334,   10, 3860, 4187, 4334,   10,  424,\n",
      "          2, 5779,    5,   12, 5044,    4,  273,    2, 5779,    5,   12,\n",
      "         10, 2572, 3197,  318, 4226, 2019,  782, 3197,   53,    2, 1535,\n",
      "        605,  743, 2464, 1017,  407,   12,   10,   13,  346,   11,  147,\n",
      "         10, 5044,    4,   28,   28,  506, 1049, 5190,    4,  653,  346,\n",
      "       4213, 7056,    5,  789, 3578,    4,    3,  205,    2,  227, 1037,\n",
      "         34, 1049, 5190,    4,  653,  346,   12,    6,  346,   10, 6484,\n",
      "       6485,    3,   16,   19,    2, 4692,  732,   26,    3,  205,    2,\n",
      "        486, 6812,    5,   10,   12, 3341,   41,  451,  732,  506, 4609,\n",
      "       1950,    3,  205,    2,  486, 1105,  415, 6316, 5045, 1167, 6484,\n",
      "       6484, 6485, 6485, 3197, 3197, 1742, 1627,  775,  732, 1037,   34,\n",
      "       1037,   34,  235, 3406, 2363,  981, 4886,  101,  346,   28, 6484,\n",
      "       6485,    3,   16,   19,    2, 4692,  732,   26,   56, 1132,    3,\n",
      "        205,    2,  297, 6812,    5,   12, 3341,   41,  451,  732,  506,\n",
      "       4609, 1950,   56, 1132,    3,  205,    2,  297, 1105,  415, 6316,\n",
      "       5045, 1167, 6484, 6484, 6485, 6485, 3197, 3197,    6,    3, 6015,\n",
      "          2,  227, 4532, 1705,  407, 2923, 1742, 1627,  775,  732, 1037,\n",
      "         34, 1037,   34,  235, 1092,  256, 4886,   40, 1742, 1627,  775,\n",
      "        732, 1037,   34, 1037,   34,  235,  197, 4886,  101,  346,  127,\n",
      "       6484, 6485,    3,   16,   19,    2, 4692,  732,   26,    3,  205,\n",
      "          2,  131, 6812,    5,   12, 4422,   41,   12,  732,  506, 4609,\n",
      "       1950,    3,  205,    2,  131, 1105,  415, 6316, 5045, 1167, 6484,\n",
      "       6484, 6485, 6485, 3197, 3197, 1742, 1627,  775,  732, 1037,   34,\n",
      "       1037,   34,  235,  231,  101,  346,  296, 6484, 6485,    3,   16,\n",
      "         19,    2, 4692,  732,   26,    3,  205,    2, 1888, 6812,    5,\n",
      "         12, 4422,   41,   12,  732,  506, 4609, 1950,    3,  205,    2,\n",
      "       1888, 1105,  415, 6316, 5045, 1167, 6484, 6484, 6485, 6485, 3197,\n",
      "       3197, 1742, 1627,  775,  732, 1037,   34, 1037,   34,  235, 1888,\n",
      "       1115,  787,  506, 1189,   10,  506, 1189,   12,    6,  346, 5044,\n",
      "          4,   12,   28, 1115,   53,    2, 2119, 7492,  709,   86, 6687,\n",
      "       4021, 5002,    4,  787,   53,    2, 2119, 7492,  709,   86, 5479,\n",
      "       6568,    4,    6,  346, 5044,    4,   12,   28, 1115,   53,    2,\n",
      "       2078, 3443, 1830, 1986,    2,  449,    6,   23,   20,   21, 1049,\n",
      "        630,   40, 1049, 2163, 1742,   23, 1665,    2, 2363, 7198, 5965,\n",
      "       3450,    4, 1049,  301,    1])>}\n"
     ]
    }
   ],
   "source": [
    "\n",
    "train_dataset = mp_constrained_embedding.dataset(Modes.TRAIN, data_dir)\n",
    "ds = tfe.Iterator(train_dataset)\n",
    "print ds.next()\n"
   ]
  },
  {
   "cell_type": "markdown",
   "metadata": {},
   "source": [
    "### Model"
   ]
  },
  {
   "cell_type": "code",
   "execution_count": 9,
   "metadata": {},
   "outputs": [],
   "source": [
    "\n",
    "from tensor2tensor.models.transformer import Transformer\n",
    "from tk.models.similarity_transformer import similarity_cost\n",
    "\n",
    "@registry.register_model\n",
    "class ConstrainedEmbeddingTransformer(Transformer):\n",
    "\n",
    "  def body(self, features):\n",
    "    hparams = self._hparams\n",
    "    target_space = problem.SpaceID.EN_TOK\n",
    "\n",
    "    if self._hparams.mode == tf.estimator.ModeKeys.PREDICT:\n",
    "      encoded, _ = self.encode(features[\"predictme\"], target_space, hparams,\n",
    "                               features=features)\n",
    "      return tf.reduce_mean(encoded, axis=1), {\"training\": 0.0}\n",
    "  \n",
    "    features_alt = {\"inputs\":features[\"docstring\"], \"targets\":features[\"code\"]}\n",
    "    features_alt = self.bottom(features_alt)\n",
    "\n",
    "    string_embedding, _ = self.encode(features_alt[\"inputs\"], target_space, hparams,\n",
    "                                      features=features_alt)\n",
    "    string_embedding = tf.reduce_mean(string_embedding, axis=1)\n",
    "    code_embedding, _ = self.encode(features_alt[\"targets\"], target_space, hparams,\n",
    "                                    features=features_alt)\n",
    "    code_embedding = tf.reduce_mean(code_embedding, axis=1)\n",
    "    \n",
    "    sc = similarity_cost(string_embedding, code_embedding, self.hparams.loss_variant)\n",
    "\n",
    "    ret = super(ConstrainedEmbeddingTransformer, self).body(features)\n",
    "\n",
    "    if isinstance(ret, tf.Tensor) or isinstance(ret, tf.EagerTensor):\n",
    "      return ret, {\"similarity\": sc}\n",
    "    elif isinstance(ret, tuple):\n",
    "      if not isinstance(ret[1], dict):\n",
    "        raise ValueError(\"Unexpected second type in superclass body return.\")\n",
    "      ret[1][\"similarity\"] = sc\n",
    "      return ret\n"
   ]
  },
  {
   "cell_type": "markdown",
   "metadata": {},
   "source": [
    "#### Model testing\n",
    "\n",
    "Let's verify our model trains with tfe as implemented."
   ]
  },
  {
   "cell_type": "code",
   "execution_count": 10,
   "metadata": {},
   "outputs": [
    {
     "name": "stdout",
     "output_type": "stream",
     "text": [
      "INFO:tensorflow:Setting T2TModel mode to 'train'\n"
     ]
    },
    {
     "name": "stderr",
     "output_type": "stream",
     "text": [
      "[2018-10-16 20:31:29,234] Setting T2TModel mode to 'train'\n"
     ]
    },
    {
     "name": "stdout",
     "output_type": "stream",
     "text": [
      "INFO:tensorflow:Reading data files from /mnt/nfs-east1-d/data/github_function_docstring-train*\n"
     ]
    },
    {
     "name": "stderr",
     "output_type": "stream",
     "text": [
      "[2018-10-16 20:31:29,238] Reading data files from /mnt/nfs-east1-d/data/github_function_docstring-train*\n"
     ]
    },
    {
     "name": "stdout",
     "output_type": "stream",
     "text": [
      "INFO:tensorflow:partition: 0 num_data_files: 100\n"
     ]
    },
    {
     "name": "stderr",
     "output_type": "stream",
     "text": [
      "[2018-10-16 20:31:29,253] partition: 0 num_data_files: 100\n"
     ]
    }
   ],
   "source": [
    "\n",
    "hparams = similarity_transformer.similarity_transformer_tiny()\n",
    "hparams.data_dir = data_dir\n",
    "\n",
    "p_hparams = mp_constrained_embedding.get_hparams(hparams)\n",
    "\n",
    "model = ConstrainedEmbeddingTransformer(\n",
    "    hparams, tf.estimator.ModeKeys.TRAIN, p_hparams\n",
    ")\n",
    "\n",
    "batch_size = 1\n",
    "train_dataset = mp_constrained_embedding.dataset(Modes.TRAIN, data_dir)\n",
    "train_dataset = train_dataset.repeat(None).batch(batch_size)\n",
    "\n",
    "optimizer = tf.train.AdamOptimizer()\n"
   ]
  },
  {
   "cell_type": "code",
   "execution_count": 11,
   "metadata": {},
   "outputs": [
    {
     "name": "stdout",
     "output_type": "stream",
     "text": [
      "INFO:tensorflow:Transforming feature 'inputs' with symbol_modality_8185_128.bottom\n"
     ]
    },
    {
     "name": "stderr",
     "output_type": "stream",
     "text": [
      "[2018-10-16 20:31:30,063] Transforming feature 'inputs' with symbol_modality_8185_128.bottom\n"
     ]
    },
    {
     "name": "stdout",
     "output_type": "stream",
     "text": [
      "INFO:tensorflow:Transforming 'targets' with symbol_modality_8185_128.targets_bottom\n"
     ]
    },
    {
     "name": "stderr",
     "output_type": "stream",
     "text": [
      "[2018-10-16 20:31:30,279] Transforming 'targets' with symbol_modality_8185_128.targets_bottom\n"
     ]
    },
    {
     "name": "stdout",
     "output_type": "stream",
     "text": [
      "INFO:tensorflow:Building model body\n"
     ]
    },
    {
     "name": "stderr",
     "output_type": "stream",
     "text": [
      "[2018-10-16 20:31:30,286] Building model body\n"
     ]
    },
    {
     "name": "stdout",
     "output_type": "stream",
     "text": [
      "INFO:tensorflow:Transforming body output with symbol_modality_8185_128.top\n"
     ]
    },
    {
     "name": "stderr",
     "output_type": "stream",
     "text": [
      "[2018-10-16 20:31:30,638] Transforming body output with symbol_modality_8185_128.top\n"
     ]
    },
    {
     "name": "stdout",
     "output_type": "stream",
     "text": [
      "Step: 0, Loss: 8.026\n",
      "Step: 1, Loss: 8.169\n",
      "Step: 2, Loss: 6.905\n",
      "Step: 3, Loss: 6.841\n",
      "Step: 4, Loss: 8.014\n",
      "Step: 5, Loss: 7.501\n",
      "Step: 6, Loss: 7.102\n",
      "Step: 7, Loss: 6.911\n",
      "Step: 8, Loss: 7.617\n",
      "Step: 9, Loss: 7.953\n",
      "Step: 10, Loss: 6.856\n"
     ]
    }
   ],
   "source": [
    "\n",
    "@tfe.implicit_value_and_gradients\n",
    "def loss_fn(features):\n",
    "  _, losses = model(features)\n",
    "  return losses[\"training\"]\n",
    "\n",
    "NUM_STEPS = 10\n",
    "\n",
    "for count, example in enumerate(tfe.Iterator(train_dataset)):\n",
    "  loss, gv = loss_fn(example)\n",
    "  optimizer.apply_gradients(gv)\n",
    "\n",
    "  if count % 1 == 0:\n",
    "   print(\"Step: %d, Loss: %.3f\" % (count, loss.numpy()))\n",
    "  if count >= NUM_STEPS:\n",
    "   break\n"
   ]
  },
  {
   "cell_type": "markdown",
   "metadata": {},
   "source": [
    "## Training"
   ]
  },
  {
   "cell_type": "code",
   "execution_count": 1,
   "metadata": {},
   "outputs": [],
   "source": [
    "from tk.experiment import configure_experiment, T2TExperiment\n",
    "\n",
    "from tk.allen_demo import event_data_for_comparison, show_experiment_loss\n",
    "%matplotlib inline\n"
   ]
  },
  {
   "cell_type": "code",
   "execution_count": 15,
   "metadata": {},
   "outputs": [
    {
     "name": "stdout",
     "output_type": "stream",
     "text": [
      "train_args:\n",
      "{'data_dir': '/mnt/nfs-east1-d/data',\n",
      " 'dbgprofile': False,\n",
      " 'hparams': \"''\",\n",
      " 'hparams_set': 'similarity_transformer_tiny',\n",
      " 'log_device_placement': False,\n",
      " 'model': 'constrained_embedding_transformer',\n",
      " 'output_dir': 'gs://kubeflow-rl-checkpoints/comparisons/cs-ce3/cs-ce3-j1016-2037-f912/output',\n",
      " 'problem': 'github_constrained_embedding',\n",
      " 'profile': False,\n",
      " 'ps_gpu': 1,\n",
      " 'save_checkpoints_secs': 1800,\n",
      " 'schedule': 'train',\n",
      " 'ssd_mount_path': '/mnt/disks/ssd0',\n",
      " 't2t_usr_dir': 'gs://kubeflow-rl-checkpoints/comparisons/cs-ce3/cs-ce3-j1016-2037-f912/tk',\n",
      " 'train_steps': 10000,\n",
      " 'worker_gpu': 1,\n",
      " 'worker_gpu_memory_fraction': 0.95}\n"
     ]
    }
   ],
   "source": [
    "\n",
    "args = configure_experiment(\"cs-ce3\",\n",
    "                             problem=\"github_constrained_embedding\",\n",
    "                             hparams_set=\"similarity_transformer_tiny\",\n",
    "                             model=\"constrained_embedding_transformer\",\n",
    "                             extra_hparams={\n",
    "                             },\n",
    "                             num_gpu_per_worker=1,\n",
    "                             num_steps=10000)\n",
    "\n",
    "job = T2TExperiment(**args)\n",
    "job.run()\n"
   ]
  },
  {
   "cell_type": "code",
   "execution_count": 6,
   "metadata": {},
   "outputs": [
    {
     "name": "stdout",
     "output_type": "stream",
     "text": [
      "INFO:tensorflow:Identifying event files in experiment subdirectories...\n"
     ]
    },
    {
     "name": "stderr",
     "output_type": "stream",
     "text": [
      "[2018-10-16 20:58:19,545] Identifying event files in experiment subdirectories...\n"
     ]
    },
    {
     "name": "stdout",
     "output_type": "stream",
     "text": [
      "INFO:tensorflow:Processing experiment events (1 of 1)\n"
     ]
    },
    {
     "name": "stderr",
     "output_type": "stream",
     "text": [
      "[2018-10-16 20:58:20,649] Processing experiment events (1 of 1)\n"
     ]
    },
    {
     "name": "stdout",
     "output_type": "stream",
     "text": [
      "INFO:tensorflow:Finished loading event data for comparison.\n"
     ]
    },
    {
     "name": "stderr",
     "output_type": "stream",
     "text": [
      "[2018-10-16 20:58:21,369] Finished loading event data for comparison.\n"
     ]
    },
    {
     "data": {
      "image/png": "[encoded data removed]",
      "text/plain": [
       "<Figure size 1200x480 with 1 Axes>"
      ]
     },
     "metadata": {},
     "output_type": "display_data"
    }
   ],
   "source": [
    "experiment_data = event_data_for_comparison(\"gs://kubeflow-rl-checkpoints/comparisons/cs-ce3*\")\n",
    "show_experiment_loss(experiment_data)"
   ]
  },
  {
   "cell_type": "markdown",
   "metadata": {},
   "source": [
    "## Multi-gpu training"
   ]
  },
  {
   "cell_type": "code",
   "execution_count": 16,
   "metadata": {},
   "outputs": [
    {
     "name": "stdout",
     "output_type": "stream",
     "text": [
      "train_args:\n",
      "{'data_dir': '/mnt/nfs-east1-d/data',\n",
      " 'dbgprofile': False,\n",
      " 'hparams': \"''\",\n",
      " 'hparams_set': 'similarity_transformer_tiny',\n",
      " 'log_device_placement': False,\n",
      " 'model': 'constrained_embedding_transformer',\n",
      " 'output_dir': 'gs://kubeflow-rl-checkpoints/comparisons/cs-gpu4/cs-gpu4-j1016-2046-f235/output',\n",
      " 'problem': 'github_constrained_embedding',\n",
      " 'profile': False,\n",
      " 'ps_gpu': 1,\n",
      " 'save_checkpoints_secs': 1800,\n",
      " 'schedule': 'train',\n",
      " 'ssd_mount_path': '/mnt/disks/ssd0',\n",
      " 't2t_usr_dir': 'gs://kubeflow-rl-checkpoints/comparisons/cs-gpu4/cs-gpu4-j1016-2046-f235/tk',\n",
      " 'train_steps': 10000,\n",
      " 'worker_gpu': 4,\n",
      " 'worker_gpu_memory_fraction': 0.95}\n"
     ]
    }
   ],
   "source": [
    "\n",
    "args = configure_experiment(\"cs-gpu4\",\n",
    "                             problem=\"github_constrained_embedding\",\n",
    "                             hparams_set=\"similarity_transformer_tiny\",\n",
    "                             model=\"constrained_embedding_transformer\",\n",
    "                             extra_hparams={\n",
    "                             },\n",
    "                             num_gpu_per_worker=4,\n",
    "                             num_steps=10000)\n",
    "\n",
    "job = T2TExperiment(**args)\n",
    "job.run()\n"
   ]
  },
  {
   "cell_type": "code",
   "execution_count": 3,
   "metadata": {},
   "outputs": [
    {
     "name": "stdout",
     "output_type": "stream",
     "text": [
      "INFO:tensorflow:Identifying event files in experiment subdirectories...\n"
     ]
    },
    {
     "name": "stderr",
     "output_type": "stream",
     "text": [
      "[2018-10-16 21:06:49,480] Identifying event files in experiment subdirectories...\n"
     ]
    },
    {
     "name": "stdout",
     "output_type": "stream",
     "text": [
      "INFO:tensorflow:Processing experiment events (1 of 1)\n"
     ]
    },
    {
     "name": "stderr",
     "output_type": "stream",
     "text": [
      "[2018-10-16 21:06:50,593] Processing experiment events (1 of 1)\n"
     ]
    },
    {
     "name": "stdout",
     "output_type": "stream",
     "text": [
      "INFO:tensorflow:Finished loading event data for comparison.\n"
     ]
    },
    {
     "name": "stderr",
     "output_type": "stream",
     "text": [
      "[2018-10-16 21:06:51,819] Finished loading event data for comparison.\n"
     ]
    },
    {
     "data": {
      "image/png": "[encoded data removed]",
      "text/plain": [
       "<Figure size 1200x480 with 1 Axes>"
      ]
     },
     "metadata": {},
     "output_type": "display_data"
    }
   ],
   "source": [
    "experiment_data = event_data_for_comparison(\"gs://kubeflow-rl-checkpoints/comparisons/cs-gpu4*\")\n",
    "show_experiment_loss(experiment_data)"
   ]
  },
  {
   "cell_type": "code",
   "execution_count": null,
   "metadata": {},
   "outputs": [],
   "source": [
    "Seeing containers restarting around the same step number ..."
   ]
  },
  {
   "cell_type": "markdown",
   "metadata": {},
   "source": [
    "## Distributed training"
   ]
  },
  {
   "cell_type": "code",
   "execution_count": 5,
   "metadata": {},
   "outputs": [
    {
     "name": "stderr",
     "output_type": "stream",
     "text": [
      "[2018-10-16 21:12:43,870] /mnt/nfs-east1-d/work/tk\n",
      "[2018-10-16 21:12:43,913] /mnt/nfs-east1-d/work/tk\n"
     ]
    },
    {
     "name": "stdout",
     "output_type": "stream",
     "text": [
      "train_args:\n",
      "{'data_dir': '/mnt/nfs-east1-d/data',\n",
      " 'dbgprofile': False,\n",
      " 'hparams': \"''\",\n",
      " 'hparams_set': 'similarity_transformer_tiny',\n",
      " 'log_device_placement': False,\n",
      " 'model': 'constrained_embedding_transformer',\n",
      " 'output_dir': 'gs://kubeflow-rl-checkpoints/comparisons/cs-dist/cs-dist-j1016-2112-6e89/output',\n",
      " 'problem': 'github_constrained_embedding',\n",
      " 'profile': False,\n",
      " 'ps_gpu': 1,\n",
      " 'save_checkpoints_secs': 1800,\n",
      " 'schedule': 'train_and_evaluate',\n",
      " 'ssd_mount_path': '/mnt/disks/ssd0',\n",
      " 't2t_usr_dir': 'gs://kubeflow-rl-checkpoints/comparisons/cs-dist/cs-dist-j1016-2112-6e89/tk',\n",
      " 'train_steps': 10000,\n",
      " 'worker_gpu': 1,\n",
      " 'worker_gpu_memory_fraction': 0.95}\n"
     ]
    },
    {
     "name": "stderr",
     "output_type": "stream",
     "text": [
      "[2018-10-16 21:12:52,391] smoke: True\n"
     ]
    }
   ],
   "source": [
    "\n",
    "args = configure_experiment(\"cs-dist\",\n",
    "                             problem=\"github_constrained_embedding\",\n",
    "                             hparams_set=\"similarity_transformer_tiny\",\n",
    "                             model=\"constrained_embedding_transformer\",\n",
    "                             extra_hparams={\n",
    "                             },\n",
    "                             num_gpu_per_worker=1,\n",
    "                             num_steps=10000,\n",
    "                             num_ps=4,\n",
    "                             schedule=\"train_and_evaluate\")\n",
    "\n",
    "job = T2TExperiment(**args)\n",
    "job.run()\n"
   ]
  },
  {
   "cell_type": "code",
   "execution_count": null,
   "metadata": {},
   "outputs": [],
   "source": [
    "fails with error \n",
    "\n",
    "INFO:tensorflow:worker_gpu=0\n",
    "INFO:tensorflow:sync=True\n",
    "Traceback (most recent call last):\n",
    "  File \"/usr/lib/python2.7/runpy.py\", line 174, in _run_module_as_main\n",
    "    \"__main__\", fname, loader, pkg_name)\n",
    "  File \"/usr/lib/python2.7/runpy.py\", line 72, in _run_code\n",
    "    exec code in run_globals\n",
    "  File \"/mnt/nfs-east1-d/comparisons/cs-dist/cs-dist-j1016-2112-6e89/tk/experiment.py\", line 400, in <module>\n",
    "    tf.app.run()\n",
    "  File \"/usr/local/lib/python2.7/dist-packages/tensorflow/python/platform/app.py\", line 125, in run\n",
    "    _sys.exit(main(argv))\n",
    "  File \"/mnt/nfs-east1-d/comparisons/cs-dist/cs-dist-j1016-2112-6e89/tk/experiment.py\", line 395, in main\n",
    "    trainer_main(None)\n",
    "  File \"/mnt/nfs-east1-d/comparisons/cs-dist/cs-dist-j1016-2112-6e89/vendor/tensor2tensor/tensor2tensor/bin/t2t_trainer.py\", line 354, in main\n",
    "    exp = exp_fn(create_run_config(hparams), hparams)\n",
    "  File \"/mnt/nfs-east1-d/comparisons/cs-dist/cs-dist-j1016-2112-6e89/vendor/tensor2tensor/tensor2tensor/bin/t2t_trainer.py\", line 227, in create_run_config\n",
    "    intra_op_parallelism_threads=FLAGS.intra_op_parallelism_threads)\n",
    "  File \"/mnt/nfs-east1-d/comparisons/cs-dist/cs-dist-j1016-2112-6e89/vendor/tensor2tensor/tensor2tensor/utils/trainer_lib.py\", line 171, in create_run_config\n",
    "    no_data_parallelism=no_data_parallelism)\n",
    "  File \"/mnt/nfs-east1-d/comparisons/cs-dist/cs-dist-j1016-2112-6e89/vendor/tensor2tensor/tensor2tensor/utils/devices.py\", line 137, in data_parallelism\n",
    "    assert not sync\n",
    "AssertionError"
   ]
  },
  {
   "cell_type": "code",
   "execution_count": 6,
   "metadata": {},
   "outputs": [
    {
     "name": "stderr",
     "output_type": "stream",
     "text": [
      "[2018-10-16 21:15:24,949] /mnt/nfs-east1-d/work/tk\n",
      "[2018-10-16 21:15:24,959] /mnt/nfs-east1-d/work/tk\n"
     ]
    },
    {
     "name": "stdout",
     "output_type": "stream",
     "text": [
      "train_args:\n",
      "{'data_dir': '/mnt/nfs-east1-d/data',\n",
      " 'dbgprofile': False,\n",
      " 'hparams': \"''\",\n",
      " 'hparams_set': 'similarity_transformer_tiny',\n",
      " 'log_device_placement': False,\n",
      " 'model': 'constrained_embedding_transformer',\n",
      " 'output_dir': 'gs://kubeflow-rl-checkpoints/comparisons/cs-dist-tr/cs-dist-tr-j1016-2115-ca9f/output',\n",
      " 'problem': 'github_constrained_embedding',\n",
      " 'profile': False,\n",
      " 'ps_gpu': 1,\n",
      " 'save_checkpoints_secs': 1800,\n",
      " 'schedule': 'train',\n",
      " 'ssd_mount_path': '/mnt/disks/ssd0',\n",
      " 't2t_usr_dir': 'gs://kubeflow-rl-checkpoints/comparisons/cs-dist-tr/cs-dist-tr-j1016-2115-ca9f/tk',\n",
      " 'train_steps': 10000,\n",
      " 'worker_gpu': 1,\n",
      " 'worker_gpu_memory_fraction': 0.95}\n"
     ]
    },
    {
     "name": "stderr",
     "output_type": "stream",
     "text": [
      "[2018-10-16 21:15:36,075] smoke: True\n"
     ]
    }
   ],
   "source": [
    "\n",
    "args = configure_experiment(\"cs-dist-tr\",\n",
    "                             problem=\"github_constrained_embedding\",\n",
    "                             hparams_set=\"similarity_transformer_tiny\",\n",
    "                             model=\"constrained_embedding_transformer\",\n",
    "                             extra_hparams={\n",
    "                             },\n",
    "                             num_gpu_per_worker=1,\n",
    "                             num_steps=10000,\n",
    "                             num_ps=4,\n",
    "                             schedule=\"train\")\n",
    "\n",
    "job = T2TExperiment(**args)\n",
    "job.run()\n"
   ]
  },
  {
   "cell_type": "code",
   "execution_count": 7,
   "metadata": {},
   "outputs": [
    {
     "name": "stdout",
     "output_type": "stream",
     "text": [
      "INFO:tensorflow:Identifying event files in experiment subdirectories...\n"
     ]
    },
    {
     "name": "stderr",
     "output_type": "stream",
     "text": [
      "[2018-10-16 21:26:32,640] Identifying event files in experiment subdirectories...\n"
     ]
    },
    {
     "name": "stdout",
     "output_type": "stream",
     "text": [
      "INFO:tensorflow:Processing experiment events (1 of 1)\n"
     ]
    },
    {
     "name": "stderr",
     "output_type": "stream",
     "text": [
      "[2018-10-16 21:26:33,825] Processing experiment events (1 of 1)\n"
     ]
    },
    {
     "name": "stdout",
     "output_type": "stream",
     "text": [
      "INFO:tensorflow:Finished loading event data for comparison.\n"
     ]
    },
    {
     "name": "stderr",
     "output_type": "stream",
     "text": [
      "[2018-10-16 21:26:37,608] Finished loading event data for comparison.\n"
     ]
    },
    {
     "data": {
      "image/png": "[encoded data removed]",
      "text/plain": [
       "<Figure size 1200x480 with 1 Axes>"
      ]
     },
     "metadata": {},
     "output_type": "display_data"
    }
   ],
   "source": [
    "experiment_data = event_data_for_comparison(\"gs://kubeflow-rl-checkpoints/comparisons/cs-dist-tr*\")\n",
    "show_experiment_loss(experiment_data)"
   ]
  },
  {
   "cell_type": "markdown",
   "metadata": {},
   "source": [
    "My guess is that it is indeed using all of the workers because the loss curve looks much smoother than that of the single gpu condition. I am not clear on why the 4x gpu condition isn't smoother as well though (perhaps it's misconfigured)."
   ]
  }
 ],
 "metadata": {
  "kernelspec": {
   "display_name": "Python 2",
   "language": "python",
   "name": "python2"
  },
  "language_info": {
   "codemirror_mode": {
    "name": "ipython",
    "version": 2
   },
   "file_extension": ".py",
   "mimetype": "text/x-python",
   "name": "python",
   "nbconvert_exporter": "python",
   "pygments_lexer": "ipython2",
   "version": "2.7.14"
  }
 },
 "nbformat": 4,
 "nbformat_minor": 2
}
